{
 "cells": [
  {
   "cell_type": "markdown",
   "id": "33807d57",
   "metadata": {},
   "source": [
    "\n",
    "## Cross Entropy example\n",
    "\n",
    "* Entropy is a mathematical idea describing uncertainty\n",
    "* Given a very biased coin with both sides having a head, the probability of getting a head is 100%\n",
    "* Similarly, the chance of getting a tail is 0\n",
    "* In both cases we are 100% certain of the outcome\n",
    "* The uncertainty is  0 and, therefore, we can say that Entropy is 0\n"
   ]
  },
  {
   "cell_type": "markdown",
   "id": "09c523ba",
   "metadata": {},
   "source": [
    "\n",
    "* Given a fair coin, with head on one side and tail on the other side, we have reached the maximum uncertainty about the outcome\n",
    "* and the entropy is highest\n",
    "* the entropy formula is\n",
    "\n",
    "$$\n",
    "     entropy = \\sum -p \\cdot ln(p)\n",
    "$$\n",
    "\n",
    "* the sum is over all potential outcomes\n",
    "* and p is the probability of those outcomes\n",
    "\n"
   ]
  },
  {
   "cell_type": "code",
   "execution_count": 69,
   "id": "400884f1",
   "metadata": {},
   "outputs": [],
   "source": [
    "\n",
    "import matplotlib.pyplot as plt\n",
    "import numpy as np\n",
    "\n",
    "np.set_printoptions(suppress=True)\n"
   ]
  },
  {
   "cell_type": "code",
   "execution_count": 70,
   "id": "e763eea9",
   "metadata": {},
   "outputs": [],
   "source": [
    "\n",
    "def entropy_fn( p ):\n",
    "    if p<=0 or p>=1:\n",
    "        return 0\n",
    "    return -p * np.log2(p) - (1-p)*np.log2(1-p)\n"
   ]
  },
  {
   "cell_type": "code",
   "execution_count": 71,
   "id": "128f4bf6",
   "metadata": {},
   "outputs": [
    {
     "name": "stdout",
     "output_type": "stream",
     "text": [
      "[-2.  -1.9 -1.8 -1.7 -1.6 -1.5 -1.4 -1.3 -1.2 -1.1 -1.  -0.9 -0.8 -0.7\n",
      " -0.6 -0.5 -0.4 -0.3 -0.2 -0.1  0.   0.1  0.2  0.3  0.4  0.5  0.6  0.7\n",
      "  0.8  0.9  1.   1.1  1.2  1.3  1.4  1.5  1.6  1.7  1.8  1.9]\n",
      "[0, 0, 0, 0, 0, 0, 0, 0, 0, 0, 0, 0, 0, 0, 0, 0, 0, 0, 0, 0, 8.960422633366421e-14, 0.4689955935892871, 0.7219280948873663, 0.8812908992306951, 0.9709505944546699, 1.0, 0.9709505944546672, 0.8812908992306896, 0.7219280948873574, 0.468995593589273, 0, 0, 0, 0, 0, 0, 0, 0, 0, 0]\n"
     ]
    },
    {
     "data": {
      "image/png": "[encoded data removed]",
      "text/plain": [
       "<Figure size 640x480 with 1 Axes>"
      ]
     },
     "metadata": {},
     "output_type": "display_data"
    }
   ],
   "source": [
    "\n",
    "\n",
    "xs = np.arange(-2,2,0.1)\n",
    "ys = [ entropy_fn(i) for i in xs ]\n",
    "print(xs)\n",
    "print(ys)\n",
    "\n",
    "plt.plot(xs, ys)\n",
    "plt.ylabel(\"Entropy\")\n",
    "plt.xlabel(\"Probability of a Head\")\n",
    "plt.xlim(-1, 2)\n",
    "plt.ylim(0, 2)\n",
    "plt.show()\n"
   ]
  },
  {
   "cell_type": "markdown",
   "id": "f9938dfb",
   "metadata": {},
   "source": [
    "\n",
    "* the top has the least certainty\n",
    "* at y = 0 you have the most certainty\n",
    "* where both sides are head and p(head)= 1, then uncertainty is 0\n",
    "* when both sides of coin are tail and p(tail)=0, then uncertainty is 0\n",
    "* the entropy is highest when the coin is fair and p(head)=0.5\n"
   ]
  },
  {
   "cell_type": "markdown",
   "id": "7d0d688a",
   "metadata": {},
   "source": [
    "\n",
    "## Example 1\n",
    "\n",
    "* calculate entropy for coin with both sides as head\n",
    "* so p(head)=1 and p(tail)=0\n",
    "\n",
    "$$\n",
    "     entropy = \\sum -p \\cdot ln(p)\n",
    "$$\n",
    "\n",
    "$$\n",
    "     entropy = -1 \\cdot ln(1) - 0 \\cdot ln(0)\n",
    "$$\n",
    "\n",
    "$$\n",
    "     entropy = 0\n",
    "$$\n"
   ]
  },
  {
   "cell_type": "markdown",
   "id": "50ac404b",
   "metadata": {},
   "source": [
    "\n",
    "## Example 2\n",
    "\n",
    "* Entropy of fair coin so that p(Head)=0.5 and p(Tail)=0.5\n",
    "* has highest entropy and maximum uncertainty \n",
    "\n",
    "$$\n",
    "     entropy = \\sum -p \\cdot ln(p)\n",
    "$$\n",
    "\n",
    "$$\n",
    "     entropy = -0.5 \\cdot ln(0.5) - 0.5 \\cdot ln(0.5)\n",
    "$$\n",
    "\n",
    "$$\n",
    "     entropy = 0\n",
    "$$\n",
    "\n"
   ]
  },
  {
   "cell_type": "code",
   "execution_count": 72,
   "id": "2935f19a",
   "metadata": {},
   "outputs": [
    {
     "data": {
      "text/plain": [
       "1.0"
      ]
     },
     "execution_count": 72,
     "metadata": {},
     "output_type": "execute_result"
    }
   ],
   "source": [
    "\n",
    "p_ex2 = 0.5\n",
    "Entropy_ex2 = entropy_fn( p_ex2 )\n",
    "Entropy_ex2\n"
   ]
  },
  {
   "cell_type": "markdown",
   "id": "633b5ca5",
   "metadata": {},
   "source": [
    "\n",
    "## Cross Entropy\n",
    "\n",
    "* can be considered a measure of the uncertainty of outcomes due to a mismatch between actual likelihood of outcomes and what we think this likelihood is\n",
    "* Consider:\n",
    "* if we think a coin is fair, but it is not, then we will be surprised by the outcome\n",
    "* there will be uncertainty about that outcome\n",
    "* if you think the coin is fair, and it is indeed fair, then you will not be surprised. As such, it will have a low entropy\n",
    "* So we think of cross entropy as a comparison between 2 probability distributions\n",
    "* The more they match, the lower the cross entropy\n",
    "* An excat match is equal to 0 cross entropy\n",
    "* In NNs, the pred outputs are a probability distribution, and the real outputs are also a probability distribution\n",
    "\n"
   ]
  },
  {
   "cell_type": "markdown",
   "id": "d6bf1f18",
   "metadata": {},
   "source": [
    "\n",
    "## Cross Entropy\n",
    "\n",
    "$$\n",
    "     cross \\space entropy = \\sum -yReal \\cdot ln(yPred)\n",
    "$$\n"
   ]
  },
  {
   "cell_type": "markdown",
   "id": "c98cea35",
   "metadata": {},
   "source": [
    "\n",
    "## Example\n",
    "\n",
    "* yPred=0.9 but yReal=1\n",
    "\n",
    "$$\n",
    "     cross \\space entropy =  -1 \\cdot ln(0.9) - (1-1) \\cdot ln(0.1)\n",
    "$$\n",
    "\n",
    "$$\n",
    "    cross \\space entropy = 0.105\n",
    "$$ \n",
    "\n"
   ]
  },
  {
   "cell_type": "markdown",
   "id": "8ecd9039",
   "metadata": {},
   "source": [
    "\n",
    "## The opposite case Example\n",
    "\n",
    "* yPred=0.1 but yReal=1\n",
    "\n",
    "$$\n",
    "     cross \\space entropy =  -1 \\cdot ln(0.1) - (1-1) \\cdot ln(0.9)\n",
    "$$\n",
    "\n",
    "$$\n",
    "    cross \\space entropy = 2.303\n",
    "$$ \n",
    "\n",
    "\n"
   ]
  },
  {
   "cell_type": "markdown",
   "id": "a0cf1f9b",
   "metadata": {},
   "source": [
    "\n",
    "## The Graphs for real = 1\n"
   ]
  },
  {
   "cell_type": "code",
   "execution_count": 73,
   "id": "15ba0cce",
   "metadata": {},
   "outputs": [
    {
     "name": "stdout",
     "output_type": "stream",
     "text": [
      "[-2.  -1.9 -1.8 -1.7 -1.6 -1.5 -1.4 -1.3 -1.2 -1.1 -1.  -0.9 -0.8 -0.7\n",
      " -0.6 -0.5 -0.4 -0.3 -0.2 -0.1  0.   0.1  0.2  0.3  0.4  0.5  0.6  0.7\n",
      "  0.8  0.9  1.   1.1  1.2  1.3  1.4  1.5  1.6  1.7  1.8  1.9]\n",
      "[nan, nan, nan, nan, nan, nan, nan, nan, nan, nan, nan, nan, nan, nan, nan, nan, nan, nan, nan, nan, 49.0, 3.3219280948873355, 2.3219280948873484, 1.7369655941661963, 1.3219280948873546, 0.9999999999999936, 0.7369655941662007, 0.5145731728297533, 0.32192809488735785, 0.15200309344504587, nan, nan, nan, nan, nan, nan, nan, nan, nan, nan]\n"
     ]
    },
    {
     "name": "stderr",
     "output_type": "stream",
     "text": [
      "/Users/user/opt/anaconda3/envs/py37_information_theory/lib/python3.7/site-packages/ipykernel_launcher.py:4: RuntimeWarning: invalid value encountered in log2\n",
      "  after removing the cwd from sys.path.\n"
     ]
    },
    {
     "data": {
      "image/png": "[encoded data removed]",
      "text/plain": [
       "<Figure size 640x480 with 1 Axes>"
      ]
     },
     "metadata": {},
     "output_type": "display_data"
    }
   ],
   "source": [
    "\n",
    "def entropy_fn_real_or_pred( real, pred ):\n",
    "    ## if pred<0 or pred>1:\n",
    "    ##     return 0\n",
    "    return -real * np.log2(pred) - (1-real)*np.log2(1-pred)\n",
    "\n",
    "\n",
    "xs = np.arange(-2,2,0.1)\n",
    "ys = [ entropy_fn_real_or_pred( 1, i) for i in xs ]\n",
    "print(xs)\n",
    "print(ys)\n",
    "\n",
    "plt.plot(xs, ys)\n",
    "plt.ylabel(\"Entropy\")\n",
    "plt.xlabel(\"Probability of a Head\")\n",
    "plt.xlim(-0.5, 1.5)\n",
    "plt.ylim(0, 50)\n",
    "plt.show()\n",
    "\n"
   ]
  },
  {
   "cell_type": "markdown",
   "id": "b62f2011",
   "metadata": {},
   "source": [
    "\n",
    "\n",
    "## The Graphs for real = 0\n"
   ]
  },
  {
   "cell_type": "code",
   "execution_count": 74,
   "id": "fb58fee3",
   "metadata": {},
   "outputs": [
    {
     "name": "stdout",
     "output_type": "stream",
     "text": [
      "[-2.  -1.9 -1.8 -1.7 -1.6 -1.5 -1.4 -1.3 -1.2 -1.1 -1.  -0.9 -0.8 -0.7\n",
      " -0.6 -0.5 -0.4 -0.3 -0.2 -0.1  0.   0.1  0.2  0.3  0.4  0.5  0.6  0.7\n",
      "  0.8  0.9  1.   1.1  1.2  1.3  1.4  1.5  1.6  1.7  1.8  1.9]\n",
      "[nan, nan, nan, nan, nan, nan, nan, nan, nan, nan, nan, nan, nan, nan, nan, nan, nan, nan, nan, nan, 2.5627412030519365e-15, 0.15200309344505297, 0.32192809488736585, 0.5145731728297624, 0.7369655941662113, 1.0000000000000064, 1.3219280948873706, 1.7369655941662177, 2.3219280948873804, 3.3219280948873995, nan, nan, nan, nan, nan, nan, nan, nan, nan, nan]\n"
     ]
    },
    {
     "name": "stderr",
     "output_type": "stream",
     "text": [
      "/Users/user/opt/anaconda3/envs/py37_information_theory/lib/python3.7/site-packages/ipykernel_launcher.py:4: RuntimeWarning: invalid value encountered in log2\n",
      "  after removing the cwd from sys.path.\n"
     ]
    },
    {
     "data": {
      "image/png": "[encoded data removed]",
      "text/plain": [
       "<Figure size 640x480 with 1 Axes>"
      ]
     },
     "metadata": {},
     "output_type": "display_data"
    }
   ],
   "source": [
    "\n",
    "def entropy_fn_real_or_pred( real, pred ):\n",
    "    ## if pred<0 or pred>1:\n",
    "    ##     return 0\n",
    "    return -real * np.log2(pred) - (1-real)*np.log2(1-pred)\n",
    "\n",
    "\n",
    "xs = np.arange(-2,2,0.1)\n",
    "ys = [ entropy_fn_real_or_pred( 0, i) for i in xs ]\n",
    "print(xs)\n",
    "print(ys)\n",
    "\n",
    "plt.plot(xs, ys)\n",
    "plt.ylabel(\"Entropy\")\n",
    "plt.xlabel(\"Probability of a Head\")\n",
    "plt.xlim(-0.5, 1.5)\n",
    "plt.ylim(0, 5)\n",
    "plt.show()\n"
   ]
  },
  {
   "cell_type": "code",
   "execution_count": null,
   "id": "053a5e8f",
   "metadata": {},
   "outputs": [],
   "source": []
  },
  {
   "cell_type": "code",
   "execution_count": null,
   "id": "e56bbecb",
   "metadata": {},
   "outputs": [],
   "source": []
  },
  {
   "cell_type": "code",
   "execution_count": null,
   "id": "b0836d8b",
   "metadata": {},
   "outputs": [],
   "source": []
  },
  {
   "cell_type": "code",
   "execution_count": null,
   "id": "40e2a271",
   "metadata": {},
   "outputs": [],
   "source": []
  },
  {
   "cell_type": "code",
   "execution_count": null,
   "id": "b5c1c016",
   "metadata": {},
   "outputs": [],
   "source": []
  },
  {
   "cell_type": "code",
   "execution_count": null,
   "id": "39f7ee3e",
   "metadata": {},
   "outputs": [],
   "source": []
  },
  {
   "cell_type": "code",
   "execution_count": null,
   "id": "9ce0b8a9",
   "metadata": {},
   "outputs": [],
   "source": []
  },
  {
   "cell_type": "code",
   "execution_count": null,
   "id": "385aea21",
   "metadata": {},
   "outputs": [],
   "source": []
  },
  {
   "cell_type": "code",
   "execution_count": null,
   "id": "76fbe141",
   "metadata": {},
   "outputs": [],
   "source": []
  },
  {
   "cell_type": "code",
   "execution_count": null,
   "id": "e099886f",
   "metadata": {},
   "outputs": [],
   "source": []
  },
  {
   "cell_type": "code",
   "execution_count": null,
   "id": "2ce448e7",
   "metadata": {},
   "outputs": [],
   "source": []
  }
 ],
 "metadata": {
  "kernelspec": {
   "display_name": "Python 3 (ipykernel)",
   "language": "python",
   "name": "python3"
  },
  "language_info": {
   "codemirror_mode": {
    "name": "ipython",
    "version": 3
   },
   "file_extension": ".py",
   "mimetype": "text/x-python",
   "name": "python",
   "nbconvert_exporter": "python",
   "pygments_lexer": "ipython3",
   "version": "3.7.16"
  }
 },
 "nbformat": 4,
 "nbformat_minor": 5
}
