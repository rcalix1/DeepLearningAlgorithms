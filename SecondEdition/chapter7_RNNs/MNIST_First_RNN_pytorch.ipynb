{
 "cells": [
  {
   "cell_type": "markdown",
   "id": "bdc37d47",
   "metadata": {},
   "source": [
    "\n",
    "## MNIST PyTorch - RNN\n",
    "\n",
    "* Simple recurrent neural network for mnist\n",
    "* To predict the class per 28x28 image, we now think of the image as a sequence of rows. \n",
    "* Therefore, you have 28 rows of 28 pixels each\n"
   ]
  },
  {
   "cell_type": "code",
   "execution_count": 1,
   "id": "79996f37",
   "metadata": {},
   "outputs": [],
   "source": [
    "\n",
    "import torch\n",
    "import numpy as np\n",
    "import os\n",
    "\n",
    "from torchvision import datasets\n",
    "from torchvision import transforms\n",
    "\n",
    "import matplotlib.pyplot as plt\n",
    "import pandas as pd\n",
    "\n",
    "from numpy import genfromtxt\n",
    "\n",
    "from PIL import Image\n"
   ]
  },
  {
   "cell_type": "code",
   "execution_count": 2,
   "id": "a65249f0",
   "metadata": {},
   "outputs": [],
   "source": [
    "\n",
    "import sklearn\n",
    "\n",
    "from sklearn.metrics import confusion_matrix\n",
    "from sklearn.metrics import precision_score, recall_score, accuracy_score, f1_score\n",
    "\n",
    "from mlxtend.plotting import heatmap\n",
    "from sklearn.model_selection import train_test_split\n",
    "\n"
   ]
  },
  {
   "cell_type": "code",
   "execution_count": 3,
   "id": "7cb99fa0",
   "metadata": {},
   "outputs": [],
   "source": [
    "\n",
    "from torch.utils.data import TensorDataset, DataLoader\n",
    "\n",
    "import torch.optim as optim \n",
    "import torch.nn as nn\n",
    "\n",
    "\n",
    "import torch.nn.functional as F\n",
    "\n",
    "from torch.autograd import Variable\n"
   ]
  },
  {
   "cell_type": "markdown",
   "id": "e7311974",
   "metadata": {},
   "source": [
    "\n",
    "## Parameters\n"
   ]
  },
  {
   "cell_type": "code",
   "execution_count": 4,
   "id": "63a2377a",
   "metadata": {},
   "outputs": [],
   "source": [
    "\n",
    "learning_rate    = 0.003  ## Adam default   ## 0.001\n",
    "batch_size       = 1000   ## 32\n",
    "N_Epochs         = 20  ##27000  \n",
    "\n",
    "seq_len          = 28     # MNIST data input (img shape: 28*28)\n",
    "size_of_vector   = 28     # chunks per image\n",
    "rnn_hidden_size  = 128    # size of rnn\n",
    "n_classes        = 10     # MNIST total classes (0-9 digits) ## B\n"
   ]
  },
  {
   "cell_type": "markdown",
   "id": "3427b7db",
   "metadata": {},
   "source": [
    "\n",
    "## Read the data\n"
   ]
  },
  {
   "cell_type": "code",
   "execution_count": 5,
   "id": "8ddea8d6",
   "metadata": {},
   "outputs": [],
   "source": [
    "\n",
    "data_path = \"data/MNISTdata/\"\n",
    "\n",
    "\n",
    "mnist_train = datasets.MNIST(data_path, train=True, download=True)\n"
   ]
  },
  {
   "cell_type": "code",
   "execution_count": 6,
   "id": "76acd73b",
   "metadata": {},
   "outputs": [],
   "source": [
    "\n",
    "mnist_test = datasets.MNIST(data_path, train=False, download=True)\n"
   ]
  },
  {
   "cell_type": "code",
   "execution_count": 7,
   "id": "34c980d1",
   "metadata": {},
   "outputs": [],
   "source": [
    "\n",
    "mnist_train_tr = datasets.MNIST(data_path, train=True, download=False, \n",
    "                                            transform=transforms.Compose([\n",
    "                                                transforms.ToTensor()\n",
    "                                            ]))\n",
    "mnist_test_tr  = datasets.MNIST(data_path, train=False, download=False, \n",
    "                                            transform=transforms.Compose([\n",
    "                                                transforms.ToTensor()\n",
    "                                            ]))\n"
   ]
  },
  {
   "cell_type": "markdown",
   "id": "d60c5f8a",
   "metadata": {},
   "source": [
    "\n",
    "## View the Images\n"
   ]
  },
  {
   "cell_type": "code",
   "execution_count": 8,
   "id": "a289a04c",
   "metadata": {},
   "outputs": [
    {
     "data": {
      "image/png": "[encoded data removed]",
      "text/plain": [
       "<PIL.Image.Image image mode=L size=28x28>"
      ]
     },
     "execution_count": 8,
     "metadata": {},
     "output_type": "execute_result"
    }
   ],
   "source": [
    "\n",
    "Image.fromarray(  mnist_test_tr.data[423].numpy()  ) \n"
   ]
  },
  {
   "cell_type": "code",
   "execution_count": 9,
   "id": "3fc2848c",
   "metadata": {},
   "outputs": [
    {
     "data": {
      "text/plain": [
       "torch.Size([60000, 28, 28])"
      ]
     },
     "execution_count": 9,
     "metadata": {},
     "output_type": "execute_result"
    }
   ],
   "source": [
    "\n",
    "## mnist_train_tr.data = mnist_train_tr.data.view(60000, 1, 28, 28)\n",
    "\n",
    "mnist_train_tr.data.shape\n"
   ]
  },
  {
   "cell_type": "markdown",
   "id": "5f4b5e9f",
   "metadata": {},
   "source": [
    "\n",
    "## Create Data Loaders\n"
   ]
  },
  {
   "cell_type": "code",
   "execution_count": 10,
   "id": "7b504f25",
   "metadata": {},
   "outputs": [
    {
     "data": {
      "text/plain": [
       "torch.Size([60000, 28, 28])"
      ]
     },
     "execution_count": 10,
     "metadata": {},
     "output_type": "execute_result"
    }
   ],
   "source": [
    "\n",
    "mnist_train_tr.data.shape\n"
   ]
  },
  {
   "cell_type": "code",
   "execution_count": 11,
   "id": "37f2f32d",
   "metadata": {},
   "outputs": [
    {
     "data": {
      "text/plain": [
       "torch.Size([10000, 28, 28])"
      ]
     },
     "execution_count": 11,
     "metadata": {},
     "output_type": "execute_result"
    }
   ],
   "source": [
    "\n",
    "mnist_test_tr.data.shape\n"
   ]
  },
  {
   "cell_type": "code",
   "execution_count": 12,
   "id": "1fbe74c4",
   "metadata": {},
   "outputs": [],
   "source": [
    "\n",
    "\n",
    "train_dl  = torch.utils.data.DataLoader(mnist_train_tr, batch_size=batch_size, shuffle=True  ) \n",
    "test_dl   = torch.utils.data.DataLoader(mnist_test_tr,  batch_size=batch_size, shuffle=False ) \n"
   ]
  },
  {
   "cell_type": "markdown",
   "id": "7e41e762",
   "metadata": {},
   "source": [
    "\n",
    "## Utility Functions\n"
   ]
  },
  {
   "cell_type": "code",
   "execution_count": 13,
   "id": "de114a17",
   "metadata": {},
   "outputs": [],
   "source": [
    "\n",
    "def print_metrics_function(y_test, y_pred):\n",
    "    print('Accuracy: %.2f' % accuracy_score(y_test, y_pred))\n",
    "    confmat = confusion_matrix(y_true=y_test, y_pred=y_pred)\n",
    "    print(\"Confusion Matrix:\")\n",
    "    print(confmat)\n",
    "    print('Precision: %.3f' % precision_score(y_true=y_test, y_pred=y_pred, average='weighted'))\n",
    "    print('Recall: %.3f' % recall_score(y_true=y_test, y_pred=y_pred, average='weighted'))\n",
    "    f1_measure = f1_score(y_true=y_test, y_pred=y_pred, average='weighted')\n",
    "    print('F1-mesure: %.3f' % f1_measure)\n",
    "    return f1_measure, confmat \n"
   ]
  },
  {
   "cell_type": "code",
   "execution_count": 14,
   "id": "9e33930a",
   "metadata": {},
   "outputs": [],
   "source": [
    "\n",
    "def plot_metric_per_epoch(the_scores_list):\n",
    "    x_epochs = []\n",
    "    y_epochs = [] \n",
    "    for i, val in enumerate(the_scores_list):\n",
    "        x_epochs.append(i)\n",
    "        y_epochs.append(val)\n",
    "    \n",
    "    plt.scatter(x_epochs, y_epochs,s=50,c='lightgreen', marker='s', label='score')\n",
    "    plt.xlabel('epoch')\n",
    "    plt.ylabel('score')\n",
    "    plt.title('Score per epoch')\n",
    "    plt.legend()\n",
    "    plt.grid()\n",
    "    plt.show()\n"
   ]
  },
  {
   "cell_type": "markdown",
   "id": "56f54762",
   "metadata": {},
   "source": [
    "\n",
    "## Convert Batches to sequence\n",
    "\n",
    "* batch_x has tensors of 28x28 which need to be converted to a sequence\n",
    "* Reshape data to get 28 in seq_len, N_batches, 28 features in vector\n",
    "\n"
   ]
  },
  {
   "cell_type": "code",
   "execution_count": 15,
   "id": "f3b23eeb",
   "metadata": {},
   "outputs": [],
   "source": [
    "## MNIST data input (img shape: 28*28)\n",
    "## seq_len         = 28     \n",
    "## size_of_vector  = 28     \n",
    "## batch_size     \n",
    "\n",
    "## Permute converts to [seq_len=28, batch_size, size_of_vector=28]\n",
    "\n",
    "def make_img_to_sequence(batch_x):\n",
    "      \n",
    "    batch_x_new = batch_x.permute(1, 0, 2)\n",
    "    \n",
    "    return batch_x_new\n"
   ]
  },
  {
   "cell_type": "markdown",
   "id": "d1c981bd",
   "metadata": {},
   "source": [
    "\n",
    "## Basic RNN\n"
   ]
  },
  {
   "cell_type": "code",
   "execution_count": 16,
   "id": "eec47437",
   "metadata": {},
   "outputs": [],
   "source": [
    "\n",
    "## rnn_hidden_size  = 128    # size of rnn hidden layer\n",
    "## n_classes        = 10     # MNIST total classes (0-9 digits) \n",
    "\n",
    "\n",
    "class MNIST_RNN_Net(nn.Module):\n",
    "    \n",
    "    def __init__(self):\n",
    "        super().__init__()\n",
    "        \n",
    "        self.n_layers       = 1            ## number of hidden layers\n",
    "        self.hidden_dim     = 128\n",
    "        self.seq_len        = 28\n",
    "        self.size_of_vector = 28\n",
    "        \n",
    "        ##                   (size_of_vector, rnn_hidden_size, n_layers)  \n",
    "        self.rnn1            = nn.RNN(    28,             128,        1)   \n",
    "        \n",
    "        self.dropout         = nn.Dropout(0.2)\n",
    "        self.fully_connected = nn.Linear(128, 10)\n",
    "\n",
    "    \n",
    "    def init_hidden(self,):\n",
    "        ## Initial hidden layer in time is all zeros\n",
    "        ##                (n_layers,  batch_size, rnn_hidden_size)\n",
    "        return torch.zeros(       1,  batch_size,             128)\n",
    "\n",
    "    \n",
    "\n",
    "    def forward(self, xb):\n",
    "        \n",
    "        batch_x_seq        = make_img_to_sequence( xb )\n",
    "        \n",
    "        self.hidden        = self.init_hidden()      ## the initial hidden state\n",
    "\n",
    "        ## self.hidden now contains the final hidden state \n",
    "        ## for each image in the batch\n",
    "        rnn_o, self.hidden = self.rnn1(batch_x_seq, self.hidden)        \n",
    "        rnn_o              = self.dropout(rnn_o)\n",
    "        \n",
    "        \n",
    "        out                = self.fully_connected(self.hidden)\n",
    "        \n",
    "        ##                     batch_size, n_classes) \n",
    "        y_pred             = out.view( -1,        10) \n",
    "        \n",
    "        return y_pred\n",
    "    \n",
    "     \n"
   ]
  },
  {
   "cell_type": "markdown",
   "id": "4460576a",
   "metadata": {},
   "source": [
    "\n",
    "## Main Loop\n"
   ]
  },
  {
   "cell_type": "code",
   "execution_count": 17,
   "id": "0a03c774",
   "metadata": {},
   "outputs": [],
   "source": [
    "\n",
    "def training_loop( N_Epochs, model, loss_fn, opt  ):\n",
    "    \n",
    "    for epoch in range(N_Epochs):\n",
    "        for xb, yb in train_dl:\n",
    "            \n",
    "            xb = torch.squeeze(xb, dim=1)\n",
    "                        \n",
    "            y_pred = model( xb )\n",
    "\n",
    "            loss   = loss_fn(y_pred, yb)\n",
    "            \n",
    "            opt.zero_grad()\n",
    "            loss.backward()\n",
    "            opt.step()\n",
    "            \n",
    "        if epoch % 1 == 0:\n",
    "            print(epoch, \"loss=\", loss)\n"
   ]
  },
  {
   "cell_type": "markdown",
   "id": "2901050f",
   "metadata": {},
   "source": [
    "\n",
    "## Core Functions\n"
   ]
  },
  {
   "cell_type": "code",
   "execution_count": 18,
   "id": "643bf5d3",
   "metadata": {},
   "outputs": [
    {
     "name": "stdout",
     "output_type": "stream",
     "text": [
      "0 loss= tensor(0.7966, grad_fn=<NllLossBackward0>)\n",
      "1 loss= tensor(0.5190, grad_fn=<NllLossBackward0>)\n",
      "2 loss= tensor(0.3908, grad_fn=<NllLossBackward0>)\n",
      "3 loss= tensor(0.3493, grad_fn=<NllLossBackward0>)\n",
      "4 loss= tensor(0.2222, grad_fn=<NllLossBackward0>)\n",
      "5 loss= tensor(0.2323, grad_fn=<NllLossBackward0>)\n",
      "6 loss= tensor(0.1736, grad_fn=<NllLossBackward0>)\n",
      "7 loss= tensor(0.1896, grad_fn=<NllLossBackward0>)\n",
      "8 loss= tensor(0.1853, grad_fn=<NllLossBackward0>)\n",
      "9 loss= tensor(0.1508, grad_fn=<NllLossBackward0>)\n",
      "10 loss= tensor(0.2498, grad_fn=<NllLossBackward0>)\n",
      "11 loss= tensor(0.1576, grad_fn=<NllLossBackward0>)\n",
      "12 loss= tensor(0.1109, grad_fn=<NllLossBackward0>)\n",
      "13 loss= tensor(0.1599, grad_fn=<NllLossBackward0>)\n",
      "14 loss= tensor(0.1040, grad_fn=<NllLossBackward0>)\n",
      "15 loss= tensor(0.1183, grad_fn=<NllLossBackward0>)\n",
      "16 loss= tensor(0.1157, grad_fn=<NllLossBackward0>)\n",
      "17 loss= tensor(0.0969, grad_fn=<NllLossBackward0>)\n",
      "18 loss= tensor(0.0790, grad_fn=<NllLossBackward0>)\n",
      "19 loss= tensor(0.1113, grad_fn=<NllLossBackward0>)\n"
     ]
    }
   ],
   "source": [
    "\n",
    "model     = MNIST_RNN_Net()\n",
    "\n",
    "loss_fn   = nn.CrossEntropyLoss( )  \n",
    "\n",
    "opt       = torch.optim.Adam( model.parameters(), lr=learning_rate )\n",
    "\n",
    "training_loop(  N_Epochs, model, loss_fn, opt  )\n",
    "    \n"
   ]
  },
  {
   "cell_type": "markdown",
   "id": "03fc6893",
   "metadata": {},
   "source": [
    "\n",
    "## Test set\n"
   ]
  },
  {
   "cell_type": "code",
   "execution_count": 19,
   "id": "aa3704d3",
   "metadata": {},
   "outputs": [
    {
     "name": "stdout",
     "output_type": "stream",
     "text": [
      "Accuracy: 0.95\n",
      "Confusion Matrix:\n",
      "[[ 84   0   0   0   0   0   1   0   0   0]\n",
      " [  0 123   0   1   0   0   0   0   2   0]\n",
      " [  1   0 104   2   0   0   0   2   6   1]\n",
      " [  0   0   0 101   0   5   0   0   0   1]\n",
      " [  0   0   0   0 105   0   1   0   0   4]\n",
      " [  0   0   0   1   1  83   1   0   1   0]\n",
      " [  2   0   0   0   2   0  83   0   0   0]\n",
      " [  0   0   0   1   1   0   0  97   0   0]\n",
      " [  0   1   1   0   2   0   1   0  84   0]\n",
      " [  0   0   0   0   1   2   0   0   2  89]]\n",
      "Precision: 0.954\n",
      "Recall: 0.953\n",
      "F1-mesure: 0.953\n",
      "Accuracy: 0.95\n",
      "Confusion Matrix:\n",
      "[[ 89   0   0   0   0   0   1   0   0   0]\n",
      " [  0 106   0   1   0   0   0   0   1   0]\n",
      " [  1   0  99   0   0   1   0   1   1   0]\n",
      " [  0   0   0  95   0   1   0   2   0   2]\n",
      " [  0   0   0   0 100   0   3   0   0   4]\n",
      " [  0   0   0   0   1  87   1   1   1   1]\n",
      " [  1   0   0   0   2   3  84   0   1   0]\n",
      " [  0   1   2   0   0   0   0 100   1   2]\n",
      " [  0   0   0   0   0   1   1   1 100   0]\n",
      " [  0   0   0   1   2   4   0   0   1  92]]\n",
      "Precision: 0.952\n",
      "Recall: 0.952\n",
      "F1-mesure: 0.952\n",
      "Accuracy: 0.95\n",
      "Confusion Matrix:\n",
      "[[ 93   0   0   0   0   2   1   0   0   0]\n",
      " [  0 104   1   0   0   1   0   0   0   0]\n",
      " [  2   0  85   1   0   0   0   2   3   1]\n",
      " [  0   0   1 103   0   3   0   1   0   1]\n",
      " [  0   0   0   0  95   0   0   0   0   6]\n",
      " [  0   0   0   2   1  98   1   0   1   1]\n",
      " [  2   2   0   0   2   0  86   0   2   0]\n",
      " [  0   0   0   0   0   0   0 100   0   1]\n",
      " [  0   0   0   0   1   2   0   0  91   0]\n",
      " [  1   1   0   0   2   3   0   1   0  93]]\n",
      "Precision: 0.949\n",
      "Recall: 0.948\n",
      "F1-mesure: 0.948\n",
      "Accuracy: 0.95\n",
      "Confusion Matrix:\n",
      "[[ 98   0   0   0   0   0   1   0   0   0]\n",
      " [  0 106   1   2   1   0   0   0   0   0]\n",
      " [  0   0  92   5   0   0   1   4   3   0]\n",
      " [  0   0   0  88   0   1   0   1   1   1]\n",
      " [  0   0   0   0  98   0   0   0   1   1]\n",
      " [  1   0   0   0   0  85   0   0   0   3]\n",
      " [  2   0   0   0   2   2  99   0   1   0]\n",
      " [  1   0   1   0   0   0   0  99   1   3]\n",
      " [  0   0   1   0   0   1   0   0  96   0]\n",
      " [  0   0   0   0   1   1   0   1   0  93]]\n",
      "Precision: 0.955\n",
      "Recall: 0.954\n",
      "F1-mesure: 0.954\n",
      "Accuracy: 0.95\n",
      "Confusion Matrix:\n",
      "[[ 87   0   0   0   0   1   2   0   0   0]\n",
      " [  0 121   0   0   0   0   0   0   0   0]\n",
      " [  1   0  99   3   0   1   1   4   3   0]\n",
      " [  0   0   1  87   0   2   0   0   0   2]\n",
      " [  0   0   0   0  78   0   0   0   0   4]\n",
      " [  0   0   0   0   1  81   0   0   1   1]\n",
      " [  1   0   0   0   2   1  78   0   2   0]\n",
      " [  0   0   1   1   0   0   0  98   1   0]\n",
      " [  0   1   0   0   1   0   0   2 100   1]\n",
      " [  1   0   0   0   4   2   0   2   0 120]]\n",
      "Precision: 0.950\n",
      "Recall: 0.949\n",
      "F1-mesure: 0.949\n",
      "Accuracy: 0.98\n",
      "Confusion Matrix:\n",
      "[[106   0   0   0   0   0   2   0   0   0]\n",
      " [  0 113   0   0   0   0   0   0   2   0]\n",
      " [  0   0  94   0   0   0   0   0   1   0]\n",
      " [  0   0   0  90   0   2   0   1   2   0]\n",
      " [  0   0   0   0  98   0   0   0   0   1]\n",
      " [  0   1   0   1   0  89   0   0   1   0]\n",
      " [  0   0   0   0   1   0  99   0   0   0]\n",
      " [  0   0   0   0   0   0   0  95   1   1]\n",
      " [  1   0   0   0   1   0   0   0  96   0]\n",
      " [  0   0   0   0   0   0   0   0   0 101]]\n",
      "Precision: 0.981\n",
      "Recall: 0.981\n",
      "F1-mesure: 0.981\n",
      "Accuracy: 0.97\n",
      "Confusion Matrix:\n",
      "[[101   0   0   0   0   2   0   1   0   0]\n",
      " [  0 107   0   0   0   0   1   1   0   0]\n",
      " [  0   0 102   0   0   0   1   0   1   0]\n",
      " [  0   1   0 102   0   2   0   0   0   2]\n",
      " [  0   0   0   0 101   0   0   0   0   0]\n",
      " [  0   0   0   0   1  83   1   0   0   0]\n",
      " [  0   0   1   0   2   0  91   0   0   0]\n",
      " [  0   1   0   0   0   0   0 102   0   0]\n",
      " [  0   1   0   0   0   1   0   1  91   1]\n",
      " [  1   0   0   1   1   6   0   1   1  87]]\n",
      "Precision: 0.968\n",
      "Recall: 0.967\n",
      "F1-mesure: 0.967\n",
      "Accuracy: 0.98\n",
      "Confusion Matrix:\n",
      "[[101   0   0   0   0   0   0   0   0   0]\n",
      " [  0 110   0   0   0   0   0   0   0   0]\n",
      " [  1   0 100   0   0   0   0   3   1   0]\n",
      " [  0   0   0  99   0   2   0   0   0   0]\n",
      " [  0   0   0   0  86   1   0   0   1   0]\n",
      " [  0   0   0   0   1  87   2   0   0   0]\n",
      " [  1   0   0   0   0   0  99   0   0   0]\n",
      " [  0   0   0   0   0   0   0  98   2   1]\n",
      " [  0   0   0   0   0   0   0   0 105   0]\n",
      " [  0   0   0   0   0   0   0   0   0  99]]\n",
      "Precision: 0.984\n",
      "Recall: 0.984\n",
      "F1-mesure: 0.984\n",
      "Accuracy: 0.98\n",
      "Confusion Matrix:\n",
      "[[104   0   0   0   0   0   1   0   0   0]\n",
      " [  0 110   0   0   0   0   0   0   1   0]\n",
      " [  0   1  94   1   1   0   0   0   2   0]\n",
      " [  0   0   0 102   0   2   0   0   0   1]\n",
      " [  0   1   0   0  99   0   0   0   0   2]\n",
      " [  0   0   0   0   0  83   1   0   0   0]\n",
      " [  1   0   0   0   0   0  99   0   0   0]\n",
      " [  0   0   1   0   0   0   0  98   0   1]\n",
      " [  0   0   0   0   1   1   1   0  90   0]\n",
      " [  0   0   0   0   0   0   0   0   0 101]]\n",
      "Precision: 0.980\n",
      "Recall: 0.980\n",
      "F1-mesure: 0.980\n",
      "Accuracy: 0.97\n",
      "Confusion Matrix:\n",
      "[[100   0   0   0   0   2   0   0   0   0]\n",
      " [  0 118   0   0   1   0   0   0   0   0]\n",
      " [  2   0  85   2   0   2   0   2   5   1]\n",
      " [  0   0   0 101   0   0   0   0   0   1]\n",
      " [  0   0   0   0  91   0   0   1   0   0]\n",
      " [  3   0   0   0   0  81   1   0   0   0]\n",
      " [  0   0   0   0   0   2 100   0   0   0]\n",
      " [  0   0   3   0   0   0   0 112   0   0]\n",
      " [  0   0   0   0   0   1   0   0  93   0]\n",
      " [  0   0   0   0   1   0   0   1   0  88]]\n",
      "Precision: 0.969\n",
      "Recall: 0.969\n",
      "F1-mesure: 0.969\n"
     ]
    }
   ],
   "source": [
    "\n",
    "f1_scores_to_plot = []\n",
    "\n",
    "with torch.no_grad():\n",
    "    for xb, yb in test_dl:\n",
    "        \n",
    "        xb = torch.squeeze(xb, dim=1)\n",
    "        \n",
    "        y_pred = model(  xb  )\n",
    "        \n",
    "        vals, indeces = torch.max( y_pred, dim=1  )\n",
    "        preds = indeces\n",
    "        f1, last_conf_mtrx = print_metrics_function(yb, preds)\n",
    "        f1_scores_to_plot.append(f1)\n",
    "\n"
   ]
  },
  {
   "cell_type": "code",
   "execution_count": 20,
   "id": "75968c9b",
   "metadata": {},
   "outputs": [
    {
     "data": {
      "image/png": "[encoded data removed]",
      "text/plain": [
       "<Figure size 640x480 with 1 Axes>"
      ]
     },
     "metadata": {},
     "output_type": "display_data"
    }
   ],
   "source": [
    "\n",
    "plot_metric_per_epoch(f1_scores_to_plot)\n"
   ]
  },
  {
   "cell_type": "code",
   "execution_count": 21,
   "id": "338c13da",
   "metadata": {},
   "outputs": [
    {
     "name": "stdout",
     "output_type": "stream",
     "text": [
      "[[100   0   0   0   0   2   0   0   0   0]\n",
      " [  0 118   0   0   1   0   0   0   0   0]\n",
      " [  2   0  85   2   0   2   0   2   5   1]\n",
      " [  0   0   0 101   0   0   0   0   0   1]\n",
      " [  0   0   0   0  91   0   0   1   0   0]\n",
      " [  3   0   0   0   0  81   1   0   0   0]\n",
      " [  0   0   0   0   0   2 100   0   0   0]\n",
      " [  0   0   3   0   0   0   0 112   0   0]\n",
      " [  0   0   0   0   0   1   0   0  93   0]\n",
      " [  0   0   0   0   1   0   0   1   0  88]]\n"
     ]
    }
   ],
   "source": [
    "\n",
    "print(last_conf_mtrx )\n"
   ]
  },
  {
   "cell_type": "code",
   "execution_count": 22,
   "id": "a2e71d2c",
   "metadata": {},
   "outputs": [
    {
     "data": {
      "text/plain": [
       "0.9636744832580204"
      ]
     },
     "execution_count": 22,
     "metadata": {},
     "output_type": "execute_result"
    }
   ],
   "source": [
    "\n",
    "sum(f1_scores_to_plot) / len(f1_scores_to_plot)\n"
   ]
  },
  {
   "cell_type": "code",
   "execution_count": null,
   "id": "180395f6",
   "metadata": {},
   "outputs": [],
   "source": []
  },
  {
   "cell_type": "markdown",
   "id": "932e667a",
   "metadata": {},
   "source": [
    "\n",
    "## RNN Basic Simple Example\n"
   ]
  },
  {
   "cell_type": "code",
   "execution_count": 23,
   "id": "f1ea8dca",
   "metadata": {},
   "outputs": [],
   "source": [
    "\n",
    "##                (vector_size, hidden_size,  n_layers)\n",
    "rnn_basic_rc = nn.RNN(      10,          20,         2)\n"
   ]
  },
  {
   "cell_type": "code",
   "execution_count": 24,
   "id": "369bc984",
   "metadata": {},
   "outputs": [
    {
     "data": {
      "text/plain": [
       "torch.Size([5, 3, 10])"
      ]
     },
     "execution_count": 24,
     "metadata": {},
     "output_type": "execute_result"
    }
   ],
   "source": [
    "\n",
    "## This is the data\n",
    "##                              28,        1000,             28)\n",
    "##                     (   seq_len,  batch_size,    vector_size)\n",
    "input_basic_rnn = torch.randn(   5,           3,             10)\n",
    "input_basic_rnn.shape\n"
   ]
  },
  {
   "cell_type": "code",
   "execution_count": 25,
   "id": "c356596d",
   "metadata": {},
   "outputs": [
    {
     "data": {
      "text/plain": [
       "torch.Size([2, 3, 20])"
      ]
     },
     "execution_count": 25,
     "metadata": {},
     "output_type": "execute_result"
    }
   ],
   "source": [
    "\n",
    "##            (n_layers,  batch_size,  hidden_size)\n",
    "h0 = torch.randn(     2,           3,           20)\n",
    "h0.shape\n"
   ]
  },
  {
   "cell_type": "code",
   "execution_count": 26,
   "id": "c96178e7",
   "metadata": {},
   "outputs": [],
   "source": [
    "\n",
    "output_zz, hn = rnn_basic_rc(input_basic_rnn, h0)\n"
   ]
  },
  {
   "cell_type": "code",
   "execution_count": 27,
   "id": "225cfbdb",
   "metadata": {},
   "outputs": [
    {
     "data": {
      "text/plain": [
       "torch.Size([2, 3, 20])"
      ]
     },
     "execution_count": 27,
     "metadata": {},
     "output_type": "execute_result"
    }
   ],
   "source": [
    "\n",
    "hn.shape\n"
   ]
  },
  {
   "cell_type": "code",
   "execution_count": 28,
   "id": "9f880606",
   "metadata": {},
   "outputs": [
    {
     "data": {
      "text/plain": [
       "torch.Size([5, 3, 20])"
      ]
     },
     "execution_count": 28,
     "metadata": {},
     "output_type": "execute_result"
    }
   ],
   "source": [
    "\n",
    "output_zz.shape\n"
   ]
  },
  {
   "cell_type": "markdown",
   "id": "fb476541",
   "metadata": {},
   "source": [
    "\n",
    "## Figuring out RNN model maths\n"
   ]
  },
  {
   "cell_type": "code",
   "execution_count": 29,
   "id": "bc06ee54",
   "metadata": {},
   "outputs": [],
   "source": [
    "\n",
    "N_batches_rc = 100\n"
   ]
  },
  {
   "cell_type": "code",
   "execution_count": 30,
   "id": "15793534",
   "metadata": {},
   "outputs": [
    {
     "data": {
      "text/plain": [
       "torch.Size([100, 28, 28])"
      ]
     },
     "execution_count": 30,
     "metadata": {},
     "output_type": "execute_result"
    }
   ],
   "source": [
    "## xb  shape (batch_size,    seq_len,     vector_size)\n",
    "\n",
    "xb_rc = torch.randn(N_batches_rc, 28,  28)\n",
    "\n",
    "xb_rc.shape\n"
   ]
  },
  {
   "cell_type": "code",
   "execution_count": 31,
   "id": "7b4cf1a2",
   "metadata": {},
   "outputs": [
    {
     "data": {
      "text/plain": [
       "torch.Size([28, 100, 28])"
      ]
     },
     "execution_count": 31,
     "metadata": {},
     "output_type": "execute_result"
    }
   ],
   "source": [
    "\n",
    "xb_rc = xb_rc.permute(1, 0, 2)\n",
    "\n",
    "xb_rc.shape\n"
   ]
  },
  {
   "cell_type": "code",
   "execution_count": 32,
   "id": "c02401d2",
   "metadata": {},
   "outputs": [
    {
     "data": {
      "text/plain": [
       "torch.Size([1, 100, 128])"
      ]
     },
     "execution_count": 32,
     "metadata": {},
     "output_type": "execute_result"
    }
   ],
   "source": [
    "\n",
    "## hidden has shape (n_layers  , batch_size, rnn_hidden_size)\n",
    "## r_out, (h_n, h_c) = self.rnn(x, hidden = None)  \n",
    "## None represents zero initial hidden state\n",
    "\n",
    "##                       (  n_layers,     batch_size, rnn_hidden_size)\n",
    "hidden_rc   = torch.zeros(         1,   N_batches_rc,             128)\n",
    "hidden_rc.shape\n"
   ]
  },
  {
   "cell_type": "code",
   "execution_count": 33,
   "id": "9173c841",
   "metadata": {},
   "outputs": [
    {
     "data": {
      "text/plain": [
       "tensor([[[0., 0., 0.,  ..., 0., 0., 0.],\n",
       "         [0., 0., 0.,  ..., 0., 0., 0.],\n",
       "         [0., 0., 0.,  ..., 0., 0., 0.],\n",
       "         ...,\n",
       "         [0., 0., 0.,  ..., 0., 0., 0.],\n",
       "         [0., 0., 0.,  ..., 0., 0., 0.],\n",
       "         [0., 0., 0.,  ..., 0., 0., 0.]]])"
      ]
     },
     "execution_count": 33,
     "metadata": {},
     "output_type": "execute_result"
    }
   ],
   "source": [
    "\n",
    "hidden_rc\n"
   ]
  },
  {
   "cell_type": "code",
   "execution_count": 34,
   "id": "fda20817",
   "metadata": {},
   "outputs": [],
   "source": [
    "\n",
    "rnn_rc    = nn.RNN(        28,     128,    1) \n"
   ]
  },
  {
   "cell_type": "code",
   "execution_count": 35,
   "id": "dd176333",
   "metadata": {},
   "outputs": [
    {
     "name": "stdout",
     "output_type": "stream",
     "text": [
      "torch.Size([28, 100, 128])\n"
     ]
    }
   ],
   "source": [
    "\n",
    "rnn_o, hidden_rc = rnn_rc(xb_rc, hidden_rc  )        \n",
    "     \n",
    "print(rnn_o.shape)\n"
   ]
  },
  {
   "cell_type": "code",
   "execution_count": 36,
   "id": "5073b312",
   "metadata": {},
   "outputs": [
    {
     "name": "stdout",
     "output_type": "stream",
     "text": [
      "torch.Size([1, 100, 128])\n"
     ]
    }
   ],
   "source": [
    "\n",
    "print(hidden_rc.shape)\n"
   ]
  },
  {
   "cell_type": "code",
   "execution_count": 37,
   "id": "fca534b8",
   "metadata": {},
   "outputs": [
    {
     "data": {
      "text/plain": [
       "tensor([[[-0.4040,  0.2119, -0.0517,  ..., -0.2074, -0.1819,  0.4931],\n",
       "         [ 0.4326,  0.2581, -0.1940,  ...,  0.0086, -0.4062, -0.2339],\n",
       "         [ 0.1769,  0.2437,  0.2470,  ...,  0.3818, -0.2528, -0.1768],\n",
       "         ...,\n",
       "         [-0.0963, -0.4352,  0.0331,  ...,  0.2192, -0.3994, -0.1072],\n",
       "         [-0.5090, -0.4528, -0.1578,  ...,  0.1001, -0.3791,  0.3332],\n",
       "         [ 0.1098,  0.1519,  0.4995,  ..., -0.0235,  0.2665, -0.1909]]],\n",
       "       grad_fn=<StackBackward0>)"
      ]
     },
     "execution_count": 37,
     "metadata": {},
     "output_type": "execute_result"
    }
   ],
   "source": [
    "\n",
    "hidden_rc\n"
   ]
  },
  {
   "cell_type": "code",
   "execution_count": 38,
   "id": "84aab0ba",
   "metadata": {},
   "outputs": [],
   "source": [
    "\n",
    "drop_rc = nn.Dropout(0.2)\n"
   ]
  },
  {
   "cell_type": "code",
   "execution_count": 39,
   "id": "73881c00",
   "metadata": {},
   "outputs": [
    {
     "data": {
      "text/plain": [
       "torch.Size([28, 100, 128])"
      ]
     },
     "execution_count": 39,
     "metadata": {},
     "output_type": "execute_result"
    }
   ],
   "source": [
    "\n",
    "rnn_o  = drop_rc(  rnn_o  )\n",
    "\n",
    "rnn_o.shape\n"
   ]
  },
  {
   "cell_type": "code",
   "execution_count": 40,
   "id": "a0a2db24",
   "metadata": {},
   "outputs": [],
   "source": [
    "\n",
    "fully_connected_rc = nn.Linear(128, 10)\n"
   ]
  },
  {
   "cell_type": "code",
   "execution_count": 41,
   "id": "e3552797",
   "metadata": {},
   "outputs": [
    {
     "data": {
      "text/plain": [
       "torch.Size([1, 100, 10])"
      ]
     },
     "execution_count": 41,
     "metadata": {},
     "output_type": "execute_result"
    }
   ],
   "source": [
    "\n",
    "out  = fully_connected_rc( hidden_rc )\n",
    "out.shape\n"
   ]
  },
  {
   "cell_type": "code",
   "execution_count": 42,
   "id": "d9e5c4a1",
   "metadata": {},
   "outputs": [],
   "source": [
    "\n",
    "y_pred = out.view(-1, 10)    # batch_size X n_output for 10 classes\n",
    "        \n"
   ]
  },
  {
   "cell_type": "code",
   "execution_count": 43,
   "id": "1f08183b",
   "metadata": {},
   "outputs": [
    {
     "data": {
      "text/plain": [
       "torch.Size([100, 10])"
      ]
     },
     "execution_count": 43,
     "metadata": {},
     "output_type": "execute_result"
    }
   ],
   "source": [
    "\n",
    "y_pred.shape\n"
   ]
  },
  {
   "cell_type": "code",
   "execution_count": 45,
   "id": "efbf5dac",
   "metadata": {},
   "outputs": [
    {
     "data": {
      "text/plain": [
       "torch.Size([28, 100, 128])"
      ]
     },
     "execution_count": 45,
     "metadata": {},
     "output_type": "execute_result"
    }
   ],
   "source": [
    "\n",
    "## rnn_o shape (seq_len,    batch_size,       hidden)\n",
    "\n",
    "rnn_o.shape\n"
   ]
  },
  {
   "cell_type": "code",
   "execution_count": 46,
   "id": "5206e398",
   "metadata": {},
   "outputs": [
    {
     "data": {
      "text/plain": [
       "torch.Size([100, 128])"
      ]
     },
     "execution_count": 46,
     "metadata": {},
     "output_type": "execute_result"
    }
   ],
   "source": [
    "\n",
    "rnn_out_temp = rnn_o[-1, :, :]    ## -1 means the last \n",
    "rnn_out_temp.shape\n"
   ]
  },
  {
   "cell_type": "code",
   "execution_count": 47,
   "id": "971b9ceb",
   "metadata": {},
   "outputs": [
    {
     "data": {
      "text/plain": [
       "torch.Size([100, 10])"
      ]
     },
     "execution_count": 47,
     "metadata": {},
     "output_type": "execute_result"
    }
   ],
   "source": [
    "\n",
    "## choose rnn_out at the last time step\n",
    "\n",
    "out_last_time_step  = fully_connected_rc( rnn_out_temp )\n",
    "out_last_time_step.shape\n",
    "\n",
    "\n"
   ]
  },
  {
   "cell_type": "code",
   "execution_count": null,
   "id": "c7313c28",
   "metadata": {},
   "outputs": [],
   "source": []
  },
  {
   "cell_type": "code",
   "execution_count": null,
   "id": "1d2e59da",
   "metadata": {},
   "outputs": [],
   "source": []
  },
  {
   "cell_type": "code",
   "execution_count": null,
   "id": "72832630",
   "metadata": {},
   "outputs": [],
   "source": []
  },
  {
   "cell_type": "code",
   "execution_count": null,
   "id": "b659e8fc",
   "metadata": {},
   "outputs": [],
   "source": []
  },
  {
   "cell_type": "code",
   "execution_count": null,
   "id": "cec1993f",
   "metadata": {},
   "outputs": [],
   "source": []
  },
  {
   "cell_type": "code",
   "execution_count": null,
   "id": "41391cc4",
   "metadata": {},
   "outputs": [],
   "source": []
  },
  {
   "cell_type": "code",
   "execution_count": null,
   "id": "3742648f",
   "metadata": {},
   "outputs": [],
   "source": []
  },
  {
   "cell_type": "code",
   "execution_count": null,
   "id": "8770fe77",
   "metadata": {},
   "outputs": [],
   "source": []
  },
  {
   "cell_type": "code",
   "execution_count": null,
   "id": "52dda90b",
   "metadata": {},
   "outputs": [],
   "source": []
  }
 ],
 "metadata": {
  "kernelspec": {
   "display_name": "Python 3 (ipykernel)",
   "language": "python",
   "name": "python3"
  },
  "language_info": {
   "codemirror_mode": {
    "name": "ipython",
    "version": 3
   },
   "file_extension": ".py",
   "mimetype": "text/x-python",
   "name": "python",
   "nbconvert_exporter": "python",
   "pygments_lexer": "ipython3",
   "version": "3.7.16"
  }
 },
 "nbformat": 4,
 "nbformat_minor": 5
}
