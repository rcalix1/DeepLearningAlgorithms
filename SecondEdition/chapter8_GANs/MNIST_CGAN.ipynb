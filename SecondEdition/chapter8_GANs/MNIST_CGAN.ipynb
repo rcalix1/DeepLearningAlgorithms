{
 "cells": [
  {
   "cell_type": "markdown",
   "metadata": {},
   "source": [
    "\n",
    "## A simple GAN to generate Images\n"
   ]
  },
  {
   "cell_type": "code",
   "execution_count": 42,
   "metadata": {},
   "outputs": [],
   "source": [
    "\n",
    "import torch\n",
    "import numpy as np\n",
    "import os\n",
    "\n",
    "from torchvision import datasets\n",
    "from torchvision import transforms\n",
    "import torchvision.transforms as T\n",
    "\n",
    "import matplotlib.pyplot as plt\n",
    "import pandas as pd\n",
    "\n",
    "from numpy import genfromtxt\n",
    "\n",
    "from PIL import Image\n",
    "\n",
    "import random\n"
   ]
  },
  {
   "cell_type": "code",
   "execution_count": 43,
   "metadata": {},
   "outputs": [],
   "source": [
    "\n",
    "import sklearn\n",
    "\n",
    "from sklearn.metrics import confusion_matrix\n",
    "from sklearn.metrics import precision_score, recall_score, accuracy_score, f1_score\n",
    "\n",
    "from mlxtend.plotting import heatmap\n",
    "from sklearn.model_selection import train_test_split\n",
    "\n",
    "from mlxtend.plotting import heatmap\n"
   ]
  },
  {
   "cell_type": "code",
   "execution_count": 44,
   "metadata": {},
   "outputs": [],
   "source": [
    "\n",
    "from torch.utils.data import TensorDataset, DataLoader\n",
    "\n",
    "import torch.optim as optim \n",
    "import torch.nn as nn\n",
    "\n",
    "\n",
    "import torch.nn.functional as F\n",
    "\n",
    "from torch.autograd import Variable\n"
   ]
  },
  {
   "cell_type": "markdown",
   "metadata": {},
   "source": [
    "\n",
    "## Parameters\n"
   ]
  },
  {
   "cell_type": "code",
   "execution_count": 45,
   "metadata": {},
   "outputs": [],
   "source": [
    "\n",
    "learning_rate    = 0.003  ## Adam default   ## 0.001\n",
    "batch_size       = 32\n",
    "N_Epochs         = 30  ##27000  \n"
   ]
  },
  {
   "cell_type": "markdown",
   "metadata": {},
   "source": [
    "\n",
    "## Read the data\n"
   ]
  },
  {
   "cell_type": "code",
   "execution_count": 46,
   "metadata": {},
   "outputs": [],
   "source": [
    "\n",
    "data_path = \"MNISTdata/\"\n",
    "\n",
    "\n",
    "mnist_train = datasets.MNIST(data_path, train=True, download=True)\n"
   ]
  },
  {
   "cell_type": "code",
   "execution_count": 47,
   "metadata": {},
   "outputs": [],
   "source": [
    "\n",
    "mnist_test = datasets.MNIST(data_path, train=False, download=True)\n"
   ]
  },
  {
   "cell_type": "code",
   "execution_count": 48,
   "metadata": {},
   "outputs": [],
   "source": [
    "\n",
    "mnist_train_tr = datasets.MNIST(data_path, train=True, download=False, \n",
    "                                            transform=transforms.Compose([\n",
    "                                                transforms.ToTensor()\n",
    "                                            ]))\n",
    "mnist_test_tr  = datasets.MNIST(data_path, train=False, download=False, \n",
    "                                            transform=transforms.Compose([\n",
    "                                                transforms.ToTensor()\n",
    "                                            ]))\n"
   ]
  },
  {
   "cell_type": "markdown",
   "metadata": {},
   "source": [
    "\n",
    "## View the Images\n"
   ]
  },
  {
   "cell_type": "code",
   "execution_count": 49,
   "metadata": {},
   "outputs": [
    {
     "data": {
      "image/jpeg": "[encoded data removed]",
      "image/png": "[encoded data removed]",
      "text/plain": [
       "<PIL.Image.Image image mode=L size=28x28>"
      ]
     },
     "execution_count": 49,
     "metadata": {},
     "output_type": "execute_result"
    }
   ],
   "source": [
    "\n",
    "Image.fromarray(  mnist_test_tr.data[333].numpy()  ) \n"
   ]
  },
  {
   "cell_type": "code",
   "execution_count": 50,
   "metadata": {},
   "outputs": [
    {
     "data": {
      "text/plain": [
       "torch.Size([60000, 28, 28])"
      ]
     },
     "execution_count": 50,
     "metadata": {},
     "output_type": "execute_result"
    }
   ],
   "source": [
    "\n",
    "## mnist_train_tr.data = mnist_train_tr.data.view(60000, 1, 28, 28)\n",
    "\n",
    "mnist_train_tr.data.shape\n"
   ]
  },
  {
   "cell_type": "markdown",
   "metadata": {},
   "source": [
    "\n",
    "## Create Data Loaders\n"
   ]
  },
  {
   "cell_type": "code",
   "execution_count": 51,
   "metadata": {},
   "outputs": [
    {
     "data": {
      "text/plain": [
       "torch.Size([10000, 28, 28])"
      ]
     },
     "execution_count": 51,
     "metadata": {},
     "output_type": "execute_result"
    }
   ],
   "source": [
    "\n",
    "mnist_test_tr.data.shape\n"
   ]
  },
  {
   "cell_type": "code",
   "execution_count": 52,
   "metadata": {},
   "outputs": [],
   "source": [
    "\n",
    "train_dl  = torch.utils.data.DataLoader(mnist_train_tr, batch_size=batch_size, shuffle=True  )\n",
    "\n",
    "test_dl   = torch.utils.data.DataLoader(mnist_test_tr,  batch_size=batch_size, shuffle=False )\n"
   ]
  },
  {
   "cell_type": "markdown",
   "metadata": {},
   "source": [
    "\n",
    "## Utility Functions\n"
   ]
  },
  {
   "cell_type": "code",
   "execution_count": 53,
   "metadata": {},
   "outputs": [],
   "source": [
    "\n",
    "def plot_GAN_losses(list_losses_real, list_losses_fake, list_losses_tricked):\n",
    "    \n",
    "    the_epochs = [i for i in range(len(list_losses_real))]  \n",
    "\n",
    "    plt.plot(the_epochs, list_losses_real,    label = \"real\") \n",
    "    plt.plot(the_epochs, list_losses_fake,    label = \"fake\") \n",
    "    plt.plot(the_epochs, list_losses_tricked, label = \"tricked\")\n",
    "    plt.legend() \n",
    "    plt.show()\n"
   ]
  },
  {
   "cell_type": "code",
   "execution_count": 54,
   "metadata": {},
   "outputs": [],
   "source": [
    "\n",
    "def print_metrics_function(y_test, y_pred):\n",
    "    print('Accuracy: %.2f' % accuracy_score(y_test, y_pred))\n",
    "    confmat = confusion_matrix(y_true=y_test, y_pred=y_pred)\n",
    "    print(\"Confusion Matrix:\")\n",
    "    print(confmat)\n",
    "    print('Precision: %.3f' % precision_score(y_true=y_test, y_pred=y_pred, average='weighted'))\n",
    "    print('Recall: %.3f' % recall_score(y_true=y_test, y_pred=y_pred, average='weighted'))\n",
    "    f1_measure = f1_score(y_true=y_test, y_pred=y_pred, average='weighted')\n",
    "    print('F1-mesure: %.3f' % f1_measure)\n",
    "    return f1_measure, confmat\n"
   ]
  },
  {
   "cell_type": "code",
   "execution_count": 55,
   "metadata": {},
   "outputs": [],
   "source": [
    "\n",
    "def plot_metric_per_epoch(the_scores_list):\n",
    "    x_epochs = []\n",
    "    y_epochs = [] \n",
    "    for i, val in enumerate(the_scores_list):\n",
    "        x_epochs.append(i)\n",
    "        y_epochs.append(val)\n",
    "    \n",
    "    plt.scatter(x_epochs, y_epochs,s=50,c='lightgreen', marker='s', label='score')\n",
    "    plt.xlabel('epoch')\n",
    "    plt.ylabel('score')\n",
    "    plt.title('Score per epoch')\n",
    "    plt.legend()\n",
    "    plt.grid()\n",
    "    plt.show()\n"
   ]
  },
  {
   "cell_type": "code",
   "execution_count": 56,
   "metadata": {},
   "outputs": [],
   "source": [
    "\n",
    "def random_G_vector_input():\n",
    "    rand_vec = torch.randn( 100 )\n",
    "    return rand_vec\n"
   ]
  },
  {
   "cell_type": "code",
   "execution_count": 57,
   "metadata": {},
   "outputs": [],
   "source": [
    "\n",
    "def random_G_batch_vector_input():\n",
    "    rand_vec = torch.randn( (batch_size, 100 ) )\n",
    "    return rand_vec\n"
   ]
  },
  {
   "cell_type": "code",
   "execution_count": 58,
   "metadata": {},
   "outputs": [],
   "source": [
    "\n",
    "def random_batch_one_hot_rc(batch_size, size):\n",
    "    rand_vec = torch.zeros( (batch_size, 10 ) )\n",
    "    for i in range(batch_size):\n",
    "        random_idx = random.randint(0,size-1)\n",
    "        rand_vec[i, random_idx] = 1.0\n",
    "    return rand_vec\n"
   ]
  },
  {
   "cell_type": "code",
   "execution_count": 59,
   "metadata": {},
   "outputs": [
    {
     "data": {
      "text/plain": [
       "'\\n\\n# size here must only be an integer\\ndef generate_random_one_hot(size):\\n    label_tensor = torch.zeros((size))\\n    random_idx = random.randint(0,size-1)\\n    label_tensor[random_idx] = 1.0\\n    return label_tensor\\n'"
      ]
     },
     "execution_count": 59,
     "metadata": {},
     "output_type": "execute_result"
    }
   ],
   "source": [
    "'''\n",
    "\n",
    "# size here must only be an integer\n",
    "def generate_random_one_hot(size):\n",
    "    label_tensor = torch.zeros((size))\n",
    "    random_idx = random.randint(0,size-1)\n",
    "    label_tensor[random_idx] = 1.0\n",
    "    return label_tensor\n",
    "'''\n",
    "\n"
   ]
  },
  {
   "cell_type": "code",
   "execution_count": 60,
   "metadata": {},
   "outputs": [
    {
     "data": {
      "text/plain": [
       "tensor([[0., 0., 0., 0., 0., 0., 0., 0., 0., 1.],\n",
       "        [0., 0., 0., 0., 0., 0., 0., 0., 0., 1.],\n",
       "        [1., 0., 0., 0., 0., 0., 0., 0., 0., 0.],\n",
       "        [0., 1., 0., 0., 0., 0., 0., 0., 0., 0.],\n",
       "        [0., 0., 0., 0., 1., 0., 0., 0., 0., 0.],\n",
       "        [0., 0., 0., 0., 0., 0., 1., 0., 0., 0.],\n",
       "        [1., 0., 0., 0., 0., 0., 0., 0., 0., 0.],\n",
       "        [0., 0., 0., 0., 0., 1., 0., 0., 0., 0.],\n",
       "        [0., 0., 0., 0., 0., 0., 1., 0., 0., 0.],\n",
       "        [0., 1., 0., 0., 0., 0., 0., 0., 0., 0.],\n",
       "        [0., 0., 1., 0., 0., 0., 0., 0., 0., 0.],\n",
       "        [0., 0., 1., 0., 0., 0., 0., 0., 0., 0.],\n",
       "        [0., 0., 0., 0., 0., 0., 1., 0., 0., 0.],\n",
       "        [0., 0., 0., 0., 0., 1., 0., 0., 0., 0.],\n",
       "        [0., 0., 0., 0., 0., 0., 0., 0., 0., 1.],\n",
       "        [0., 1., 0., 0., 0., 0., 0., 0., 0., 0.],\n",
       "        [1., 0., 0., 0., 0., 0., 0., 0., 0., 0.],\n",
       "        [1., 0., 0., 0., 0., 0., 0., 0., 0., 0.],\n",
       "        [0., 0., 0., 1., 0., 0., 0., 0., 0., 0.],\n",
       "        [0., 1., 0., 0., 0., 0., 0., 0., 0., 0.],\n",
       "        [1., 0., 0., 0., 0., 0., 0., 0., 0., 0.],\n",
       "        [0., 0., 0., 0., 1., 0., 0., 0., 0., 0.],\n",
       "        [0., 0., 0., 1., 0., 0., 0., 0., 0., 0.],\n",
       "        [1., 0., 0., 0., 0., 0., 0., 0., 0., 0.],\n",
       "        [0., 0., 0., 0., 0., 0., 0., 1., 0., 0.],\n",
       "        [0., 1., 0., 0., 0., 0., 0., 0., 0., 0.],\n",
       "        [0., 0., 0., 0., 0., 0., 0., 1., 0., 0.],\n",
       "        [0., 0., 0., 0., 0., 1., 0., 0., 0., 0.],\n",
       "        [0., 0., 0., 0., 0., 0., 1., 0., 0., 0.],\n",
       "        [0., 0., 0., 0., 0., 0., 1., 0., 0., 0.],\n",
       "        [0., 0., 0., 0., 0., 0., 1., 0., 0., 0.],\n",
       "        [0., 0., 0., 0., 0., 0., 0., 0., 1., 0.]])"
      ]
     },
     "execution_count": 60,
     "metadata": {},
     "output_type": "execute_result"
    }
   ],
   "source": [
    "\n",
    "random_batch_one_hot_rc(32, 10)\n",
    " \n"
   ]
  },
  {
   "cell_type": "markdown",
   "metadata": {},
   "source": [
    "\n",
    "## NN Architectures\n"
   ]
  },
  {
   "cell_type": "code",
   "execution_count": 61,
   "metadata": {},
   "outputs": [],
   "source": [
    "\n",
    "class Generator_Net(nn.Module):\n",
    "    \n",
    "    def __init__(self):\n",
    "        super().__init__()\n",
    "        \n",
    "\n",
    "        self.linear1 = nn.Linear(100+10, 256)\n",
    "        self.act1    = nn.LeakyReLU(0.02)\n",
    "        self.norm1   = nn.LayerNorm(256)\n",
    "        self.linear2 = nn.Linear(256, 784)\n",
    "        self.act2    = nn.Sigmoid()\n",
    "        self.dropout = nn.Dropout(0.25)\n",
    "        \n",
    "\n",
    "    def forward(self, rand_input, label_tensor ):\n",
    "        \n",
    "        ## print(rand_input.shape)\n",
    "        ## print(label_tensor.shape)\n",
    "\n",
    "        inputs = torch.cat( ( rand_input , label_tensor) , dim=1)\n",
    "\n",
    "        x      = self.linear1( inputs )\n",
    "        x      = self.act1(x)\n",
    "        x      = self.norm1(x) \n",
    "        x      = self.linear2(x)\n",
    "        x      = self.act2(x)\n",
    "        y_pred = x\n",
    "        \n",
    "        return y_pred\n"
   ]
  },
  {
   "cell_type": "code",
   "execution_count": 62,
   "metadata": {},
   "outputs": [],
   "source": [
    "\n",
    "class Generator_DL_Net(nn.Module):\n",
    "    \n",
    "    def __init__(self):\n",
    "        super().__init__()\n",
    "        \n",
    "\n",
    "        self.linear1 = nn.Linear(100, 60)\n",
    "        self.act1    = nn.LeakyReLU(0.02)\n",
    "        self.norm1   = nn.LayerNorm(60)\n",
    "        self.linear2 = nn.Linear(60, 120)\n",
    "        self.act2    = nn.LeakyReLU(0.02)\n",
    "        self.norm2   = nn.LayerNorm(120)\n",
    "        self.linear3 = nn.Linear(120, 784)\n",
    "        self.act3    = nn.Sigmoid()\n",
    "        self.dropout = nn.Dropout(0.2)\n",
    "        \n",
    "\n",
    "    def forward(self, rand_input ):\n",
    "        \n",
    "\n",
    "        x      = self.linear1( rand_input )\n",
    "        x      = self.act1(x)\n",
    "        x      = self.norm1(x) \n",
    "        x      = self.dropout(x)\n",
    "        x      = self.linear2(x)\n",
    "        x      = self.act2(x)\n",
    "        x      = self.norm2(x) \n",
    "        x      = self.dropout(x)\n",
    "        x      = self.linear3(x)\n",
    "        x      = self.act3(x)\n",
    "        \n",
    "        y_pred = x\n",
    "        \n",
    "        return y_pred\n"
   ]
  },
  {
   "cell_type": "code",
   "execution_count": 63,
   "metadata": {},
   "outputs": [],
   "source": [
    "\n",
    "class Discriminator_Net(nn.Module):\n",
    "    \n",
    "    def __init__(self):\n",
    "        super().__init__()\n",
    "        \n",
    "        self.linear1 = nn.Linear(784+10, 100)\n",
    "        self.act1    = nn.ReLU()\n",
    "        self.linear2 = nn.Linear(100, 50)\n",
    "        self.act2    = nn.ReLU()\n",
    "        self.linear3 = nn.Linear(50, 1)\n",
    "        self.act3    = nn.Sigmoid()             ## nn.Softmax(dim=1)\n",
    "        self.dropout = nn.Dropout(0.25)\n",
    "        \n",
    "\n",
    "    def forward(self, x, label_tensor):\n",
    "        \n",
    "        inputs = torch.cat( (x, label_tensor) , dim=1)\n",
    "        \n",
    "        x      = self.linear1( inputs )\n",
    "        x      = self.act1(x)\n",
    "        x      = self.dropout(x)\n",
    "        x      = self.linear2(x)\n",
    "        x      = self.act2(x)\n",
    "        x      = self.dropout(x)\n",
    "        x      = self.linear3(x)\n",
    "        y_pred = self.act3(x)\n",
    "        \n",
    "        return y_pred\n"
   ]
  },
  {
   "cell_type": "markdown",
   "metadata": {},
   "source": [
    "\n",
    "## Training Function\n"
   ]
  },
  {
   "cell_type": "code",
   "execution_count": 64,
   "metadata": {},
   "outputs": [],
   "source": [
    "\n",
    "list_losses_real    = []\n",
    "list_losses_fake    = []\n",
    "list_losses_tricked = []\n",
    "    \n",
    "\n",
    "def training_loop(  N_Epochs, G_model, D_model, D_loss_fn, G_opt, D_opt   ):\n",
    "    \n",
    "\n",
    "    for epoch in range(N_Epochs):\n",
    "        for xb, yb in train_dl:              ## xb = [batch, 1, 28, 28]\n",
    "            \n",
    "            xb = torch.squeeze(xb, dim=1)\n",
    "            xb = xb.reshape((-1, 784))\n",
    "            \n",
    "            ## yb_one_hot = func( yb )\n",
    "            yb = F.one_hot(yb, num_classes=10)\n",
    "            ## print( yb.shape )\n",
    "            ## input()\n",
    "       \n",
    "            #################################################\n",
    "            \n",
    "            ## G_model.eval()     ## No G training\n",
    "            \n",
    "            ## gen_img = G_model( random_G_vector_input() )\n",
    "            \n",
    "            rand_vector = random_batch_one_hot_rc(32, 10)\n",
    "            \n",
    "            gen_img = G_model( random_G_batch_vector_input(),  rand_vector ).detach()\n",
    "            \n",
    "            ## gen_labels = random_batch_one_hot(32, 10)\n",
    "            \n",
    "            ## Train D with real data\n",
    "            D_real_y_pred = D_model(  xb, yb  )\n",
    "            D_real_loss   = D_loss_fn( D_real_y_pred, torch.ones((batch_size, 1)) )\n",
    "            D_opt.zero_grad()\n",
    "            D_real_loss.backward()\n",
    "            D_opt.step()\n",
    "            \n",
    "            ## Train D with fake data\n",
    "            D_fake_y_pred = D_model(  gen_img,  rand_vector  )\n",
    "            D_fake_loss   = D_loss_fn( D_fake_y_pred, torch.zeros((batch_size, 1)))\n",
    "            D_opt.zero_grad()\n",
    "            D_fake_loss.backward()\n",
    "            D_opt.step()\n",
    "            \n",
    "            ## G_model.train()    ## yes G training\n",
    "            \n",
    "            #################################################\n",
    "            \n",
    "            ## D_model.eval()     ## No D training\n",
    "            \n",
    "            ## gen_img = G_model( random_G_vector_input() )\n",
    "            \n",
    "            rand_vector = random_batch_one_hot_rc(32, 10)\n",
    "            \n",
    "            gen_img = G_model( random_G_batch_vector_input(), rand_vector )\n",
    "            \n",
    "            ## Train G with D_loss (need to trick D)\n",
    "            D_tricked_y_pred = D_model(  gen_img, rand_vector  )\n",
    "            D_tricked_loss   = D_loss_fn( D_tricked_y_pred, torch.ones((batch_size, 1)) )\n",
    "            G_opt.zero_grad()\n",
    "            D_tricked_loss.backward()\n",
    "            G_opt.step()\n",
    "            \n",
    "            ## D_model.train()    ## yes D training\n",
    "                        \n",
    "       \n",
    "            \n",
    "        if epoch % 1 == 0:\n",
    "            print(\"******************************\")\n",
    "            print(epoch, \"D_real_loss=\", D_real_loss)\n",
    "            print(epoch, \"D_fake_loss=\", D_fake_loss)\n",
    "            print(epoch, \"D_tricked_loss=\", D_tricked_loss)\n",
    "            list_losses_real.append(        D_real_loss.detach().numpy()  )\n",
    "            list_losses_fake.append(        D_fake_loss.detach().numpy()  )\n",
    "            list_losses_tricked.append(  D_tricked_loss.detach().numpy()  )\n",
    "            \n"
   ]
  },
  {
   "cell_type": "markdown",
   "metadata": {},
   "source": [
    "\n",
    "## Call the core functions\n"
   ]
  },
  {
   "cell_type": "code",
   "execution_count": 65,
   "metadata": {},
   "outputs": [
    {
     "name": "stdout",
     "output_type": "stream",
     "text": [
      "******************************\n",
      "0 D_real_loss= tensor(0.0398, grad_fn=<BinaryCrossEntropyBackward0>)\n",
      "0 D_fake_loss= tensor(0.1359, grad_fn=<BinaryCrossEntropyBackward0>)\n",
      "0 D_tricked_loss= tensor(10.5246, grad_fn=<BinaryCrossEntropyBackward0>)\n",
      "******************************\n",
      "1 D_real_loss= tensor(0.0666, grad_fn=<BinaryCrossEntropyBackward0>)\n",
      "1 D_fake_loss= tensor(0.0719, grad_fn=<BinaryCrossEntropyBackward0>)\n",
      "1 D_tricked_loss= tensor(6.3613, grad_fn=<BinaryCrossEntropyBackward0>)\n",
      "******************************\n",
      "2 D_real_loss= tensor(0.1154, grad_fn=<BinaryCrossEntropyBackward0>)\n",
      "2 D_fake_loss= tensor(0.0360, grad_fn=<BinaryCrossEntropyBackward0>)\n",
      "2 D_tricked_loss= tensor(5.7520, grad_fn=<BinaryCrossEntropyBackward0>)\n",
      "******************************\n",
      "3 D_real_loss= tensor(0.1183, grad_fn=<BinaryCrossEntropyBackward0>)\n",
      "3 D_fake_loss= tensor(0.1424, grad_fn=<BinaryCrossEntropyBackward0>)\n",
      "3 D_tricked_loss= tensor(4.9916, grad_fn=<BinaryCrossEntropyBackward0>)\n",
      "******************************\n",
      "4 D_real_loss= tensor(0.1717, grad_fn=<BinaryCrossEntropyBackward0>)\n",
      "4 D_fake_loss= tensor(0.0866, grad_fn=<BinaryCrossEntropyBackward0>)\n",
      "4 D_tricked_loss= tensor(4.5950, grad_fn=<BinaryCrossEntropyBackward0>)\n",
      "******************************\n",
      "5 D_real_loss= tensor(0.3653, grad_fn=<BinaryCrossEntropyBackward0>)\n",
      "5 D_fake_loss= tensor(0.2041, grad_fn=<BinaryCrossEntropyBackward0>)\n",
      "5 D_tricked_loss= tensor(3.6281, grad_fn=<BinaryCrossEntropyBackward0>)\n",
      "******************************\n",
      "6 D_real_loss= tensor(0.3981, grad_fn=<BinaryCrossEntropyBackward0>)\n",
      "6 D_fake_loss= tensor(0.4991, grad_fn=<BinaryCrossEntropyBackward0>)\n",
      "6 D_tricked_loss= tensor(1.0068, grad_fn=<BinaryCrossEntropyBackward0>)\n",
      "******************************\n",
      "7 D_real_loss= tensor(0.4654, grad_fn=<BinaryCrossEntropyBackward0>)\n",
      "7 D_fake_loss= tensor(0.4848, grad_fn=<BinaryCrossEntropyBackward0>)\n",
      "7 D_tricked_loss= tensor(1.0985, grad_fn=<BinaryCrossEntropyBackward0>)\n",
      "******************************\n",
      "8 D_real_loss= tensor(0.5178, grad_fn=<BinaryCrossEntropyBackward0>)\n",
      "8 D_fake_loss= tensor(0.5410, grad_fn=<BinaryCrossEntropyBackward0>)\n",
      "8 D_tricked_loss= tensor(1.0895, grad_fn=<BinaryCrossEntropyBackward0>)\n",
      "******************************\n",
      "9 D_real_loss= tensor(0.5732, grad_fn=<BinaryCrossEntropyBackward0>)\n",
      "9 D_fake_loss= tensor(0.5852, grad_fn=<BinaryCrossEntropyBackward0>)\n",
      "9 D_tricked_loss= tensor(1.2488, grad_fn=<BinaryCrossEntropyBackward0>)\n",
      "******************************\n",
      "10 D_real_loss= tensor(0.5682, grad_fn=<BinaryCrossEntropyBackward0>)\n",
      "10 D_fake_loss= tensor(0.4286, grad_fn=<BinaryCrossEntropyBackward0>)\n",
      "10 D_tricked_loss= tensor(1.1896, grad_fn=<BinaryCrossEntropyBackward0>)\n",
      "******************************\n",
      "11 D_real_loss= tensor(0.6155, grad_fn=<BinaryCrossEntropyBackward0>)\n",
      "11 D_fake_loss= tensor(0.5295, grad_fn=<BinaryCrossEntropyBackward0>)\n",
      "11 D_tricked_loss= tensor(1.0814, grad_fn=<BinaryCrossEntropyBackward0>)\n",
      "******************************\n",
      "12 D_real_loss= tensor(0.6027, grad_fn=<BinaryCrossEntropyBackward0>)\n",
      "12 D_fake_loss= tensor(0.4414, grad_fn=<BinaryCrossEntropyBackward0>)\n",
      "12 D_tricked_loss= tensor(1.0815, grad_fn=<BinaryCrossEntropyBackward0>)\n",
      "******************************\n",
      "13 D_real_loss= tensor(0.4625, grad_fn=<BinaryCrossEntropyBackward0>)\n",
      "13 D_fake_loss= tensor(0.5153, grad_fn=<BinaryCrossEntropyBackward0>)\n",
      "13 D_tricked_loss= tensor(1.0770, grad_fn=<BinaryCrossEntropyBackward0>)\n",
      "******************************\n",
      "14 D_real_loss= tensor(0.6983, grad_fn=<BinaryCrossEntropyBackward0>)\n",
      "14 D_fake_loss= tensor(0.4526, grad_fn=<BinaryCrossEntropyBackward0>)\n",
      "14 D_tricked_loss= tensor(0.9857, grad_fn=<BinaryCrossEntropyBackward0>)\n",
      "******************************\n",
      "15 D_real_loss= tensor(0.6066, grad_fn=<BinaryCrossEntropyBackward0>)\n",
      "15 D_fake_loss= tensor(0.5697, grad_fn=<BinaryCrossEntropyBackward0>)\n",
      "15 D_tricked_loss= tensor(0.9346, grad_fn=<BinaryCrossEntropyBackward0>)\n",
      "******************************\n",
      "16 D_real_loss= tensor(0.5336, grad_fn=<BinaryCrossEntropyBackward0>)\n",
      "16 D_fake_loss= tensor(0.5278, grad_fn=<BinaryCrossEntropyBackward0>)\n",
      "16 D_tricked_loss= tensor(0.9771, grad_fn=<BinaryCrossEntropyBackward0>)\n",
      "******************************\n",
      "17 D_real_loss= tensor(0.5515, grad_fn=<BinaryCrossEntropyBackward0>)\n",
      "17 D_fake_loss= tensor(0.6785, grad_fn=<BinaryCrossEntropyBackward0>)\n",
      "17 D_tricked_loss= tensor(0.9138, grad_fn=<BinaryCrossEntropyBackward0>)\n",
      "******************************\n",
      "18 D_real_loss= tensor(0.6309, grad_fn=<BinaryCrossEntropyBackward0>)\n",
      "18 D_fake_loss= tensor(0.5451, grad_fn=<BinaryCrossEntropyBackward0>)\n",
      "18 D_tricked_loss= tensor(0.9497, grad_fn=<BinaryCrossEntropyBackward0>)\n",
      "******************************\n",
      "19 D_real_loss= tensor(0.6780, grad_fn=<BinaryCrossEntropyBackward0>)\n",
      "19 D_fake_loss= tensor(0.5827, grad_fn=<BinaryCrossEntropyBackward0>)\n",
      "19 D_tricked_loss= tensor(0.9568, grad_fn=<BinaryCrossEntropyBackward0>)\n",
      "******************************\n",
      "20 D_real_loss= tensor(0.7519, grad_fn=<BinaryCrossEntropyBackward0>)\n",
      "20 D_fake_loss= tensor(0.5640, grad_fn=<BinaryCrossEntropyBackward0>)\n",
      "20 D_tricked_loss= tensor(0.8810, grad_fn=<BinaryCrossEntropyBackward0>)\n",
      "******************************\n",
      "21 D_real_loss= tensor(0.6515, grad_fn=<BinaryCrossEntropyBackward0>)\n",
      "21 D_fake_loss= tensor(0.4913, grad_fn=<BinaryCrossEntropyBackward0>)\n",
      "21 D_tricked_loss= tensor(0.9264, grad_fn=<BinaryCrossEntropyBackward0>)\n",
      "******************************\n",
      "22 D_real_loss= tensor(0.6357, grad_fn=<BinaryCrossEntropyBackward0>)\n",
      "22 D_fake_loss= tensor(0.5501, grad_fn=<BinaryCrossEntropyBackward0>)\n",
      "22 D_tricked_loss= tensor(1.0006, grad_fn=<BinaryCrossEntropyBackward0>)\n",
      "******************************\n",
      "23 D_real_loss= tensor(0.5514, grad_fn=<BinaryCrossEntropyBackward0>)\n",
      "23 D_fake_loss= tensor(0.6363, grad_fn=<BinaryCrossEntropyBackward0>)\n",
      "23 D_tricked_loss= tensor(1.0006, grad_fn=<BinaryCrossEntropyBackward0>)\n",
      "******************************\n",
      "24 D_real_loss= tensor(0.5430, grad_fn=<BinaryCrossEntropyBackward0>)\n",
      "24 D_fake_loss= tensor(0.6857, grad_fn=<BinaryCrossEntropyBackward0>)\n",
      "24 D_tricked_loss= tensor(1.1177, grad_fn=<BinaryCrossEntropyBackward0>)\n",
      "******************************\n",
      "25 D_real_loss= tensor(0.6275, grad_fn=<BinaryCrossEntropyBackward0>)\n",
      "25 D_fake_loss= tensor(0.6804, grad_fn=<BinaryCrossEntropyBackward0>)\n",
      "25 D_tricked_loss= tensor(0.9877, grad_fn=<BinaryCrossEntropyBackward0>)\n",
      "******************************\n",
      "26 D_real_loss= tensor(0.6099, grad_fn=<BinaryCrossEntropyBackward0>)\n",
      "26 D_fake_loss= tensor(0.5200, grad_fn=<BinaryCrossEntropyBackward0>)\n",
      "26 D_tricked_loss= tensor(1.0405, grad_fn=<BinaryCrossEntropyBackward0>)\n",
      "******************************\n",
      "27 D_real_loss= tensor(0.4804, grad_fn=<BinaryCrossEntropyBackward0>)\n",
      "27 D_fake_loss= tensor(0.5596, grad_fn=<BinaryCrossEntropyBackward0>)\n",
      "27 D_tricked_loss= tensor(1.0399, grad_fn=<BinaryCrossEntropyBackward0>)\n",
      "******************************\n",
      "28 D_real_loss= tensor(0.6020, grad_fn=<BinaryCrossEntropyBackward0>)\n",
      "28 D_fake_loss= tensor(0.6189, grad_fn=<BinaryCrossEntropyBackward0>)\n",
      "28 D_tricked_loss= tensor(1.1108, grad_fn=<BinaryCrossEntropyBackward0>)\n",
      "******************************\n",
      "29 D_real_loss= tensor(0.4853, grad_fn=<BinaryCrossEntropyBackward0>)\n",
      "29 D_fake_loss= tensor(0.5596, grad_fn=<BinaryCrossEntropyBackward0>)\n",
      "29 D_tricked_loss= tensor(1.0213, grad_fn=<BinaryCrossEntropyBackward0>)\n"
     ]
    }
   ],
   "source": [
    "\n",
    "G_model     = Generator_Net()\n",
    "\n",
    "## G_model     = Generator_DL_Net()\n",
    "\n",
    "D_model     = Discriminator_Net()\n",
    "\n",
    "## D_loss_fn   = nn.CrossEntropyLoss( )  \n",
    "## D_loss_fn   = F.mse_loss\n",
    "\n",
    "D_loss_fn   = nn.BCELoss()\n",
    "\n",
    "G_opt       = torch.optim.Adam( G_model.parameters(), lr=learning_rate )\n",
    "D_opt       = torch.optim.Adam( D_model.parameters(), lr=learning_rate )\n",
    "\n",
    "training_loop(  N_Epochs, G_model, D_model, D_loss_fn, G_opt, D_opt )\n"
   ]
  },
  {
   "cell_type": "code",
   "execution_count": 67,
   "metadata": {},
   "outputs": [
    {
     "data": {
      "image/png": "[encoded data removed]",
      "text/plain": [
       "<Figure size 432x288 with 1 Axes>"
      ]
     },
     "metadata": {
      "needs_background": "light"
     },
     "output_type": "display_data"
    }
   ],
   "source": [
    "\n",
    "plot_GAN_losses(list_losses_real, list_losses_fake, list_losses_tricked)\n"
   ]
  },
  {
   "cell_type": "markdown",
   "metadata": {},
   "source": [
    "\n",
    "## Test generating after training\n"
   ]
  },
  {
   "cell_type": "markdown",
   "metadata": {},
   "source": [
    "\n",
    "## Inference CGAN\n"
   ]
  },
  {
   "cell_type": "code",
   "execution_count": 74,
   "metadata": {},
   "outputs": [
    {
     "data": {
      "text/plain": [
       "torch.Size([1, 10])"
      ]
     },
     "execution_count": 74,
     "metadata": {},
     "output_type": "execute_result"
    }
   ],
   "source": [
    "\n",
    "label = 9\n",
    "        \n",
    "label_tensor = torch.zeros((10))\n",
    "label_tensor[label] = 1.0\n",
    "\n",
    "        \n",
    "label_tensor = label_tensor.unsqueeze(0)\n",
    "label_tensor.shape\n"
   ]
  },
  {
   "cell_type": "code",
   "execution_count": null,
   "metadata": {},
   "outputs": [],
   "source": []
  },
  {
   "cell_type": "code",
   "execution_count": 75,
   "metadata": {},
   "outputs": [
    {
     "data": {
      "image/png": "[encoded data removed]",
      "text/plain": [
       "<Figure size 1152x576 with 6 Axes>"
      ]
     },
     "metadata": {
      "needs_background": "light"
     },
     "output_type": "display_data"
    }
   ],
   "source": [
    "\n",
    "f, axarr = plt.subplots(2,3, figsize=(16,8))\n",
    "\n",
    "for i in range(2):\n",
    "    for j in range(3):\n",
    "        output = G_model.forward( random_G_vector_input().unsqueeze(0), label_tensor)\n",
    "        img = output.detach().numpy().reshape(28,28)\n",
    "        axarr[i,j].imshow(img, interpolation='none', cmap='Blues')\n",
    "\n",
    "      \n"
   ]
  },
  {
   "cell_type": "code",
   "execution_count": 76,
   "metadata": {},
   "outputs": [
    {
     "data": {
      "image/png": "[encoded data removed]",
      "text/plain": [
       "<Figure size 1152x576 with 6 Axes>"
      ]
     },
     "metadata": {
      "needs_background": "light"
     },
     "output_type": "display_data"
    }
   ],
   "source": [
    "\n",
    "label = 3\n",
    "        \n",
    "label_tensor = torch.zeros((10))\n",
    "label_tensor[label] = 1.0\n",
    "\n",
    "        \n",
    "label_tensor = label_tensor.unsqueeze(0)\n",
    "\n",
    "f, axarr = plt.subplots(2,3, figsize=(16,8))\n",
    "\n",
    "for i in range(2):\n",
    "    for j in range(3):\n",
    "        output = G_model.forward( random_G_vector_input().unsqueeze(0), label_tensor)\n",
    "        img = output.detach().numpy().reshape(28,28)\n",
    "        axarr[i,j].imshow(img, interpolation='none', cmap='Blues')\n",
    "\n",
    "    \n"
   ]
  },
  {
   "cell_type": "code",
   "execution_count": 77,
   "metadata": {},
   "outputs": [
    {
     "data": {
      "image/png": "[encoded data removed]",
      "text/plain": [
       "<Figure size 1152x576 with 6 Axes>"
      ]
     },
     "metadata": {
      "needs_background": "light"
     },
     "output_type": "display_data"
    }
   ],
   "source": [
    "\n",
    "\n",
    "label = 1\n",
    "        \n",
    "label_tensor = torch.zeros((10))\n",
    "label_tensor[label] = 1.0\n",
    "\n",
    "        \n",
    "label_tensor = label_tensor.unsqueeze(0)\n",
    "\n",
    "f, axarr = plt.subplots(2,3, figsize=(16,8))\n",
    "\n",
    "for i in range(2):\n",
    "    for j in range(3):\n",
    "        output = G_model.forward( random_G_vector_input().unsqueeze(0), label_tensor)\n",
    "        img = output.detach().numpy().reshape(28,28)\n",
    "        axarr[i,j].imshow(img, interpolation='none', cmap='Blues')\n",
    "\n",
    "      \n"
   ]
  },
  {
   "cell_type": "code",
   "execution_count": 78,
   "metadata": {},
   "outputs": [
    {
     "data": {
      "image/png": "[encoded data removed]",
      "text/plain": [
       "<Figure size 1152x576 with 6 Axes>"
      ]
     },
     "metadata": {
      "needs_background": "light"
     },
     "output_type": "display_data"
    }
   ],
   "source": [
    "\n",
    "label = 2\n",
    "        \n",
    "label_tensor = torch.zeros((10))\n",
    "label_tensor[label] = 1.0\n",
    "\n",
    "        \n",
    "label_tensor = label_tensor.unsqueeze(0)\n",
    "\n",
    "f, axarr = plt.subplots(2,3, figsize=(16,8))\n",
    "\n",
    "for i in range(2):\n",
    "    for j in range(3):\n",
    "        output = G_model.forward( random_G_vector_input().unsqueeze(0), label_tensor)\n",
    "        img = output.detach().numpy().reshape(28,28)\n",
    "        axarr[i,j].imshow(img, interpolation='none', cmap='Blues')\n",
    "\n",
    "      \n"
   ]
  },
  {
   "cell_type": "code",
   "execution_count": 79,
   "metadata": {},
   "outputs": [
    {
     "data": {
      "image/png": "[encoded data removed]",
      "text/plain": [
       "<Figure size 1152x576 with 6 Axes>"
      ]
     },
     "metadata": {
      "needs_background": "light"
     },
     "output_type": "display_data"
    }
   ],
   "source": [
    "\n",
    "label = 4\n",
    "        \n",
    "label_tensor = torch.zeros((10))\n",
    "label_tensor[label] = 1.0\n",
    "\n",
    "        \n",
    "label_tensor = label_tensor.unsqueeze(0)\n",
    "\n",
    "f, axarr = plt.subplots(2,3, figsize=(16,8))\n",
    "\n",
    "for i in range(2):\n",
    "    for j in range(3):\n",
    "        output = G_model.forward( random_G_vector_input().unsqueeze(0), label_tensor)\n",
    "        img = output.detach().numpy().reshape(28,28)\n",
    "        axarr[i,j].imshow(img, interpolation='none', cmap='Blues')\n",
    "\n",
    "      \n"
   ]
  },
  {
   "cell_type": "code",
   "execution_count": 80,
   "metadata": {},
   "outputs": [
    {
     "data": {
      "image/png": "[encoded data removed]",
      "text/plain": [
       "<Figure size 1152x576 with 6 Axes>"
      ]
     },
     "metadata": {
      "needs_background": "light"
     },
     "output_type": "display_data"
    }
   ],
   "source": [
    "\n",
    "label = 5\n",
    "        \n",
    "label_tensor = torch.zeros((10))\n",
    "label_tensor[label] = 1.0\n",
    "\n",
    "        \n",
    "label_tensor = label_tensor.unsqueeze(0)\n",
    "\n",
    "f, axarr = plt.subplots(2,3, figsize=(16,8))\n",
    "\n",
    "for i in range(2):\n",
    "    for j in range(3):\n",
    "        output = G_model.forward( random_G_vector_input().unsqueeze(0), label_tensor)\n",
    "        img = output.detach().numpy().reshape(28,28)\n",
    "        axarr[i,j].imshow(img, interpolation='none', cmap='Blues')\n",
    "\n",
    "      \n"
   ]
  },
  {
   "cell_type": "code",
   "execution_count": 81,
   "metadata": {},
   "outputs": [
    {
     "data": {
      "image/png": "[encoded data removed]",
      "text/plain": [
       "<Figure size 1152x576 with 6 Axes>"
      ]
     },
     "metadata": {
      "needs_background": "light"
     },
     "output_type": "display_data"
    }
   ],
   "source": [
    "\n",
    "label = 6\n",
    "        \n",
    "label_tensor = torch.zeros((10))\n",
    "label_tensor[label] = 1.0\n",
    "\n",
    "        \n",
    "label_tensor = label_tensor.unsqueeze(0)\n",
    "\n",
    "f, axarr = plt.subplots(2,3, figsize=(16,8))\n",
    "\n",
    "for i in range(2):\n",
    "    for j in range(3):\n",
    "        output = G_model.forward( random_G_vector_input().unsqueeze(0), label_tensor)\n",
    "        img = output.detach().numpy().reshape(28,28)\n",
    "        axarr[i,j].imshow(img, interpolation='none', cmap='Blues')\n",
    "\n",
    "      \n"
   ]
  },
  {
   "cell_type": "code",
   "execution_count": 82,
   "metadata": {},
   "outputs": [
    {
     "data": {
      "image/png": "[encoded data removed]",
      "text/plain": [
       "<Figure size 1152x576 with 6 Axes>"
      ]
     },
     "metadata": {
      "needs_background": "light"
     },
     "output_type": "display_data"
    }
   ],
   "source": [
    "\n",
    "label = 7\n",
    "        \n",
    "label_tensor = torch.zeros((10))\n",
    "label_tensor[label] = 1.0\n",
    "\n",
    "        \n",
    "label_tensor = label_tensor.unsqueeze(0)\n",
    "\n",
    "f, axarr = plt.subplots(2,3, figsize=(16,8))\n",
    "\n",
    "for i in range(2):\n",
    "    for j in range(3):\n",
    "        output = G_model.forward( random_G_vector_input().unsqueeze(0), label_tensor)\n",
    "        img = output.detach().numpy().reshape(28,28)\n",
    "        axarr[i,j].imshow(img, interpolation='none', cmap='Blues')\n",
    "\n",
    "      \n"
   ]
  },
  {
   "cell_type": "code",
   "execution_count": 83,
   "metadata": {},
   "outputs": [
    {
     "data": {
      "image/png": "[encoded data removed]",
      "text/plain": [
       "<Figure size 1152x576 with 6 Axes>"
      ]
     },
     "metadata": {
      "needs_background": "light"
     },
     "output_type": "display_data"
    }
   ],
   "source": [
    "\n",
    "label = 8\n",
    "        \n",
    "label_tensor = torch.zeros((10))\n",
    "label_tensor[label] = 1.0\n",
    "\n",
    "        \n",
    "label_tensor = label_tensor.unsqueeze(0)\n",
    "\n",
    "f, axarr = plt.subplots(2,3, figsize=(16,8))\n",
    "\n",
    "for i in range(2):\n",
    "    for j in range(3):\n",
    "        output = G_model.forward( random_G_vector_input().unsqueeze(0), label_tensor)\n",
    "        img = output.detach().numpy().reshape(28,28)\n",
    "        axarr[i,j].imshow(img, interpolation='none', cmap='Blues')\n",
    "\n",
    "      \n"
   ]
  },
  {
   "cell_type": "code",
   "execution_count": null,
   "metadata": {},
   "outputs": [],
   "source": []
  },
  {
   "cell_type": "code",
   "execution_count": null,
   "metadata": {},
   "outputs": [],
   "source": []
  },
  {
   "cell_type": "code",
   "execution_count": null,
   "metadata": {},
   "outputs": [],
   "source": []
  },
  {
   "cell_type": "code",
   "execution_count": null,
   "metadata": {},
   "outputs": [],
   "source": []
  },
  {
   "cell_type": "code",
   "execution_count": null,
   "metadata": {},
   "outputs": [],
   "source": []
  }
 ],
 "metadata": {
  "kernelspec": {
   "display_name": "Python 3.8 (Anaconda 2020.11)",
   "language": "python",
   "name": "anaconda-2020.11-py38"
  },
  "language_info": {
   "codemirror_mode": {
    "name": "ipython",
    "version": 3
   },
   "file_extension": ".py",
   "mimetype": "text/x-python",
   "name": "python",
   "nbconvert_exporter": "python",
   "pygments_lexer": "ipython3",
   "version": "3.8.5"
  }
 },
 "nbformat": 4,
 "nbformat_minor": 4
}
