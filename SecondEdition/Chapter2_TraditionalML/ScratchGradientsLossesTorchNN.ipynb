{
 "cells": [
  {
   "cell_type": "code",
   "execution_count": 1,
   "id": "91e5a372",
   "metadata": {},
   "outputs": [],
   "source": [
    "\n",
    "import torch\n",
    "import numpy as nn\n",
    "import matplotlib.pyplot as plt\n"
   ]
  },
  {
   "cell_type": "code",
   "execution_count": 2,
   "id": "8758fee3",
   "metadata": {},
   "outputs": [
    {
     "data": {
      "text/plain": [
       "tensor(14.5000)"
      ]
     },
     "execution_count": 2,
     "metadata": {},
     "output_type": "execute_result"
    }
   ],
   "source": [
    "\n",
    "x = torch.tensor( 14.5  )\n",
    "x\n"
   ]
  },
  {
   "cell_type": "code",
   "execution_count": 3,
   "id": "92b96915",
   "metadata": {},
   "outputs": [
    {
     "data": {
      "text/plain": [
       "tensor(19.5000)"
      ]
     },
     "execution_count": 3,
     "metadata": {},
     "output_type": "execute_result"
    }
   ],
   "source": [
    "\n",
    "y = x + 5\n",
    "y\n"
   ]
  },
  {
   "cell_type": "markdown",
   "id": "47728db0",
   "metadata": {},
   "source": [
    "\n",
    "## Automatic gradients\n"
   ]
  },
  {
   "cell_type": "code",
   "execution_count": 4,
   "id": "796ab2eb",
   "metadata": {},
   "outputs": [
    {
     "name": "stdout",
     "output_type": "stream",
     "text": [
      "tensor(3.5000, requires_grad=True)\n"
     ]
    }
   ],
   "source": [
    "\n",
    "x = torch.tensor(3.5 , requires_grad=True)\n",
    "print(x)\n"
   ]
  },
  {
   "cell_type": "code",
   "execution_count": 5,
   "id": "860e4ff7",
   "metadata": {},
   "outputs": [
    {
     "name": "stdout",
     "output_type": "stream",
     "text": [
      "tensor(1.8750, grad_fn=<MulBackward0>)\n"
     ]
    }
   ],
   "source": [
    "\n",
    "y = (x-1) * (x-2) * (x-3)\n",
    "print(y)\n"
   ]
  },
  {
   "cell_type": "code",
   "execution_count": 6,
   "id": "52747d08",
   "metadata": {},
   "outputs": [],
   "source": [
    "\n",
    "def fun3(x):\n",
    "    y = (x-1) * (x-2) * (x-3)\n",
    "    return y\n"
   ]
  },
  {
   "cell_type": "code",
   "execution_count": 7,
   "id": "a654db34",
   "metadata": {},
   "outputs": [
    {
     "name": "stdout",
     "output_type": "stream",
     "text": [
      "tensor([-1,  0,  1,  2,  3,  4,  5])\n",
      "tensor([-24,  -6,   0,   0,   0,   6,  24])\n"
     ]
    },
    {
     "data": {
      "image/png": "[encoded data removed]",
      "text/plain": [
       "<Figure size 640x480 with 1 Axes>"
      ]
     },
     "metadata": {},
     "output_type": "display_data"
    }
   ],
   "source": [
    "\n",
    "x1    = [ i for i in range( -1, 6   ) ] \n",
    "x1    = torch.tensor( x1 )\n",
    "print(x1)\n",
    "x2    = fun3( x1 )\n",
    "print(x2)\n",
    "        \n",
    "plt.axvline(x = 0, color = 'b')  \n",
    "plt.axhline(y = 0, color = 'b', linestyle='--')\n",
    "\n",
    "plt.scatter(x1, x2, label = \"real\", color='red') \n",
    "plt.plot(   x1, x2, label = \"real\", color='red')  \n",
    "        \n",
    "       \n",
    "plt.legend() \n",
    "plt.show()\n"
   ]
  },
  {
   "cell_type": "markdown",
   "id": "2586a1a9",
   "metadata": {},
   "source": [
    "\n",
    "## Gradient\n"
   ]
  },
  {
   "cell_type": "code",
   "execution_count": 8,
   "id": "d77d59c9",
   "metadata": {},
   "outputs": [
    {
     "name": "stdout",
     "output_type": "stream",
     "text": [
      "tensor(3.5000, requires_grad=True)\n"
     ]
    }
   ],
   "source": [
    "\n",
    "x = torch.tensor(3.5 , requires_grad=True)\n",
    "print(x)\n"
   ]
  },
  {
   "cell_type": "code",
   "execution_count": 9,
   "id": "742cc9a5",
   "metadata": {},
   "outputs": [
    {
     "name": "stdout",
     "output_type": "stream",
     "text": [
      "tensor(1.8750, grad_fn=<MulBackward0>)\n"
     ]
    }
   ],
   "source": [
    "\n",
    "y = (x-1) * (x-2) * (x-3)\n",
    "print(y)\n",
    "\n"
   ]
  },
  {
   "cell_type": "markdown",
   "id": "cf486056",
   "metadata": {},
   "source": [
    "\n",
    "$$\n",
    " \\frac{dy}{dx} =\n",
    "$$\n"
   ]
  },
  {
   "cell_type": "code",
   "execution_count": 10,
   "id": "ae69c284",
   "metadata": {},
   "outputs": [],
   "source": [
    "\n",
    "## Work out the gradients \n",
    "\n",
    "y.backward()\n"
   ]
  },
  {
   "cell_type": "markdown",
   "id": "76e39a43",
   "metadata": {},
   "source": [
    "\n",
    "## The derivative of y is:\n",
    "\n",
    "$$\n",
    " 3x^2 - 12 x + 11\n",
    "$$\n"
   ]
  },
  {
   "cell_type": "code",
   "execution_count": 11,
   "id": "d0315395",
   "metadata": {},
   "outputs": [
    {
     "data": {
      "text/plain": [
       "tensor(5.7500)"
      ]
     },
     "execution_count": 11,
     "metadata": {},
     "output_type": "execute_result"
    }
   ],
   "source": [
    "\n",
    "x.grad\n"
   ]
  },
  {
   "cell_type": "code",
   "execution_count": 12,
   "id": "ee46b862",
   "metadata": {},
   "outputs": [
    {
     "data": {
      "text/plain": [
       "5.75"
      ]
     },
     "execution_count": 12,
     "metadata": {},
     "output_type": "execute_result"
    }
   ],
   "source": [
    "\n",
    "y_der = 3 * (3.5 * 3.5) - 12 * (3.5) + 11\n",
    "y_der\n"
   ]
  },
  {
   "cell_type": "markdown",
   "id": "9bc0e5a7",
   "metadata": {},
   "source": [
    "\n",
    "## Another Example\n"
   ]
  },
  {
   "cell_type": "markdown",
   "id": "b6e3a504",
   "metadata": {},
   "source": [
    "\n",
    "$$\n",
    "y = x^2\n",
    "$$\n",
    "\n",
    "$$\n",
    "z = 2y + 3\n",
    "$$\n",
    "\n",
    "$$\n",
    " \\frac{dz}{dx} = \\frac{dz}{dy}*\\frac{dy}{dx} \n",
    "$$\n",
    "\n",
    "$$\n",
    " \\frac{dz}{dx} = 2 * 2x \n",
    "$$\n",
    "\n",
    "$$\n",
    " \\frac{dz}{dx} = 4x \n",
    "$$\n"
   ]
  },
  {
   "cell_type": "code",
   "execution_count": 13,
   "id": "f514632c",
   "metadata": {},
   "outputs": [
    {
     "name": "stdout",
     "output_type": "stream",
     "text": [
      "tensor(3.5000, requires_grad=True)\n"
     ]
    }
   ],
   "source": [
    "\n",
    "x = torch.tensor(3.5 , requires_grad=True)\n",
    "print(x)\n"
   ]
  },
  {
   "cell_type": "code",
   "execution_count": 14,
   "id": "d49265fd",
   "metadata": {},
   "outputs": [],
   "source": [
    "\n",
    "y = x*x\n",
    "\n",
    "z = 2*y + 3\n"
   ]
  },
  {
   "cell_type": "code",
   "execution_count": 15,
   "id": "5526bf42",
   "metadata": {},
   "outputs": [],
   "source": [
    "\n",
    "z.backward()\n"
   ]
  },
  {
   "cell_type": "code",
   "execution_count": 16,
   "id": "822b683f",
   "metadata": {},
   "outputs": [
    {
     "data": {
      "text/plain": [
       "tensor(14.)"
      ]
     },
     "execution_count": 16,
     "metadata": {},
     "output_type": "execute_result"
    }
   ],
   "source": [
    "\n",
    "x.grad\n"
   ]
  },
  {
   "cell_type": "code",
   "execution_count": 17,
   "id": "b44ccf17",
   "metadata": {},
   "outputs": [
    {
     "data": {
      "text/plain": [
       "tensor(14., grad_fn=<MulBackward0>)"
      ]
     },
     "execution_count": 17,
     "metadata": {},
     "output_type": "execute_result"
    }
   ],
   "source": [
    "\n",
    "4 * x\n"
   ]
  },
  {
   "cell_type": "markdown",
   "id": "a5be6131",
   "metadata": {},
   "source": [
    "\n",
    "## And another example (Using the chain rule of calculus)\n"
   ]
  },
  {
   "cell_type": "markdown",
   "id": "615f7094",
   "metadata": {},
   "source": [
    "\n",
    "$$\n",
    " \\frac{dz}{dx} = 2 \n",
    "$$\n",
    "\n",
    "$$\n",
    " \\frac{dx}{da} = 2\n",
    "$$\n",
    "\n",
    "$$\n",
    " \\frac{dy}{da} = 10 * a\n",
    "$$\n",
    "\n",
    "$$\n",
    " \\frac{dz}{dy} = 3\n",
    "$$\n",
    "\n",
    "$$\n",
    " \\frac{dx}{db} = 3\n",
    "$$\n",
    "\n",
    "$$\n",
    " \\frac{dy}{db} = 9 b^2\n",
    "$$\n"
   ]
  },
  {
   "cell_type": "code",
   "execution_count": 18,
   "id": "d7aa9363",
   "metadata": {},
   "outputs": [],
   "source": [
    "\n",
    "## a <-2-    x  <-2-  z\n",
    "## a <-10a-  y  <-3-  z \n",
    "\n",
    "## path 2*2 + 3*10a\n",
    "\n",
    "## if a=2, then 4+30*2 = 64\n"
   ]
  },
  {
   "cell_type": "code",
   "execution_count": 19,
   "id": "fc47dcfe",
   "metadata": {},
   "outputs": [],
   "source": [
    "\n",
    "a = torch.tensor(2.0, requires_grad=True)\n",
    "b = torch.tensor(1.0, requires_grad=True)\n"
   ]
  },
  {
   "cell_type": "code",
   "execution_count": 20,
   "id": "cc772e65",
   "metadata": {},
   "outputs": [],
   "source": [
    "\n",
    "x = 2*a + 3*b\n",
    "\n",
    "y = 5*a*a + 3*b*b*b\n",
    "\n",
    "z = 2*x + 3*y\n",
    "\n"
   ]
  },
  {
   "cell_type": "code",
   "execution_count": 21,
   "id": "c051c7fd",
   "metadata": {},
   "outputs": [],
   "source": [
    "\n",
    "z.backward()\n"
   ]
  },
  {
   "cell_type": "code",
   "execution_count": 22,
   "id": "87189fcf",
   "metadata": {},
   "outputs": [
    {
     "data": {
      "text/plain": [
       "tensor(64.)"
      ]
     },
     "execution_count": 22,
     "metadata": {},
     "output_type": "execute_result"
    }
   ],
   "source": [
    "\n",
    "a.grad\n"
   ]
  },
  {
   "cell_type": "markdown",
   "id": "c16c3da8",
   "metadata": {},
   "source": [
    "\n",
    "## How does all this relate to training ??\n",
    "\n",
    "* For the previous example, assume the output is \"z\"\n",
    "* and assume the correct value (e.g. label/regressor) is \"t\"\n",
    "* Then the error\n",
    "\n",
    "$$\n",
    "E = (z-t)^2\n",
    "$$\n",
    "\n",
    "* The E is just another node in the computational graph \n",
    "* It is now effectively the output node\n",
    "\n",
    "So\n",
    "\n",
    "$$\n",
    "dE/dw_1= ?? \n",
    "$$\n",
    "\n",
    "or\n",
    "\n",
    "$$\n",
    "dE/dw_2= ?? \n",
    "$$\n",
    "\n",
    "etc...\n"
   ]
  },
  {
   "cell_type": "code",
   "execution_count": null,
   "id": "1442699b",
   "metadata": {},
   "outputs": [],
   "source": [
    "\n",
    "\n"
   ]
  },
  {
   "cell_type": "code",
   "execution_count": null,
   "id": "de8b6eba",
   "metadata": {},
   "outputs": [],
   "source": []
  },
  {
   "cell_type": "code",
   "execution_count": null,
   "id": "2310e85d",
   "metadata": {},
   "outputs": [],
   "source": []
  },
  {
   "cell_type": "code",
   "execution_count": null,
   "id": "65653673",
   "metadata": {},
   "outputs": [],
   "source": []
  },
  {
   "cell_type": "code",
   "execution_count": null,
   "id": "9eec3d08",
   "metadata": {},
   "outputs": [],
   "source": []
  },
  {
   "cell_type": "code",
   "execution_count": null,
   "id": "cb871999",
   "metadata": {},
   "outputs": [],
   "source": []
  },
  {
   "cell_type": "code",
   "execution_count": null,
   "id": "e3cc5be6",
   "metadata": {},
   "outputs": [],
   "source": []
  },
  {
   "cell_type": "code",
   "execution_count": null,
   "id": "ec107fba",
   "metadata": {},
   "outputs": [],
   "source": []
  },
  {
   "cell_type": "code",
   "execution_count": null,
   "id": "fe5033c1",
   "metadata": {},
   "outputs": [],
   "source": []
  },
  {
   "cell_type": "code",
   "execution_count": null,
   "id": "a74a261c",
   "metadata": {},
   "outputs": [],
   "source": []
  },
  {
   "cell_type": "code",
   "execution_count": null,
   "id": "bed40f22",
   "metadata": {},
   "outputs": [],
   "source": []
  },
  {
   "cell_type": "code",
   "execution_count": null,
   "id": "52b55c35",
   "metadata": {},
   "outputs": [],
   "source": []
  },
  {
   "cell_type": "code",
   "execution_count": null,
   "id": "3a0d4c92",
   "metadata": {},
   "outputs": [],
   "source": []
  },
  {
   "cell_type": "code",
   "execution_count": null,
   "id": "dac04eda",
   "metadata": {},
   "outputs": [],
   "source": []
  },
  {
   "cell_type": "code",
   "execution_count": null,
   "id": "fa6b72c3",
   "metadata": {},
   "outputs": [],
   "source": []
  },
  {
   "cell_type": "code",
   "execution_count": null,
   "id": "f32d3058",
   "metadata": {},
   "outputs": [],
   "source": []
  },
  {
   "cell_type": "code",
   "execution_count": null,
   "id": "840339a8",
   "metadata": {},
   "outputs": [],
   "source": []
  },
  {
   "cell_type": "code",
   "execution_count": null,
   "id": "d74ad08a",
   "metadata": {},
   "outputs": [],
   "source": []
  },
  {
   "cell_type": "code",
   "execution_count": null,
   "id": "e5953210",
   "metadata": {},
   "outputs": [],
   "source": []
  },
  {
   "cell_type": "code",
   "execution_count": null,
   "id": "33f6ae5e",
   "metadata": {},
   "outputs": [],
   "source": []
  },
  {
   "cell_type": "code",
   "execution_count": null,
   "id": "8c55361f",
   "metadata": {},
   "outputs": [],
   "source": []
  },
  {
   "cell_type": "code",
   "execution_count": null,
   "id": "d4a8f48d",
   "metadata": {},
   "outputs": [],
   "source": []
  },
  {
   "cell_type": "code",
   "execution_count": null,
   "id": "2a8e7169",
   "metadata": {},
   "outputs": [],
   "source": []
  },
  {
   "cell_type": "code",
   "execution_count": null,
   "id": "fbe34ac7",
   "metadata": {},
   "outputs": [],
   "source": []
  },
  {
   "cell_type": "code",
   "execution_count": null,
   "id": "64a41ee6",
   "metadata": {},
   "outputs": [],
   "source": []
  },
  {
   "cell_type": "code",
   "execution_count": null,
   "id": "32e404a8",
   "metadata": {},
   "outputs": [],
   "source": []
  }
 ],
 "metadata": {
  "kernelspec": {
   "display_name": "Python 3 (ipykernel)",
   "language": "python",
   "name": "python3"
  },
  "language_info": {
   "codemirror_mode": {
    "name": "ipython",
    "version": 3
   },
   "file_extension": ".py",
   "mimetype": "text/x-python",
   "name": "python",
   "nbconvert_exporter": "python",
   "pygments_lexer": "ipython3",
   "version": "3.7.16"
  }
 },
 "nbformat": 4,
 "nbformat_minor": 5
}
