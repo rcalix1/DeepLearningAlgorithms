{
 "cells": [
  {
   "cell_type": "code",
   "execution_count": 1,
   "id": "7cc5f96b-35ce-4cbf-85e0-7c62fd14b842",
   "metadata": {},
   "outputs": [],
   "source": [
    "\n",
    "## Latent semantic discovery or vectors\n",
    "## K-Means\n"
   ]
  },
  {
   "cell_type": "code",
   "execution_count": 25,
   "id": "edda8c9c-e3bb-47ec-bb0f-d893d1cbb504",
   "metadata": {},
   "outputs": [],
   "source": [
    "\n",
    "import sklearn\n",
    "import pandas as pd\n",
    "import numpy as np\n",
    "\n",
    "from sklearn.feature_extraction.text import CountVectorizer\n",
    "from sklearn.decomposition import TruncatedSVD\n",
    "\n",
    "import matplotlib.pyplot as plt\n",
    "\n"
   ]
  },
  {
   "cell_type": "code",
   "execution_count": 39,
   "id": "e9bb8097-bf99-4764-be7a-15b1f826d1ce",
   "metadata": {},
   "outputs": [],
   "source": [
    "\n",
    "examples = ['Machine learning and python are super fun',\n",
    "            'Python is super, super cool',\n",
    "            'Statistics and data science are cool too',\n",
    "            'Data science and python are fun',\n",
    "            'Python is great for machine learning',\n",
    "            'I like football and it is great',\n",
    "            'Football is great to watch and I like it'\n",
    "]\n"
   ]
  },
  {
   "cell_type": "code",
   "execution_count": 40,
   "id": "4868d46c-076a-4641-8eae-fac989472235",
   "metadata": {},
   "outputs": [],
   "source": [
    "\n",
    "\n",
    "vectorizer = CountVectorizer(min_df=1, stop_words='english')\n",
    "\n",
    "\n"
   ]
  },
  {
   "cell_type": "code",
   "execution_count": 41,
   "id": "114352f5-56f3-413a-9abc-f517a4462146",
   "metadata": {},
   "outputs": [],
   "source": [
    "\n",
    "dtm = vectorizer.fit_transform(examples)\n"
   ]
  },
  {
   "cell_type": "code",
   "execution_count": 42,
   "id": "a559fa55-0115-424e-b2ad-d03893fa46ee",
   "metadata": {},
   "outputs": [
    {
     "data": {
      "text/html": [
       "<div>\n",
       "<style scoped>\n",
       "    .dataframe tbody tr th:only-of-type {\n",
       "        vertical-align: middle;\n",
       "    }\n",
       "\n",
       "    .dataframe tbody tr th {\n",
       "        vertical-align: top;\n",
       "    }\n",
       "\n",
       "    .dataframe thead th {\n",
       "        text-align: right;\n",
       "    }\n",
       "</style>\n",
       "<table border=\"1\" class=\"dataframe\">\n",
       "  <thead>\n",
       "    <tr style=\"text-align: right;\">\n",
       "      <th></th>\n",
       "      <th>cool</th>\n",
       "      <th>data</th>\n",
       "      <th>football</th>\n",
       "      <th>fun</th>\n",
       "      <th>great</th>\n",
       "      <th>learning</th>\n",
       "      <th>like</th>\n",
       "      <th>machine</th>\n",
       "      <th>python</th>\n",
       "      <th>science</th>\n",
       "      <th>statistics</th>\n",
       "      <th>super</th>\n",
       "      <th>watch</th>\n",
       "    </tr>\n",
       "  </thead>\n",
       "  <tbody>\n",
       "    <tr>\n",
       "      <th>Machine learning and python are super fun</th>\n",
       "      <td>0</td>\n",
       "      <td>0</td>\n",
       "      <td>0</td>\n",
       "      <td>1</td>\n",
       "      <td>0</td>\n",
       "      <td>1</td>\n",
       "      <td>0</td>\n",
       "      <td>1</td>\n",
       "      <td>1</td>\n",
       "      <td>0</td>\n",
       "      <td>0</td>\n",
       "      <td>1</td>\n",
       "      <td>0</td>\n",
       "    </tr>\n",
       "    <tr>\n",
       "      <th>Python is super, super cool</th>\n",
       "      <td>1</td>\n",
       "      <td>0</td>\n",
       "      <td>0</td>\n",
       "      <td>0</td>\n",
       "      <td>0</td>\n",
       "      <td>0</td>\n",
       "      <td>0</td>\n",
       "      <td>0</td>\n",
       "      <td>1</td>\n",
       "      <td>0</td>\n",
       "      <td>0</td>\n",
       "      <td>2</td>\n",
       "      <td>0</td>\n",
       "    </tr>\n",
       "    <tr>\n",
       "      <th>Statistics and data science are cool too</th>\n",
       "      <td>1</td>\n",
       "      <td>1</td>\n",
       "      <td>0</td>\n",
       "      <td>0</td>\n",
       "      <td>0</td>\n",
       "      <td>0</td>\n",
       "      <td>0</td>\n",
       "      <td>0</td>\n",
       "      <td>0</td>\n",
       "      <td>1</td>\n",
       "      <td>1</td>\n",
       "      <td>0</td>\n",
       "      <td>0</td>\n",
       "    </tr>\n",
       "    <tr>\n",
       "      <th>Data science and python are fun</th>\n",
       "      <td>0</td>\n",
       "      <td>1</td>\n",
       "      <td>0</td>\n",
       "      <td>1</td>\n",
       "      <td>0</td>\n",
       "      <td>0</td>\n",
       "      <td>0</td>\n",
       "      <td>0</td>\n",
       "      <td>1</td>\n",
       "      <td>1</td>\n",
       "      <td>0</td>\n",
       "      <td>0</td>\n",
       "      <td>0</td>\n",
       "    </tr>\n",
       "    <tr>\n",
       "      <th>Python is great for machine learning</th>\n",
       "      <td>0</td>\n",
       "      <td>0</td>\n",
       "      <td>0</td>\n",
       "      <td>0</td>\n",
       "      <td>1</td>\n",
       "      <td>1</td>\n",
       "      <td>0</td>\n",
       "      <td>1</td>\n",
       "      <td>1</td>\n",
       "      <td>0</td>\n",
       "      <td>0</td>\n",
       "      <td>0</td>\n",
       "      <td>0</td>\n",
       "    </tr>\n",
       "    <tr>\n",
       "      <th>I like football and it is great</th>\n",
       "      <td>0</td>\n",
       "      <td>0</td>\n",
       "      <td>1</td>\n",
       "      <td>0</td>\n",
       "      <td>1</td>\n",
       "      <td>0</td>\n",
       "      <td>1</td>\n",
       "      <td>0</td>\n",
       "      <td>0</td>\n",
       "      <td>0</td>\n",
       "      <td>0</td>\n",
       "      <td>0</td>\n",
       "      <td>0</td>\n",
       "    </tr>\n",
       "    <tr>\n",
       "      <th>Football is great to watch and I like it</th>\n",
       "      <td>0</td>\n",
       "      <td>0</td>\n",
       "      <td>1</td>\n",
       "      <td>0</td>\n",
       "      <td>1</td>\n",
       "      <td>0</td>\n",
       "      <td>1</td>\n",
       "      <td>0</td>\n",
       "      <td>0</td>\n",
       "      <td>0</td>\n",
       "      <td>0</td>\n",
       "      <td>0</td>\n",
       "      <td>1</td>\n",
       "    </tr>\n",
       "  </tbody>\n",
       "</table>\n",
       "</div>"
      ],
      "text/plain": [
       "                                           cool  data  football  fun  great  \\\n",
       "Machine learning and python are super fun     0     0         0    1      0   \n",
       "Python is super, super cool                   1     0         0    0      0   \n",
       "Statistics and data science are cool too      1     1         0    0      0   \n",
       "Data science and python are fun               0     1         0    1      0   \n",
       "Python is great for machine learning          0     0         0    0      1   \n",
       "I like football and it is great               0     0         1    0      1   \n",
       "Football is great to watch and I like it      0     0         1    0      1   \n",
       "\n",
       "                                           learning  like  machine  python  \\\n",
       "Machine learning and python are super fun         1     0        1       1   \n",
       "Python is super, super cool                       0     0        0       1   \n",
       "Statistics and data science are cool too          0     0        0       0   \n",
       "Data science and python are fun                   0     0        0       1   \n",
       "Python is great for machine learning              1     0        1       1   \n",
       "I like football and it is great                   0     1        0       0   \n",
       "Football is great to watch and I like it          0     1        0       0   \n",
       "\n",
       "                                           science  statistics  super  watch  \n",
       "Machine learning and python are super fun        0           0      1      0  \n",
       "Python is super, super cool                      0           0      2      0  \n",
       "Statistics and data science are cool too         1           1      0      0  \n",
       "Data science and python are fun                  1           0      0      0  \n",
       "Python is great for machine learning             0           0      0      0  \n",
       "I like football and it is great                  0           0      0      0  \n",
       "Football is great to watch and I like it         0           0      0      1  "
      ]
     },
     "execution_count": 42,
     "metadata": {},
     "output_type": "execute_result"
    }
   ],
   "source": [
    "\n",
    "dtm_pd = pd.DataFrame( dtm.toarray(), index=examples, columns=vectorizer.get_feature_names_out()  ).head(10)\n",
    "dtm_pd\n"
   ]
  },
  {
   "cell_type": "markdown",
   "id": "02d40144-e542-4177-bff1-87d4b30cfb2c",
   "metadata": {},
   "source": [
    "\n",
    "## SVD \n"
   ]
  },
  {
   "cell_type": "code",
   "execution_count": 43,
   "id": "00f6223e-7261-4629-b1fe-f8bec996cdf9",
   "metadata": {},
   "outputs": [],
   "source": [
    "\n",
    "lsa = TruncatedSVD(2)\n"
   ]
  },
  {
   "cell_type": "code",
   "execution_count": 44,
   "id": "e78097fe-6b39-4573-a429-b659b479ed34",
   "metadata": {},
   "outputs": [],
   "source": [
    "\n",
    "dtm_lsa = lsa.fit_transform(  dtm  )\n"
   ]
  },
  {
   "cell_type": "code",
   "execution_count": 45,
   "id": "1cc1efcd-7b3f-4c76-a783-936805570699",
   "metadata": {},
   "outputs": [
    {
     "data": {
      "text/html": [
       "<div>\n",
       "<style scoped>\n",
       "    .dataframe tbody tr th:only-of-type {\n",
       "        vertical-align: middle;\n",
       "    }\n",
       "\n",
       "    .dataframe tbody tr th {\n",
       "        vertical-align: top;\n",
       "    }\n",
       "\n",
       "    .dataframe thead th {\n",
       "        text-align: right;\n",
       "    }\n",
       "</style>\n",
       "<table border=\"1\" class=\"dataframe\">\n",
       "  <thead>\n",
       "    <tr style=\"text-align: right;\">\n",
       "      <th></th>\n",
       "      <th>SVD1</th>\n",
       "      <th>SV2</th>\n",
       "    </tr>\n",
       "  </thead>\n",
       "  <tbody>\n",
       "    <tr>\n",
       "      <th>Machine learning and python are super fun</th>\n",
       "      <td>1.979472</td>\n",
       "      <td>-0.150992</td>\n",
       "    </tr>\n",
       "    <tr>\n",
       "      <th>Python is super, super cool</th>\n",
       "      <td>1.812955</td>\n",
       "      <td>-0.560846</td>\n",
       "    </tr>\n",
       "    <tr>\n",
       "      <th>Statistics and data science are cool too</th>\n",
       "      <td>0.597415</td>\n",
       "      <td>-0.425300</td>\n",
       "    </tr>\n",
       "    <tr>\n",
       "      <th>Data science and python are fun</th>\n",
       "      <td>1.187839</td>\n",
       "      <td>-0.346121</td>\n",
       "    </tr>\n",
       "    <tr>\n",
       "      <th>Python is great for machine learning</th>\n",
       "      <td>1.361527</td>\n",
       "      <td>0.693632</td>\n",
       "    </tr>\n",
       "    <tr>\n",
       "      <th>I like football and it is great</th>\n",
       "      <td>0.288973</td>\n",
       "      <td>1.569819</td>\n",
       "    </tr>\n",
       "    <tr>\n",
       "      <th>Football is great to watch and I like it</th>\n",
       "      <td>0.317838</td>\n",
       "      <td>1.833816</td>\n",
       "    </tr>\n",
       "  </tbody>\n",
       "</table>\n",
       "</div>"
      ],
      "text/plain": [
       "                                               SVD1       SV2\n",
       "Machine learning and python are super fun  1.979472 -0.150992\n",
       "Python is super, super cool                1.812955 -0.560846\n",
       "Statistics and data science are cool too   0.597415 -0.425300\n",
       "Data science and python are fun            1.187839 -0.346121\n",
       "Python is great for machine learning       1.361527  0.693632\n",
       "I like football and it is great            0.288973  1.569819\n",
       "Football is great to watch and I like it   0.317838  1.833816"
      ]
     },
     "execution_count": 45,
     "metadata": {},
     "output_type": "execute_result"
    }
   ],
   "source": [
    "\n",
    "svd_dtm_pd = pd.DataFrame( dtm_lsa, index=examples, columns=[\"SVD1\", \"SV2\"]  ).head(10)\n",
    "svd_dtm_pd\n"
   ]
  },
  {
   "cell_type": "code",
   "execution_count": 46,
   "id": "f032d5dc-b5f6-4901-be2d-1abef528b2b0",
   "metadata": {},
   "outputs": [],
   "source": [
    "\n",
    "## C1 = w1*t1 + w2*t2 + ... + wn*t\n"
   ]
  },
  {
   "cell_type": "markdown",
   "id": "8ffba2e0-e8f9-4e7c-93ad-a6252b33de97",
   "metadata": {},
   "source": [
    "\n",
    "## Plot\n"
   ]
  },
  {
   "cell_type": "code",
   "execution_count": 47,
   "id": "1d6869a3-7c42-4272-a392-08842f7e3cbc",
   "metadata": {},
   "outputs": [],
   "source": [
    "\n",
    "xs = [ w[0] for w in dtm_lsa ]\n",
    "ys = [ w[1] for w in dtm_lsa ]\n"
   ]
  },
  {
   "cell_type": "code",
   "execution_count": 48,
   "id": "e3263881-b704-4318-9c93-dc38b4e3c4c8",
   "metadata": {},
   "outputs": [
    {
     "data": {
      "image/png": "[encoded data removed]",
      "text/plain": [
       "<Figure size 640x480 with 1 Axes>"
      ]
     },
     "metadata": {},
     "output_type": "display_data"
    }
   ],
   "source": [
    "\n",
    "plt.scatter(xs, ys)\n",
    "plt.xlabel(\"SVD1\")\n",
    "plt.ylabel(\"SVD2\")\n",
    "plt.show()\n"
   ]
  },
  {
   "cell_type": "code",
   "execution_count": 49,
   "id": "3ce8f4d4-ef79-4137-b3f5-fd3023ac5352",
   "metadata": {},
   "outputs": [],
   "source": [
    "\n",
    "from sklearn.cluster import KMeans\n"
   ]
  },
  {
   "cell_type": "code",
   "execution_count": 50,
   "id": "36d35bcf-4b49-4277-9126-3936f71bc325",
   "metadata": {},
   "outputs": [],
   "source": [
    "\n",
    "km_lsa = KMeans(\n",
    "       n_clusters=2,\n",
    "       init='random',\n",
    "       n_init=10,\n",
    "       max_iter=300,\n",
    "       ## to1=1e-04,\n",
    "       random_state=0\n",
    ")\n"
   ]
  },
  {
   "cell_type": "code",
   "execution_count": 51,
   "id": "edc250e0-cb1d-40b5-9877-4848bef9acd4",
   "metadata": {},
   "outputs": [],
   "source": [
    "\n",
    "y_lsa = km_lsa.fit_predict(dtm_lsa)\n"
   ]
  },
  {
   "cell_type": "code",
   "execution_count": 52,
   "id": "436f534d-55e2-4c7f-b3e7-7365f9a369f6",
   "metadata": {},
   "outputs": [
    {
     "data": {
      "text/plain": [
       "(7,)"
      ]
     },
     "execution_count": 52,
     "metadata": {},
     "output_type": "execute_result"
    }
   ],
   "source": [
    "\n",
    "y_lsa.shape\n"
   ]
  },
  {
   "cell_type": "code",
   "execution_count": 53,
   "id": "1d96b2e3-3b70-4021-941c-5ad3dc26a3ea",
   "metadata": {},
   "outputs": [
    {
     "data": {
      "text/plain": [
       "array([0, 0, 0, 0, 0, 1, 1])"
      ]
     },
     "execution_count": 53,
     "metadata": {},
     "output_type": "execute_result"
    }
   ],
   "source": [
    "\n",
    "y_lsa\n"
   ]
  },
  {
   "cell_type": "code",
   "execution_count": 56,
   "id": "e8e378be-3d14-4c34-ba0e-57875d5c9d55",
   "metadata": {},
   "outputs": [],
   "source": [
    "\n",
    "X = dtm_lsa\n"
   ]
  },
  {
   "cell_type": "code",
   "execution_count": 57,
   "id": "3b1d0094-d7f1-4d30-970f-40cc900c5eba",
   "metadata": {},
   "outputs": [
    {
     "data": {
      "image/png": "[encoded data removed]",
      "text/plain": [
       "<Figure size 640x480 with 1 Axes>"
      ]
     },
     "metadata": {},
     "output_type": "display_data"
    }
   ],
   "source": [
    "\n",
    "plt.scatter(\n",
    "    X[ y_lsa==0 , 0],\n",
    "    X[ y_lsa==0 , 1],\n",
    "    s=50,\n",
    "    c='lightgreen',\n",
    "    marker='s',\n",
    "    label='latent1'\n",
    ")\n",
    "plt.scatter(\n",
    "    X[ y_lsa==1 , 0],\n",
    "    X[ y_lsa==1 , 1],\n",
    "    s=50,\n",
    "    c='orange',\n",
    "    marker='o',\n",
    "    label='latent2'\n",
    ")\n",
    "plt.legend()\n",
    "plt.show()\n",
    "\n",
    "\n"
   ]
  },
  {
   "cell_type": "code",
   "execution_count": null,
   "id": "8145bdcb-6428-4e7c-bb3d-8a4469729193",
   "metadata": {},
   "outputs": [],
   "source": []
  },
  {
   "cell_type": "code",
   "execution_count": null,
   "id": "041af0ff-b185-46ff-a0d7-33282264a2dd",
   "metadata": {},
   "outputs": [],
   "source": []
  },
  {
   "cell_type": "code",
   "execution_count": null,
   "id": "b62350c8-dfdd-421c-8958-6b5effde01e5",
   "metadata": {},
   "outputs": [],
   "source": []
  },
  {
   "cell_type": "code",
   "execution_count": null,
   "id": "55fc6e47-8900-4d96-a805-f5698b86fa26",
   "metadata": {},
   "outputs": [],
   "source": []
  },
  {
   "cell_type": "code",
   "execution_count": null,
   "id": "bfb6c8b3-2501-4cbf-b0cd-734962567d8c",
   "metadata": {},
   "outputs": [],
   "source": []
  },
  {
   "cell_type": "code",
   "execution_count": null,
   "id": "f2e24d78-ef71-4082-b090-8c7bdecef463",
   "metadata": {},
   "outputs": [],
   "source": []
  },
  {
   "cell_type": "code",
   "execution_count": null,
   "id": "601cba7f-fdc9-446c-9731-49fd754c0018",
   "metadata": {},
   "outputs": [],
   "source": []
  },
  {
   "cell_type": "code",
   "execution_count": null,
   "id": "15ed7a87-3c54-4f55-951c-b7136d7f9b00",
   "metadata": {},
   "outputs": [],
   "source": []
  },
  {
   "cell_type": "code",
   "execution_count": null,
   "id": "c1ceb826-513a-4082-870a-744f15d08b21",
   "metadata": {},
   "outputs": [],
   "source": []
  },
  {
   "cell_type": "code",
   "execution_count": null,
   "id": "9e183e26-fcd1-4a6f-bd19-fc56c9ad423f",
   "metadata": {},
   "outputs": [],
   "source": []
  },
  {
   "cell_type": "code",
   "execution_count": null,
   "id": "d747359c-1d29-4f36-a6f8-b4ad2f9d42b5",
   "metadata": {},
   "outputs": [],
   "source": []
  },
  {
   "cell_type": "code",
   "execution_count": null,
   "id": "df0915d7-f89a-4253-9efb-361196362e42",
   "metadata": {},
   "outputs": [],
   "source": []
  }
 ],
 "metadata": {
  "kernelspec": {
   "display_name": "Python 3 (ipykernel)",
   "language": "python",
   "name": "python3"
  },
  "language_info": {
   "codemirror_mode": {
    "name": "ipython",
    "version": 3
   },
   "file_extension": ".py",
   "mimetype": "text/x-python",
   "name": "python",
   "nbconvert_exporter": "python",
   "pygments_lexer": "ipython3",
   "version": "3.8.19"
  }
 },
 "nbformat": 4,
 "nbformat_minor": 5
}
