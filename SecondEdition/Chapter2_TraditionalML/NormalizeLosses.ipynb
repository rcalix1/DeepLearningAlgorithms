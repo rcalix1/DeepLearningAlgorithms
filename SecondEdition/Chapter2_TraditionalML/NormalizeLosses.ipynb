{
 "cells": [
  {
   "cell_type": "code",
   "execution_count": null,
   "id": "db1fa0c9-809e-49e7-837e-2a1474ddef2f",
   "metadata": {},
   "outputs": [],
   "source": []
  },
  {
   "cell_type": "code",
   "execution_count": 18,
   "id": "3117671e-5271-4e9b-989e-338570e9be09",
   "metadata": {},
   "outputs": [],
   "source": [
    "\n",
    "import numpy as np\n",
    "np.set_printoptions(suppress=True)\n"
   ]
  },
  {
   "cell_type": "code",
   "execution_count": 19,
   "id": "ec2f66c6-e909-4c76-a043-a352d68c2240",
   "metadata": {},
   "outputs": [],
   "source": [
    "\n",
    "N = 10\n"
   ]
  },
  {
   "cell_type": "code",
   "execution_count": 20,
   "id": "9b783f89-0724-40c1-bd88-7e08ad2a7801",
   "metadata": {},
   "outputs": [
    {
     "data": {
      "text/plain": [
       "(10, 6)"
      ]
     },
     "execution_count": 20,
     "metadata": {},
     "output_type": "execute_result"
    }
   ],
   "source": [
    "\n",
    "Curve_SIMSs = np.zeros( (N, 6) )\n",
    "Curve_SIMSs.shape\n"
   ]
  },
  {
   "cell_type": "code",
   "execution_count": 21,
   "id": "ee7ed7e4-20bd-4305-9bd5-af17f21610f9",
   "metadata": {},
   "outputs": [
    {
     "name": "stderr",
     "output_type": "stream",
     "text": [
      "/var/folders/q4/zdsjyw0d297_fn6_fh5n7g9h0000gn/T/ipykernel_24374/2887082791.py:3: DeprecationWarning: Conversion of an array with ndim > 0 to a scalar is deprecated, and will error in future. Ensure you extract a single element from your array before performing this operation. (Deprecated NumPy 1.25.)\n",
      "  Curve_SIMSs[i, 1] =   (8 + i*np.random.normal(0, 0.5, 1)*10)**2\n",
      "/var/folders/q4/zdsjyw0d297_fn6_fh5n7g9h0000gn/T/ipykernel_24374/2887082791.py:7: DeprecationWarning: Conversion of an array with ndim > 0 to a scalar is deprecated, and will error in future. Ensure you extract a single element from your array before performing this operation. (Deprecated NumPy 1.25.)\n",
      "  Curve_SIMSs[i, 5] = 768 + i*np.random.normal(0, 0.5, 1)*10\n"
     ]
    }
   ],
   "source": [
    "\n",
    "for i in range(N):\n",
    "    Curve_SIMSs[i, 0] =  26 + i*30\n",
    "    Curve_SIMSs[i, 1] =   (8 + i*np.random.normal(0, 0.5, 1)*10)**2\n",
    "    Curve_SIMSs[i, 2] = 120 + i\n",
    "    Curve_SIMSs[i, 3] =  57 + i*4\n",
    "    Curve_SIMSs[i, 4] = 0.6 + i\n",
    "    Curve_SIMSs[i, 5] = 768 + i*np.random.normal(0, 0.5, 1)*10\n"
   ]
  },
  {
   "cell_type": "code",
   "execution_count": 22,
   "id": "852420b0-8fca-4f4b-956e-dc6321e56781",
   "metadata": {},
   "outputs": [
    {
     "data": {
      "text/plain": [
       "array([[  26.        ,   64.        ,  120.        ,   57.        ,\n",
       "           0.6       ,  768.        ],\n",
       "       [  56.        ,  222.57980996,  121.        ,   61.        ,\n",
       "           1.6       ,  771.58623474],\n",
       "       [  86.        ,   49.12050103,  122.        ,   65.        ,\n",
       "           2.6       ,  761.44940851],\n",
       "       [ 116.        ,  311.45873921,  123.        ,   69.        ,\n",
       "           3.6       ,  756.83807158],\n",
       "       [ 146.        , 2257.82244865,  124.        ,   73.        ,\n",
       "           4.6       ,  787.12941391],\n",
       "       [ 176.        ,  551.94617374,  125.        ,   77.        ,\n",
       "           5.6       ,  806.67388458],\n",
       "       [ 206.        ,   15.41013456,  126.        ,   81.        ,\n",
       "           6.6       ,  802.38214972],\n",
       "       [ 236.        , 1584.05645028,  127.        ,   85.        ,\n",
       "           7.6       ,  740.97421432],\n",
       "       [ 266.        ,  444.28554179,  128.        ,   89.        ,\n",
       "           8.6       ,  767.71367402],\n",
       "       [ 296.        ,  246.37135216,  129.        ,   93.        ,\n",
       "           9.6       ,  746.65571016]])"
      ]
     },
     "execution_count": 22,
     "metadata": {},
     "output_type": "execute_result"
    }
   ],
   "source": [
    "\n",
    "Curve_SIMSs[:, :]\n"
   ]
  },
  {
   "cell_type": "code",
   "execution_count": 23,
   "id": "060fe039-dbd7-460c-8ed2-44daee796710",
   "metadata": {},
   "outputs": [
    {
     "data": {
      "text/plain": [
       "array([[0.04502477, 0.02218398, 0.30471676, 0.23756187, 0.03241586],\n",
       "       [0.09697642, 0.07715164, 0.30725607, 0.25423288, 0.0864423 ],\n",
       "       [0.14892808, 0.01702638, 0.30979538, 0.27090389, 0.14046873],\n",
       "       [0.20087973, 0.10795927, 0.31233468, 0.2875749 , 0.19449517],\n",
       "       [0.25283138, 0.78261685, 0.31487399, 0.30424591, 0.24852161],\n",
       "       [0.30478304, 0.19131813, 0.3174133 , 0.32091692, 0.30254804],\n",
       "       [0.35673469, 0.00534153, 0.3199526 , 0.33758792, 0.35657448],\n",
       "       [0.40868635, 0.54907297, 0.32249191, 0.35425893, 0.41060092],\n",
       "       [0.460638  , 0.15400031, 0.32503122, 0.37092994, 0.46462735],\n",
       "       [0.51258966, 0.08539838, 0.32757052, 0.38760095, 0.51865379]])"
      ]
     },
     "execution_count": 23,
     "metadata": {},
     "output_type": "execute_result"
    }
   ],
   "source": [
    "\n",
    "norm_matrix2 = Curve_SIMSs / np.linalg.norm(Curve_SIMSs, axis=0, keepdims=True)\n",
    "norm_matrix2[:, :5]\n"
   ]
  },
  {
   "cell_type": "code",
   "execution_count": 24,
   "id": "da6265a0-c5f8-48b7-91bf-224e75051c55",
   "metadata": {},
   "outputs": [
    {
     "data": {
      "text/plain": [
       "array([0.27880721, 0.19920694, 0.31614364, 0.31258141, 0.27553482,\n",
       "       0.31611281])"
      ]
     },
     "execution_count": 24,
     "metadata": {},
     "output_type": "execute_result"
    }
   ],
   "source": [
    "\n",
    "norm_Curve_SIMSs_means = np.mean(norm_matrix2, axis=0)\n",
    "norm_Curve_SIMSs_means[ :]\n"
   ]
  },
  {
   "cell_type": "code",
   "execution_count": 25,
   "id": "7797d2d4-1452-4c30-98c5-c998aa89f1f6",
   "metadata": {},
   "outputs": [],
   "source": [
    "\n",
    "def softmax(x):\n",
    "    return( np.exp(x)/np.exp(x).sum() )\n"
   ]
  },
  {
   "cell_type": "code",
   "execution_count": 26,
   "id": "696a9999-dcde-4be7-be82-5fb8c99eb363",
   "metadata": {},
   "outputs": [],
   "source": [
    "\n",
    "a = softmax(norm_Curve_SIMSs_means[ :])\n"
   ]
  },
  {
   "cell_type": "code",
   "execution_count": 27,
   "id": "f0d6b045-e25a-4b7d-969f-0636c5cfaf57",
   "metadata": {},
   "outputs": [
    {
     "data": {
      "text/plain": [
       "1.0"
      ]
     },
     "execution_count": 27,
     "metadata": {},
     "output_type": "execute_result"
    }
   ],
   "source": [
    "\n",
    "sum( a )\n"
   ]
  },
  {
   "cell_type": "code",
   "execution_count": null,
   "id": "44746f3a-0b03-4820-a1a0-5543c0b197a3",
   "metadata": {},
   "outputs": [],
   "source": []
  },
  {
   "cell_type": "code",
   "execution_count": null,
   "id": "82292386-640d-402d-b49c-cda403c02ed4",
   "metadata": {},
   "outputs": [],
   "source": []
  },
  {
   "cell_type": "code",
   "execution_count": null,
   "id": "1ccafaa2-c1e0-41f2-a0b3-64d01b6bd466",
   "metadata": {},
   "outputs": [],
   "source": []
  },
  {
   "cell_type": "code",
   "execution_count": null,
   "id": "a10d2d6c-7493-4ae7-b9b3-6993818dffc7",
   "metadata": {},
   "outputs": [],
   "source": []
  },
  {
   "cell_type": "code",
   "execution_count": null,
   "id": "8ec5e080-6769-4c77-933b-b0508785d1cb",
   "metadata": {},
   "outputs": [],
   "source": []
  },
  {
   "cell_type": "code",
   "execution_count": null,
   "id": "62afc024-b4d1-43d6-883a-99ba05532d4c",
   "metadata": {},
   "outputs": [],
   "source": []
  },
  {
   "cell_type": "code",
   "execution_count": null,
   "id": "64af0574-909c-45da-a3a1-32e145124930",
   "metadata": {},
   "outputs": [],
   "source": []
  }
 ],
 "metadata": {
  "kernelspec": {
   "display_name": "Python 3 (ipykernel)",
   "language": "python",
   "name": "python3"
  },
  "language_info": {
   "codemirror_mode": {
    "name": "ipython",
    "version": 3
   },
   "file_extension": ".py",
   "mimetype": "text/x-python",
   "name": "python",
   "nbconvert_exporter": "python",
   "pygments_lexer": "ipython3",
   "version": "3.9.18"
  }
 },
 "nbformat": 4,
 "nbformat_minor": 5
}
