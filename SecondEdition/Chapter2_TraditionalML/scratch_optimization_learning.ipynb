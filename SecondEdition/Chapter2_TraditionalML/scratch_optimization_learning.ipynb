{
 "cells": [
  {
   "cell_type": "markdown",
   "id": "8a9f795c",
   "metadata": {},
   "source": [
    "## Basics of optimization\n",
    "\n",
    "Using a linear function\n",
    "\n",
    "$  y = w * x + b   $  "
   ]
  },
  {
   "cell_type": "code",
   "execution_count": 1,
   "id": "fb60d580",
   "metadata": {},
   "outputs": [],
   "source": [
    "import torch\n",
    "import numpy as np\n",
    "\n",
    "import matplotlib.pyplot as plt\n"
   ]
  },
  {
   "cell_type": "code",
   "execution_count": 2,
   "id": "c4f513b1",
   "metadata": {},
   "outputs": [],
   "source": [
    "\n",
    "## inputs\n",
    "t_c = [0.5,  14.0, 15.0, 28.0, 11.0,  8.0,  3.0, -4.0,  6.0, 13.0, 21.0]\n",
    "\n",
    "## outputs\n",
    "t_u = [35.7, 55.9, 58.2, 81.9, 56.3, 48.9, 33.9, 21.8, 48.4, 60.4, 68.4]\n"
   ]
  },
  {
   "cell_type": "code",
   "execution_count": 3,
   "id": "99702347",
   "metadata": {},
   "outputs": [
    {
     "name": "stdout",
     "output_type": "stream",
     "text": [
      "tensor([35.7000, 55.9000, 58.2000, 81.9000, 56.3000, 48.9000, 33.9000, 21.8000,\n",
      "        48.4000, 60.4000, 68.4000])\n",
      "tensor([ 0.5000, 14.0000, 15.0000, 28.0000, 11.0000,  8.0000,  3.0000, -4.0000,\n",
      "         6.0000, 13.0000, 21.0000])\n"
     ]
    }
   ],
   "source": [
    "\n",
    "t_c = torch.tensor(   t_c   )\n",
    "t_u = torch.tensor(   t_u   )\n",
    "\n",
    "print(t_u)\n",
    "\n",
    "print(t_c)\n"
   ]
  },
  {
   "cell_type": "code",
   "execution_count": 4,
   "id": "59bc88d6",
   "metadata": {},
   "outputs": [],
   "source": [
    "## t_u = 0.1 * t_u\n",
    "## print(t_u)"
   ]
  },
  {
   "cell_type": "code",
   "execution_count": 5,
   "id": "a96f43b1",
   "metadata": {},
   "outputs": [
    {
     "data": {
      "image/png": "[encoded data removed]",
      "text/plain": [
       "<Figure size 640x480 with 1 Axes>"
      ]
     },
     "metadata": {},
     "output_type": "display_data"
    }
   ],
   "source": [
    "\n",
    "\n",
    "plt.xlabel(\"temperature fahrenheit\")\n",
    "\n",
    "plt.ylabel(\"temperature celsius\")\n",
    "\n",
    "plt.plot(t_u.numpy(), t_c.numpy(), 'o')\n",
    "plt.show()\n"
   ]
  },
  {
   "cell_type": "markdown",
   "id": "4c1abbd6",
   "metadata": {},
   "source": [
    "## Inference Function (model)\n",
    "\n",
    "t_c = w * t_u + b\n"
   ]
  },
  {
   "cell_type": "code",
   "execution_count": 6,
   "id": "0ee04b86",
   "metadata": {},
   "outputs": [],
   "source": [
    "\n",
    "\n",
    "def model(t_u, w, b):\n",
    "    \n",
    "    return w * t_u + b\n",
    "    "
   ]
  },
  {
   "cell_type": "markdown",
   "id": "2c8b4c4b",
   "metadata": {},
   "source": [
    "## Loss function"
   ]
  },
  {
   "cell_type": "code",
   "execution_count": 7,
   "id": "38de278d",
   "metadata": {},
   "outputs": [],
   "source": [
    "\n",
    "def loss_fn(y_real, y_pred):\n",
    "    \n",
    "    squared_diffs = (y_real - y_pred) ** 2\n",
    "    return squared_diffs.mean()\n"
   ]
  },
  {
   "cell_type": "markdown",
   "id": "c180d037",
   "metadata": {},
   "source": [
    "## Training Function"
   ]
  },
  {
   "cell_type": "code",
   "execution_count": 8,
   "id": "3479644f",
   "metadata": {},
   "outputs": [],
   "source": [
    "\n",
    "\n",
    "def training_loop(n_epochs, learning_rate, params, t_u, t_c):\n",
    "    \n",
    "    for epoch in range(0, n_epochs):\n",
    "        \n",
    "        if params.grad is not None:\n",
    "            params.grad.zero_()\n",
    "        \n",
    "        y_pred = model(t_u, *params)\n",
    "        loss = loss_fn(  t_c  , y_pred)\n",
    "        \n",
    "        loss.backward()\n",
    "        \n",
    "        with torch.no_grad():\n",
    "            params -= learning_rate * params.grad\n",
    "            \n",
    "        if epoch % 500 == 0:\n",
    "            print(loss)\n",
    "        \n",
    "    \n",
    "    return params\n"
   ]
  },
  {
   "cell_type": "markdown",
   "id": "b555a70c",
   "metadata": {},
   "source": [
    "## Call Training Loop"
   ]
  },
  {
   "cell_type": "code",
   "execution_count": 19,
   "id": "c34b5904",
   "metadata": {},
   "outputs": [
    {
     "name": "stdout",
     "output_type": "stream",
     "text": [
      "tensor(1763.8848, grad_fn=<MeanBackward0>)\n",
      "tensor(28.6588, grad_fn=<MeanBackward0>)\n",
      "tensor(28.2121, grad_fn=<MeanBackward0>)\n",
      "tensor(27.7732, grad_fn=<MeanBackward0>)\n",
      "tensor(27.3419, grad_fn=<MeanBackward0>)\n",
      "tensor(26.9181, grad_fn=<MeanBackward0>)\n",
      "tensor(26.5017, grad_fn=<MeanBackward0>)\n",
      "tensor(26.0925, grad_fn=<MeanBackward0>)\n",
      "tensor(25.6904, grad_fn=<MeanBackward0>)\n",
      "tensor(25.2952, grad_fn=<MeanBackward0>)\n",
      "tensor(24.9070, grad_fn=<MeanBackward0>)\n",
      "tensor(24.5254, grad_fn=<MeanBackward0>)\n",
      "tensor(24.1505, grad_fn=<MeanBackward0>)\n",
      "tensor(23.7821, grad_fn=<MeanBackward0>)\n",
      "tensor(23.4201, grad_fn=<MeanBackward0>)\n",
      "tensor(23.0644, grad_fn=<MeanBackward0>)\n",
      "tensor(22.7149, grad_fn=<MeanBackward0>)\n",
      "tensor(22.3714, grad_fn=<MeanBackward0>)\n",
      "tensor(22.0339, grad_fn=<MeanBackward0>)\n",
      "tensor(21.7022, grad_fn=<MeanBackward0>)\n",
      "tensor(21.3763, grad_fn=<MeanBackward0>)\n",
      "tensor(21.0561, grad_fn=<MeanBackward0>)\n",
      "tensor(20.7414, grad_fn=<MeanBackward0>)\n",
      "tensor(20.4322, grad_fn=<MeanBackward0>)\n",
      "tensor(20.1283, grad_fn=<MeanBackward0>)\n",
      "tensor(19.8298, grad_fn=<MeanBackward0>)\n",
      "tensor(19.5364, grad_fn=<MeanBackward0>)\n",
      "tensor(19.2481, grad_fn=<MeanBackward0>)\n",
      "tensor(18.9648, grad_fn=<MeanBackward0>)\n",
      "tensor(18.6864, grad_fn=<MeanBackward0>)\n",
      "tensor(18.4128, grad_fn=<MeanBackward0>)\n",
      "tensor(18.1440, grad_fn=<MeanBackward0>)\n",
      "tensor(17.8799, grad_fn=<MeanBackward0>)\n",
      "tensor(17.6204, grad_fn=<MeanBackward0>)\n",
      "tensor(17.3653, grad_fn=<MeanBackward0>)\n",
      "tensor(17.1147, grad_fn=<MeanBackward0>)\n",
      "tensor(16.8684, grad_fn=<MeanBackward0>)\n",
      "tensor(16.6264, grad_fn=<MeanBackward0>)\n",
      "tensor(16.3886, grad_fn=<MeanBackward0>)\n",
      "tensor(16.1550, grad_fn=<MeanBackward0>)\n",
      "tensor(15.9254, grad_fn=<MeanBackward0>)\n",
      "tensor(15.6997, grad_fn=<MeanBackward0>)\n",
      "tensor(15.4780, grad_fn=<MeanBackward0>)\n",
      "tensor(15.2602, grad_fn=<MeanBackward0>)\n",
      "tensor(15.0461, grad_fn=<MeanBackward0>)\n",
      "tensor(14.8358, grad_fn=<MeanBackward0>)\n",
      "tensor(14.6291, grad_fn=<MeanBackward0>)\n",
      "tensor(14.4259, grad_fn=<MeanBackward0>)\n",
      "tensor(14.2263, grad_fn=<MeanBackward0>)\n",
      "tensor(14.0302, grad_fn=<MeanBackward0>)\n",
      "tensor(13.8375, grad_fn=<MeanBackward0>)\n",
      "tensor(13.6481, grad_fn=<MeanBackward0>)\n",
      "tensor(13.4620, grad_fn=<MeanBackward0>)\n",
      "tensor(13.2792, grad_fn=<MeanBackward0>)\n",
      "tensor(13.0995, grad_fn=<MeanBackward0>)\n",
      "tensor(12.9229, grad_fn=<MeanBackward0>)\n",
      "tensor(12.7494, grad_fn=<MeanBackward0>)\n",
      "tensor(12.5789, grad_fn=<MeanBackward0>)\n",
      "tensor(12.4114, grad_fn=<MeanBackward0>)\n",
      "tensor(12.2468, grad_fn=<MeanBackward0>)\n",
      "tensor(12.0850, grad_fn=<MeanBackward0>)\n",
      "tensor(11.9260, grad_fn=<MeanBackward0>)\n",
      "tensor(11.7698, grad_fn=<MeanBackward0>)\n",
      "tensor(11.6164, grad_fn=<MeanBackward0>)\n",
      "tensor(11.4655, grad_fn=<MeanBackward0>)\n",
      "tensor(11.3173, grad_fn=<MeanBackward0>)\n",
      "tensor(11.1717, grad_fn=<MeanBackward0>)\n",
      "tensor(11.0286, grad_fn=<MeanBackward0>)\n",
      "tensor(10.8880, grad_fn=<MeanBackward0>)\n",
      "tensor(10.7498, grad_fn=<MeanBackward0>)\n",
      "tensor(10.6140, grad_fn=<MeanBackward0>)\n",
      "tensor(10.4805, grad_fn=<MeanBackward0>)\n",
      "tensor(10.3495, grad_fn=<MeanBackward0>)\n",
      "tensor(10.2206, grad_fn=<MeanBackward0>)\n",
      "tensor(10.0941, grad_fn=<MeanBackward0>)\n",
      "tensor(9.9696, grad_fn=<MeanBackward0>)\n",
      "tensor(9.8474, grad_fn=<MeanBackward0>)\n",
      "tensor(9.7273, grad_fn=<MeanBackward0>)\n",
      "tensor(9.6092, grad_fn=<MeanBackward0>)\n",
      "tensor(9.4933, grad_fn=<MeanBackward0>)\n",
      "tensor(9.3793, grad_fn=<MeanBackward0>)\n",
      "tensor(9.2673, grad_fn=<MeanBackward0>)\n",
      "tensor(9.1573, grad_fn=<MeanBackward0>)\n",
      "tensor(9.0491, grad_fn=<MeanBackward0>)\n",
      "tensor(8.9429, grad_fn=<MeanBackward0>)\n",
      "tensor(8.8385, grad_fn=<MeanBackward0>)\n",
      "tensor(8.7358, grad_fn=<MeanBackward0>)\n",
      "tensor(8.6350, grad_fn=<MeanBackward0>)\n",
      "tensor(8.5360, grad_fn=<MeanBackward0>)\n",
      "tensor(8.4386, grad_fn=<MeanBackward0>)\n",
      "tensor(8.3429, grad_fn=<MeanBackward0>)\n",
      "tensor(8.2490, grad_fn=<MeanBackward0>)\n",
      "tensor(8.1566, grad_fn=<MeanBackward0>)\n",
      "tensor(8.0658, grad_fn=<MeanBackward0>)\n",
      "tensor(7.9766, grad_fn=<MeanBackward0>)\n",
      "tensor(7.8890, grad_fn=<MeanBackward0>)\n",
      "tensor(7.8029, grad_fn=<MeanBackward0>)\n",
      "tensor(7.7182, grad_fn=<MeanBackward0>)\n",
      "tensor(7.6351, grad_fn=<MeanBackward0>)\n",
      "tensor(7.5533, grad_fn=<MeanBackward0>)\n",
      "tensor(7.4731, grad_fn=<MeanBackward0>)\n",
      "tensor(7.3942, grad_fn=<MeanBackward0>)\n",
      "tensor(7.3167, grad_fn=<MeanBackward0>)\n",
      "tensor(7.2405, grad_fn=<MeanBackward0>)\n",
      "tensor(7.1656, grad_fn=<MeanBackward0>)\n",
      "tensor(7.0920, grad_fn=<MeanBackward0>)\n",
      "tensor(7.0197, grad_fn=<MeanBackward0>)\n",
      "tensor(6.9487, grad_fn=<MeanBackward0>)\n",
      "tensor(6.8789, grad_fn=<MeanBackward0>)\n",
      "tensor(6.8103, grad_fn=<MeanBackward0>)\n",
      "tensor(6.7429, grad_fn=<MeanBackward0>)\n",
      "tensor(6.6767, grad_fn=<MeanBackward0>)\n",
      "tensor(6.6116, grad_fn=<MeanBackward0>)\n",
      "tensor(6.5477, grad_fn=<MeanBackward0>)\n",
      "tensor(6.4848, grad_fn=<MeanBackward0>)\n",
      "tensor(6.4231, grad_fn=<MeanBackward0>)\n",
      "tensor(6.3624, grad_fn=<MeanBackward0>)\n",
      "tensor(6.3028, grad_fn=<MeanBackward0>)\n",
      "tensor(6.2442, grad_fn=<MeanBackward0>)\n",
      "tensor(6.1866, grad_fn=<MeanBackward0>)\n",
      "tensor(6.1301, grad_fn=<MeanBackward0>)\n",
      "tensor(6.0745, grad_fn=<MeanBackward0>)\n",
      "tensor(6.0199, grad_fn=<MeanBackward0>)\n",
      "tensor(5.9662, grad_fn=<MeanBackward0>)\n",
      "tensor(5.9134, grad_fn=<MeanBackward0>)\n",
      "tensor(5.8616, grad_fn=<MeanBackward0>)\n",
      "tensor(5.8107, grad_fn=<MeanBackward0>)\n",
      "tensor(5.7606, grad_fn=<MeanBackward0>)\n",
      "tensor(5.7114, grad_fn=<MeanBackward0>)\n",
      "tensor(5.6631, grad_fn=<MeanBackward0>)\n",
      "tensor(5.6156, grad_fn=<MeanBackward0>)\n",
      "tensor(5.5690, grad_fn=<MeanBackward0>)\n",
      "tensor(5.5232, grad_fn=<MeanBackward0>)\n",
      "tensor(5.4781, grad_fn=<MeanBackward0>)\n",
      "tensor(5.4338, grad_fn=<MeanBackward0>)\n",
      "tensor(5.3903, grad_fn=<MeanBackward0>)\n",
      "tensor(5.3475, grad_fn=<MeanBackward0>)\n",
      "tensor(5.3055, grad_fn=<MeanBackward0>)\n",
      "tensor(5.2643, grad_fn=<MeanBackward0>)\n",
      "tensor(5.2237, grad_fn=<MeanBackward0>)\n",
      "tensor(5.1839, grad_fn=<MeanBackward0>)\n",
      "tensor(5.1447, grad_fn=<MeanBackward0>)\n",
      "tensor(5.1062, grad_fn=<MeanBackward0>)\n",
      "tensor(5.0684, grad_fn=<MeanBackward0>)\n",
      "tensor(5.0313, grad_fn=<MeanBackward0>)\n",
      "tensor(4.9947, grad_fn=<MeanBackward0>)\n",
      "tensor(4.9588, grad_fn=<MeanBackward0>)\n",
      "tensor(4.9236, grad_fn=<MeanBackward0>)\n",
      "tensor(4.8890, grad_fn=<MeanBackward0>)\n",
      "tensor(4.8549, grad_fn=<MeanBackward0>)\n",
      "tensor(4.8214, grad_fn=<MeanBackward0>)\n",
      "tensor(4.7886, grad_fn=<MeanBackward0>)\n",
      "tensor(4.7563, grad_fn=<MeanBackward0>)\n",
      "tensor(4.7245, grad_fn=<MeanBackward0>)\n",
      "tensor(4.6933, grad_fn=<MeanBackward0>)\n",
      "tensor(4.6627, grad_fn=<MeanBackward0>)\n",
      "tensor(4.6326, grad_fn=<MeanBackward0>)\n",
      "tensor(4.6030, grad_fn=<MeanBackward0>)\n",
      "tensor(4.5739, grad_fn=<MeanBackward0>)\n",
      "tensor(4.5453, grad_fn=<MeanBackward0>)\n",
      "tensor(4.5172, grad_fn=<MeanBackward0>)\n",
      "tensor(4.4896, grad_fn=<MeanBackward0>)\n",
      "tensor(4.4625, grad_fn=<MeanBackward0>)\n",
      "tensor(4.4359, grad_fn=<MeanBackward0>)\n",
      "tensor(4.4097, grad_fn=<MeanBackward0>)\n",
      "tensor(4.3840, grad_fn=<MeanBackward0>)\n",
      "tensor(4.3587, grad_fn=<MeanBackward0>)\n",
      "tensor(4.3338, grad_fn=<MeanBackward0>)\n",
      "tensor(4.3095, grad_fn=<MeanBackward0>)\n",
      "tensor(4.2855, grad_fn=<MeanBackward0>)\n",
      "tensor(4.2619, grad_fn=<MeanBackward0>)\n",
      "tensor(4.2388, grad_fn=<MeanBackward0>)\n",
      "tensor(4.2160, grad_fn=<MeanBackward0>)\n",
      "tensor(4.1936, grad_fn=<MeanBackward0>)\n",
      "tensor(4.1716, grad_fn=<MeanBackward0>)\n",
      "tensor(4.1500, grad_fn=<MeanBackward0>)\n",
      "tensor(4.1288, grad_fn=<MeanBackward0>)\n",
      "tensor(4.1080, grad_fn=<MeanBackward0>)\n",
      "tensor(4.0875, grad_fn=<MeanBackward0>)\n",
      "tensor(4.0674, grad_fn=<MeanBackward0>)\n",
      "tensor(4.0476, grad_fn=<MeanBackward0>)\n",
      "tensor(4.0282, grad_fn=<MeanBackward0>)\n",
      "tensor(4.0090, grad_fn=<MeanBackward0>)\n",
      "tensor(3.9903, grad_fn=<MeanBackward0>)\n",
      "tensor(3.9718, grad_fn=<MeanBackward0>)\n",
      "tensor(3.9537, grad_fn=<MeanBackward0>)\n",
      "tensor(3.9359, grad_fn=<MeanBackward0>)\n",
      "tensor(3.9184, grad_fn=<MeanBackward0>)\n",
      "tensor(3.9012, grad_fn=<MeanBackward0>)\n",
      "tensor(3.8843, grad_fn=<MeanBackward0>)\n",
      "tensor(3.8677, grad_fn=<MeanBackward0>)\n",
      "tensor(3.8513, grad_fn=<MeanBackward0>)\n",
      "tensor(3.8353, grad_fn=<MeanBackward0>)\n",
      "tensor(3.8195, grad_fn=<MeanBackward0>)\n",
      "tensor(3.8041, grad_fn=<MeanBackward0>)\n",
      "tensor(3.7888, grad_fn=<MeanBackward0>)\n",
      "tensor(3.7739, grad_fn=<MeanBackward0>)\n",
      "tensor(3.7592, grad_fn=<MeanBackward0>)\n",
      "tensor(3.7448, grad_fn=<MeanBackward0>)\n",
      "tensor(3.7306, grad_fn=<MeanBackward0>)\n"
     ]
    }
   ],
   "source": [
    "\n",
    "\n",
    "result = training_loop(\n",
    "            n_epochs = 100000,\n",
    "            learning_rate = 0.0001,\n",
    "            params = torch.tensor(  [1.0, 0.0], requires_grad=True    ),\n",
    "            t_u = t_u,\n",
    "            t_c = t_c\n",
    ")\n",
    "\n",
    "\n"
   ]
  },
  {
   "cell_type": "code",
   "execution_count": 20,
   "id": "3f9d7911",
   "metadata": {},
   "outputs": [
    {
     "name": "stdout",
     "output_type": "stream",
     "text": [
      "tensor([  0.4839, -14.3032], requires_grad=True)\n"
     ]
    }
   ],
   "source": [
    "\n",
    "print(result)\n"
   ]
  },
  {
   "cell_type": "code",
   "execution_count": 25,
   "id": "702a33f7",
   "metadata": {},
   "outputs": [],
   "source": [
    "\n",
    "## celsius from fehrenheit\n",
    "## 100 c = 212 f \n",
    "\n",
    "\n",
    "my_temp = model(99.5,*result)"
   ]
  },
  {
   "cell_type": "code",
   "execution_count": 26,
   "id": "cc9ce3aa",
   "metadata": {},
   "outputs": [
    {
     "data": {
      "text/plain": [
       "tensor(33.8448, grad_fn=<AddBackward0>)"
      ]
     },
     "execution_count": 26,
     "metadata": {},
     "output_type": "execute_result"
    }
   ],
   "source": [
    "my_temp"
   ]
  },
  {
   "cell_type": "code",
   "execution_count": null,
   "id": "a9f46d56",
   "metadata": {},
   "outputs": [],
   "source": []
  },
  {
   "cell_type": "code",
   "execution_count": null,
   "id": "36a65cbf",
   "metadata": {},
   "outputs": [],
   "source": []
  }
 ],
 "metadata": {
  "kernelspec": {
   "display_name": "Python 3 (ipykernel)",
   "language": "python",
   "name": "python3"
  },
  "language_info": {
   "codemirror_mode": {
    "name": "ipython",
    "version": 3
   },
   "file_extension": ".py",
   "mimetype": "text/x-python",
   "name": "python",
   "nbconvert_exporter": "python",
   "pygments_lexer": "ipython3",
   "version": "3.8.13"
  }
 },
 "nbformat": 4,
 "nbformat_minor": 5
}
