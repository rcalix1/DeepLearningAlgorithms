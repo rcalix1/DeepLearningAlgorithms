{
 "cells": [
  {
   "cell_type": "code",
   "execution_count": 1,
   "id": "5963bc6a-1491-415a-823b-68a268329ad5",
   "metadata": {},
   "outputs": [],
   "source": [
    "\n",
    "import torch\n",
    "\n",
    "from torch.nn import functional as F\n"
   ]
  },
  {
   "cell_type": "markdown",
   "id": "e1a06abf-502c-4be3-849b-d888ee2833bf",
   "metadata": {},
   "source": [
    "\n",
    "## Attention\n",
    "\n",
    "* attention converts \"x\" into K, Q, V and performs the attention mechanism by the matrix multiplication between K and Q\n"
   ]
  },
  {
   "cell_type": "code",
   "execution_count": 2,
   "id": "11380e7b-6232-4aa0-ba7b-2bfd6f6c26eb",
   "metadata": {},
   "outputs": [
    {
     "data": {
      "text/plain": [
       "torch.Size([32, 40, 512])"
      ]
     },
     "execution_count": 2,
     "metadata": {},
     "output_type": "execute_result"
    }
   ],
   "source": [
    "\n",
    "N = 32 \n",
    "\n",
    "x = torch.randn(N, 40, 512)\n",
    "x.shape\n"
   ]
  },
  {
   "cell_type": "markdown",
   "id": "3d98edb9-ff74-41c0-969c-e3ff60588f39",
   "metadata": {},
   "source": [
    "\n",
    "## Q\n"
   ]
  },
  {
   "cell_type": "code",
   "execution_count": 3,
   "id": "72566bcb-bab1-4baf-b26b-5903bcd4607c",
   "metadata": {},
   "outputs": [
    {
     "data": {
      "text/plain": [
       "torch.Size([32, 512, 64])"
      ]
     },
     "execution_count": 3,
     "metadata": {},
     "output_type": "execute_result"
    }
   ],
   "source": [
    "\n",
    "wq = torch.randn(N, 512, 64)\n",
    "wq.shape\n"
   ]
  },
  {
   "cell_type": "code",
   "execution_count": 4,
   "id": "62e02ce9-11be-4bb2-a7bc-35f56c9b9131",
   "metadata": {},
   "outputs": [
    {
     "data": {
      "text/plain": [
       "torch.Size([32, 40, 64])"
      ]
     },
     "execution_count": 4,
     "metadata": {},
     "output_type": "execute_result"
    }
   ],
   "source": [
    "\n",
    "bq = torch.randn(  N, 40, 64  )\n",
    "bq.shape\n"
   ]
  },
  {
   "cell_type": "code",
   "execution_count": 5,
   "id": "b439fb17-4fb3-4d4f-9b27-e4ca49270e64",
   "metadata": {},
   "outputs": [
    {
     "data": {
      "text/plain": [
       "torch.Size([32, 40, 64])"
      ]
     },
     "execution_count": 5,
     "metadata": {},
     "output_type": "execute_result"
    }
   ],
   "source": [
    "\n",
    "Q = torch.matmul(  x, wq  ) \n",
    "Q.shape\n"
   ]
  },
  {
   "cell_type": "code",
   "execution_count": 6,
   "id": "9dae5cc9-54c7-4165-a2d0-90ddfbc671b5",
   "metadata": {},
   "outputs": [
    {
     "data": {
      "text/plain": [
       "torch.Size([32, 40, 64])"
      ]
     },
     "execution_count": 6,
     "metadata": {},
     "output_type": "execute_result"
    }
   ],
   "source": [
    "\n",
    "Q = Q + bq\n",
    "Q.shape\n"
   ]
  },
  {
   "cell_type": "markdown",
   "id": "cafc03d4-af0f-46b4-855a-c54fafc4fdcb",
   "metadata": {},
   "source": [
    "\n",
    "## K \n"
   ]
  },
  {
   "cell_type": "code",
   "execution_count": 7,
   "id": "2c59e558-04d4-4acc-9305-a8349e72a871",
   "metadata": {},
   "outputs": [
    {
     "data": {
      "text/plain": [
       "torch.Size([32, 512, 64])"
      ]
     },
     "execution_count": 7,
     "metadata": {},
     "output_type": "execute_result"
    }
   ],
   "source": [
    "\n",
    "wk = torch.randn(N, 512, 64)\n",
    "wk.shape\n"
   ]
  },
  {
   "cell_type": "code",
   "execution_count": 8,
   "id": "2ce15992-ba0b-429f-a54b-ed13ef996334",
   "metadata": {},
   "outputs": [
    {
     "data": {
      "text/plain": [
       "torch.Size([32, 40, 64])"
      ]
     },
     "execution_count": 8,
     "metadata": {},
     "output_type": "execute_result"
    }
   ],
   "source": [
    "\n",
    "bk = torch.randn(  N, 40, 64  )\n",
    "bk.shape\n"
   ]
  },
  {
   "cell_type": "code",
   "execution_count": 9,
   "id": "fcff507d-b6e9-4a78-aad5-bcc2edbd537f",
   "metadata": {},
   "outputs": [
    {
     "data": {
      "text/plain": [
       "torch.Size([32, 40, 64])"
      ]
     },
     "execution_count": 9,
     "metadata": {},
     "output_type": "execute_result"
    }
   ],
   "source": [
    "\n",
    "K = torch.matmul(  x, wk  ) \n",
    "K.shape\n"
   ]
  },
  {
   "cell_type": "code",
   "execution_count": 10,
   "id": "a05dbea7-5a7d-46ea-9e57-0ce7d4cfbabb",
   "metadata": {},
   "outputs": [
    {
     "data": {
      "text/plain": [
       "torch.Size([32, 40, 64])"
      ]
     },
     "execution_count": 10,
     "metadata": {},
     "output_type": "execute_result"
    }
   ],
   "source": [
    "\n",
    "K = K + bk\n",
    "K.shape\n"
   ]
  },
  {
   "cell_type": "markdown",
   "id": "8b018657-94bf-47ed-82b0-72a6e5addbf3",
   "metadata": {},
   "source": [
    "\n",
    "## Attention Q*K = [N, 40, 40]\n"
   ]
  },
  {
   "cell_type": "code",
   "execution_count": 11,
   "id": "cc2c4711-4f06-4253-8c9a-6b70898867f7",
   "metadata": {},
   "outputs": [
    {
     "data": {
      "text/plain": [
       "torch.Size([32, 40, 40])"
      ]
     },
     "execution_count": 11,
     "metadata": {},
     "output_type": "execute_result"
    }
   ],
   "source": [
    "\n",
    "attention_scores = torch.matmul(   Q, K.transpose( -2, -1 )   )\n",
    "attention_scores.shape\n"
   ]
  },
  {
   "cell_type": "markdown",
   "id": "884c1ee6-3c8a-492c-8021-9808554a4616",
   "metadata": {},
   "source": [
    "\n",
    "## V\n"
   ]
  },
  {
   "cell_type": "code",
   "execution_count": 12,
   "id": "42890f75-307c-4ff4-ac9b-38ed7ce9f415",
   "metadata": {},
   "outputs": [
    {
     "data": {
      "text/plain": [
       "torch.Size([32, 512, 64])"
      ]
     },
     "execution_count": 12,
     "metadata": {},
     "output_type": "execute_result"
    }
   ],
   "source": [
    "\n",
    "wv = torch.randn(N, 512, 64)\n",
    "wv.shape\n"
   ]
  },
  {
   "cell_type": "code",
   "execution_count": 13,
   "id": "7de8a2c1-18c4-43e8-9e6c-7be37d6f52fe",
   "metadata": {},
   "outputs": [
    {
     "data": {
      "text/plain": [
       "torch.Size([32, 40, 64])"
      ]
     },
     "execution_count": 13,
     "metadata": {},
     "output_type": "execute_result"
    }
   ],
   "source": [
    "\n",
    "bv = torch.randn(  N, 40, 64  )\n",
    "bv.shape\n"
   ]
  },
  {
   "cell_type": "code",
   "execution_count": 14,
   "id": "f4536a85-5a10-467e-abf1-7f08f34824d8",
   "metadata": {},
   "outputs": [
    {
     "data": {
      "text/plain": [
       "torch.Size([32, 40, 64])"
      ]
     },
     "execution_count": 14,
     "metadata": {},
     "output_type": "execute_result"
    }
   ],
   "source": [
    "\n",
    "V = torch.matmul(  x, wv  ) \n",
    "V.shape\n"
   ]
  },
  {
   "cell_type": "code",
   "execution_count": 15,
   "id": "eba9b555-d909-4997-b0bf-61f316a283cf",
   "metadata": {},
   "outputs": [
    {
     "data": {
      "text/plain": [
       "torch.Size([32, 40, 64])"
      ]
     },
     "execution_count": 15,
     "metadata": {},
     "output_type": "execute_result"
    }
   ],
   "source": [
    "\n",
    "V = V + bv\n",
    "V.shape\n"
   ]
  },
  {
   "cell_type": "code",
   "execution_count": 16,
   "id": "3a5677b5-bf95-49c5-a56d-20fa7b5a5cc7",
   "metadata": {},
   "outputs": [
    {
     "data": {
      "text/plain": [
       "torch.Size([32, 40, 64])"
      ]
     },
     "execution_count": 16,
     "metadata": {},
     "output_type": "execute_result"
    }
   ],
   "source": [
    "\n",
    "out = torch.matmul( attention_scores , V )\n",
    "out.shape\n"
   ]
  },
  {
   "cell_type": "markdown",
   "id": "35c12e56-b27d-4bee-bc95-a5cfdc4f0b70",
   "metadata": {},
   "source": [
    "\n",
    "## Concatenate All 8 heads\n"
   ]
  },
  {
   "cell_type": "code",
   "execution_count": 17,
   "id": "c0091acb-871b-4f49-bf6b-a135cfe5d80c",
   "metadata": {},
   "outputs": [],
   "source": [
    "\n",
    "list_head = [ out for i in range(8) ]\n"
   ]
  },
  {
   "cell_type": "code",
   "execution_count": 18,
   "id": "83b227ad-15b8-410f-a167-d34d31fb6f41",
   "metadata": {},
   "outputs": [
    {
     "name": "stdout",
     "output_type": "stream",
     "text": [
      "torch.Size([32, 40, 64])\n",
      "torch.Size([32, 40, 64])\n",
      "torch.Size([32, 40, 64])\n",
      "torch.Size([32, 40, 64])\n",
      "torch.Size([32, 40, 64])\n",
      "torch.Size([32, 40, 64])\n",
      "torch.Size([32, 40, 64])\n",
      "torch.Size([32, 40, 64])\n"
     ]
    }
   ],
   "source": [
    "\n",
    "for j in range(len(list_head)):\n",
    "    print(   list_head[j].shape   )\n"
   ]
  },
  {
   "cell_type": "code",
   "execution_count": 19,
   "id": "024db9e5-4acf-4077-b245-4f113c894ee3",
   "metadata": {},
   "outputs": [
    {
     "data": {
      "text/plain": [
       "torch.Size([32, 40, 512])"
      ]
     },
     "execution_count": 19,
     "metadata": {},
     "output_type": "execute_result"
    }
   ],
   "source": [
    "\n",
    "out_cat = torch.cat(  list_head, dim = -1  )\n",
    "out_cat.shape\n"
   ]
  },
  {
   "cell_type": "markdown",
   "id": "bd79e2e6-ab5b-4402-9a59-6a421e625a31",
   "metadata": {},
   "source": [
    "\n",
    "## Another projection for the concatenated 8 heads\n"
   ]
  },
  {
   "cell_type": "code",
   "execution_count": 20,
   "id": "71b27877-0aef-4003-a0d5-f1e0e24c5e07",
   "metadata": {},
   "outputs": [
    {
     "data": {
      "text/plain": [
       "512"
      ]
     },
     "execution_count": 20,
     "metadata": {},
     "output_type": "execute_result"
    }
   ],
   "source": [
    "\n",
    "8*64\n"
   ]
  },
  {
   "cell_type": "code",
   "execution_count": 21,
   "id": "4c29eb32-d688-4a9d-b497-b812d5283ad2",
   "metadata": {},
   "outputs": [
    {
     "data": {
      "text/plain": [
       "torch.Size([32, 512, 512])"
      ]
     },
     "execution_count": 21,
     "metadata": {},
     "output_type": "execute_result"
    }
   ],
   "source": [
    "\n",
    "w0 = torch.randn(   N, 8*64, 512   )\n",
    "w0.shape\n"
   ]
  },
  {
   "cell_type": "code",
   "execution_count": 22,
   "id": "2602e324-a830-4e91-94ae-6b5a5a6f7e15",
   "metadata": {},
   "outputs": [
    {
     "data": {
      "text/plain": [
       "torch.Size([32, 40, 512])"
      ]
     },
     "execution_count": 22,
     "metadata": {},
     "output_type": "execute_result"
    }
   ],
   "source": [
    "\n",
    "b0 = torch.randn(  N,  40,  512  )\n",
    "b0.shape\n"
   ]
  },
  {
   "cell_type": "code",
   "execution_count": 23,
   "id": "d135e364-02dc-46ba-a2ba-57d808687714",
   "metadata": {},
   "outputs": [
    {
     "data": {
      "text/plain": [
       "torch.Size([32, 40, 512])"
      ]
     },
     "execution_count": 23,
     "metadata": {},
     "output_type": "execute_result"
    }
   ],
   "source": [
    "\n",
    "z = torch.matmul( out_cat, w0  )\n",
    "z.shape\n"
   ]
  },
  {
   "cell_type": "code",
   "execution_count": 24,
   "id": "d2baf570-b945-492b-aff6-0f127a0a97b1",
   "metadata": {},
   "outputs": [
    {
     "data": {
      "text/plain": [
       "torch.Size([32, 40, 512])"
      ]
     },
     "execution_count": 24,
     "metadata": {},
     "output_type": "execute_result"
    }
   ],
   "source": [
    "\n",
    "z = z + b0\n",
    "z.shape\n"
   ]
  },
  {
   "cell_type": "markdown",
   "id": "5e683f7b-6b13-4f5d-a5ca-36606745e381",
   "metadata": {},
   "source": [
    "\n",
    "## The Mask\n"
   ]
  },
  {
   "cell_type": "code",
   "execution_count": 25,
   "id": "33f85f49-1ca5-4bcf-ae82-b23f02550b2e",
   "metadata": {},
   "outputs": [
    {
     "data": {
      "text/plain": [
       "torch.Size([10, 10])"
      ]
     },
     "execution_count": 25,
     "metadata": {},
     "output_type": "execute_result"
    }
   ],
   "source": [
    "\n",
    "tril_def = torch.tril(\n",
    "              torch.ones(10, 10)      ## should be 40 but using 10 for viz\n",
    ")\n",
    "tril_def.shape\n"
   ]
  },
  {
   "cell_type": "code",
   "execution_count": 26,
   "id": "216baf5e-0cf1-4f66-a939-735a6c9bdcce",
   "metadata": {},
   "outputs": [
    {
     "data": {
      "text/plain": [
       "tensor([[1., 0., 0., 0., 0., 0., 0., 0., 0., 0.],\n",
       "        [1., 1., 0., 0., 0., 0., 0., 0., 0., 0.],\n",
       "        [1., 1., 1., 0., 0., 0., 0., 0., 0., 0.],\n",
       "        [1., 1., 1., 1., 0., 0., 0., 0., 0., 0.],\n",
       "        [1., 1., 1., 1., 1., 0., 0., 0., 0., 0.],\n",
       "        [1., 1., 1., 1., 1., 1., 0., 0., 0., 0.],\n",
       "        [1., 1., 1., 1., 1., 1., 1., 0., 0., 0.],\n",
       "        [1., 1., 1., 1., 1., 1., 1., 1., 0., 0.],\n",
       "        [1., 1., 1., 1., 1., 1., 1., 1., 1., 0.],\n",
       "        [1., 1., 1., 1., 1., 1., 1., 1., 1., 1.]])"
      ]
     },
     "execution_count": 26,
     "metadata": {},
     "output_type": "execute_result"
    }
   ],
   "source": [
    "\n",
    "tril_def \n"
   ]
  },
  {
   "cell_type": "code",
   "execution_count": 27,
   "id": "4364cc8c-b88e-467f-bde3-d3c3b5a3aa32",
   "metadata": {},
   "outputs": [
    {
     "data": {
      "text/plain": [
       "\"\\n\\n\\nimport torch.nn as nn\\n\\nmy_tril_reg = nn.Module.register_buffer('tril', tril_def)\\nmy_tril_reg\\n\\n\""
      ]
     },
     "execution_count": 27,
     "metadata": {},
     "output_type": "execute_result"
    }
   ],
   "source": [
    "\n",
    "## this is just to record tril_deg as a buffer that is not updated during training\n",
    "\n",
    "'''\n",
    "\n",
    "\n",
    "import torch.nn as nn\n",
    "\n",
    "my_tril_reg = nn.Module.register_buffer('tril', tril_def)\n",
    "my_tril_reg\n",
    "\n",
    "'''\n"
   ]
  },
  {
   "cell_type": "markdown",
   "id": "66f52cd4-5aa5-483c-81bb-646ebedabc6e",
   "metadata": {},
   "source": [
    "\n",
    "## Batch of 32 sentences in the attention matrix 40x40\n"
   ]
  },
  {
   "cell_type": "code",
   "execution_count": 28,
   "id": "57d04bd4-44e0-46fd-820a-97574c635dc1",
   "metadata": {},
   "outputs": [
    {
     "data": {
      "text/plain": [
       "torch.Size([32, 40, 40])"
      ]
     },
     "execution_count": 28,
     "metadata": {},
     "output_type": "execute_result"
    }
   ],
   "source": [
    "\n",
    "attention_scores.shape\n"
   ]
  },
  {
   "cell_type": "code",
   "execution_count": 29,
   "id": "47fa76e9-7ed1-48aa-8037-8dfda4beeab8",
   "metadata": {},
   "outputs": [
    {
     "data": {
      "text/plain": [
       "torch.Size([32, 10, 10])"
      ]
     },
     "execution_count": 29,
     "metadata": {},
     "output_type": "execute_result"
    }
   ],
   "source": [
    "\n",
    "size10_attention = torch.randn(   N, 10, 10  )\n",
    "size10_attention.shape\n"
   ]
  },
  {
   "cell_type": "markdown",
   "id": "bc8f49c7-0744-435d-ae9f-ab26594a1a31",
   "metadata": {},
   "source": [
    "\n",
    "## Use the tril for masking\n"
   ]
  },
  {
   "cell_type": "code",
   "execution_count": 30,
   "id": "4f8b6180-ffcd-41f0-ac78-1c9ace440e13",
   "metadata": {},
   "outputs": [
    {
     "data": {
      "text/plain": [
       "torch.Size([10, 10])"
      ]
     },
     "execution_count": 30,
     "metadata": {},
     "output_type": "execute_result"
    }
   ],
   "source": [
    "\n",
    "tril_def[:10, :10].shape\n"
   ]
  },
  {
   "cell_type": "code",
   "execution_count": 31,
   "id": "ae50f83a-9e73-4831-b14e-68e973694458",
   "metadata": {},
   "outputs": [
    {
     "data": {
      "text/plain": [
       "tensor([[False,  True,  True,  True,  True,  True,  True,  True,  True,  True],\n",
       "        [False, False,  True,  True,  True,  True,  True,  True,  True,  True],\n",
       "        [False, False, False,  True,  True,  True,  True,  True,  True,  True],\n",
       "        [False, False, False, False,  True,  True,  True,  True,  True,  True],\n",
       "        [False, False, False, False, False,  True,  True,  True,  True,  True],\n",
       "        [False, False, False, False, False, False,  True,  True,  True,  True],\n",
       "        [False, False, False, False, False, False, False,  True,  True,  True],\n",
       "        [False, False, False, False, False, False, False, False,  True,  True],\n",
       "        [False, False, False, False, False, False, False, False, False,  True],\n",
       "        [False, False, False, False, False, False, False, False, False, False]])"
      ]
     },
     "execution_count": 31,
     "metadata": {},
     "output_type": "execute_result"
    }
   ],
   "source": [
    "\n",
    "tril_def[:10, :10] == 0\n"
   ]
  },
  {
   "cell_type": "code",
   "execution_count": 32,
   "id": "ed320acc-b6d9-4692-a5ed-00e320f7c5c6",
   "metadata": {},
   "outputs": [
    {
     "data": {
      "text/plain": [
       "torch.Size([32, 10, 10])"
      ]
     },
     "execution_count": 32,
     "metadata": {},
     "output_type": "execute_result"
    }
   ],
   "source": [
    "\n",
    "size10_attention = size10_attention.masked_fill(\n",
    "                            tril_def[:10, :10] == 0,\n",
    "                            float('-inf')\n",
    "    \n",
    ")\n",
    "size10_attention.shape\n"
   ]
  },
  {
   "cell_type": "markdown",
   "id": "3db71d7e-1bee-40a8-bde2-ecc0f0dd65b0",
   "metadata": {},
   "source": [
    "\n",
    "## Negative infinities\n",
    "\n",
    "* softmax makes negative infinities close to zero\n"
   ]
  },
  {
   "cell_type": "code",
   "execution_count": 33,
   "id": "b32cb762-77ba-4494-9c6e-060f0c598bc5",
   "metadata": {},
   "outputs": [
    {
     "data": {
      "text/plain": [
       "tensor([[-0.1414,    -inf,    -inf,    -inf,    -inf,    -inf,    -inf,    -inf,\n",
       "            -inf,    -inf],\n",
       "        [-0.5979,  0.9721,    -inf,    -inf,    -inf,    -inf,    -inf,    -inf,\n",
       "            -inf,    -inf],\n",
       "        [ 2.4868, -0.5984,  0.5984,    -inf,    -inf,    -inf,    -inf,    -inf,\n",
       "            -inf,    -inf],\n",
       "        [-0.6860,  0.2422,  0.3465, -1.3606,    -inf,    -inf,    -inf,    -inf,\n",
       "            -inf,    -inf],\n",
       "        [ 0.7698, -0.9402, -1.5300,  0.1798,  0.3901,    -inf,    -inf,    -inf,\n",
       "            -inf,    -inf],\n",
       "        [-1.4165, -1.1399,  0.2813, -0.3932, -0.5217,  1.7322,    -inf,    -inf,\n",
       "            -inf,    -inf],\n",
       "        [ 0.6403,  0.9066,  0.0405,  0.5469,  1.6245,  0.0386, -0.6646,    -inf,\n",
       "            -inf,    -inf],\n",
       "        [-0.3735,  0.9200,  0.2612, -0.1700, -0.5403, -0.1230,  0.0656,  1.3097,\n",
       "            -inf,    -inf],\n",
       "        [ 0.2676,  0.8405, -2.3592,  1.5083,  0.1222,  0.8123, -0.3797, -0.3743,\n",
       "          0.0901,    -inf],\n",
       "        [-0.1547,  0.1579, -1.1072, -0.3354,  2.4721, -0.0372, -0.6212,  0.3130,\n",
       "         -0.9139, -0.9774]])"
      ]
     },
     "execution_count": 33,
     "metadata": {},
     "output_type": "execute_result"
    }
   ],
   "source": [
    "\n",
    "size10_attention[0]\n"
   ]
  },
  {
   "cell_type": "code",
   "execution_count": 34,
   "id": "79cec5b4-4eb4-45b3-aa55-b9ebeca973e4",
   "metadata": {},
   "outputs": [
    {
     "data": {
      "text/plain": [
       "torch.Size([32, 10, 10])"
      ]
     },
     "execution_count": 34,
     "metadata": {},
     "output_type": "execute_result"
    }
   ],
   "source": [
    "\n",
    "size10_attention_softmax = F.softmax( size10_attention, dim=-1)\n",
    "size10_attention_softmax.shape\n"
   ]
  },
  {
   "cell_type": "markdown",
   "id": "d68acaba-7138-4d85-9d98-ba97e29dd483",
   "metadata": {},
   "source": [
    "\n",
    "## Assume batch of only one sentence\n"
   ]
  },
  {
   "cell_type": "code",
   "execution_count": 35,
   "id": "da0deb66-ae7e-4b90-8182-a6dec3c1a0d7",
   "metadata": {},
   "outputs": [
    {
     "data": {
      "text/plain": [
       "torch.Size([1, 10, 10])"
      ]
     },
     "execution_count": 35,
     "metadata": {},
     "output_type": "execute_result"
    }
   ],
   "source": [
    "\n",
    "size_1_attention = torch.randn(  1, 10, 10  )\n",
    "size_1_attention.shape\n"
   ]
  },
  {
   "cell_type": "code",
   "execution_count": 36,
   "id": "51cd9b52-69e4-4485-83be-87a2bac51641",
   "metadata": {},
   "outputs": [
    {
     "data": {
      "text/plain": [
       "torch.Size([1, 10, 10])"
      ]
     },
     "execution_count": 36,
     "metadata": {},
     "output_type": "execute_result"
    }
   ],
   "source": [
    "\n",
    "size_1_attention = size_1_attention.masked_fill(\n",
    "                            tril_def[:10, :10] == 0,\n",
    "                            float('-inf')\n",
    "    \n",
    ")\n",
    "size_1_attention.shape\n"
   ]
  },
  {
   "cell_type": "code",
   "execution_count": 37,
   "id": "dd677422-2390-4348-aa8e-ef9bbb1c3eb6",
   "metadata": {},
   "outputs": [
    {
     "data": {
      "text/plain": [
       "torch.Size([1, 10, 10])"
      ]
     },
     "execution_count": 37,
     "metadata": {},
     "output_type": "execute_result"
    }
   ],
   "source": [
    "\n",
    "size_1_attention.shape\n"
   ]
  },
  {
   "cell_type": "code",
   "execution_count": 38,
   "id": "dd09d5f6-904f-47c8-93c7-90fb2a3b3875",
   "metadata": {},
   "outputs": [
    {
     "data": {
      "text/plain": [
       "tensor([[[ 0.3694,    -inf,    -inf,    -inf,    -inf,    -inf,    -inf,\n",
       "             -inf,    -inf,    -inf],\n",
       "         [-0.4083, -1.0354,    -inf,    -inf,    -inf,    -inf,    -inf,\n",
       "             -inf,    -inf,    -inf],\n",
       "         [-0.2602,  0.3039,  0.2962,    -inf,    -inf,    -inf,    -inf,\n",
       "             -inf,    -inf,    -inf],\n",
       "         [-2.0628, -0.6610,  1.0288, -0.9754,    -inf,    -inf,    -inf,\n",
       "             -inf,    -inf,    -inf],\n",
       "         [-0.4197, -0.4583,  0.3219,  0.3110, -2.2110,    -inf,    -inf,\n",
       "             -inf,    -inf,    -inf],\n",
       "         [ 0.7639,  2.3473,  1.0977,  1.4825, -0.2518, -1.1985,    -inf,\n",
       "             -inf,    -inf,    -inf],\n",
       "         [-1.9602,  0.9058,  0.1762, -1.3424, -1.8256,  0.7835, -1.0198,\n",
       "             -inf,    -inf,    -inf],\n",
       "         [-2.6099,  0.2272,  1.0389,  0.6421, -1.0396, -1.2019,  0.4806,\n",
       "          -1.5056,    -inf,    -inf],\n",
       "         [-0.8609,  2.1190, -1.5526,  0.0927, -0.0035, -0.7038,  1.1124,\n",
       "           0.5445, -0.3165,    -inf],\n",
       "         [-0.5020,  1.3828,  0.6975, -0.6191, -2.2366, -0.5525, -0.2056,\n",
       "          -1.4396, -0.2079, -1.1805]]])"
      ]
     },
     "execution_count": 38,
     "metadata": {},
     "output_type": "execute_result"
    }
   ],
   "source": [
    "\n",
    "size_1_attention\n"
   ]
  },
  {
   "cell_type": "code",
   "execution_count": 39,
   "id": "d5e3e54e-be6e-4230-b862-082d6b437d1d",
   "metadata": {},
   "outputs": [
    {
     "data": {
      "text/plain": [
       "torch.Size([1, 10, 10])"
      ]
     },
     "execution_count": 39,
     "metadata": {},
     "output_type": "execute_result"
    }
   ],
   "source": [
    "\n",
    "size_1_attention_softmax = F.softmax( size_1_attention, dim=-1)\n",
    "size_1_attention_softmax.shape\n"
   ]
  },
  {
   "cell_type": "code",
   "execution_count": 40,
   "id": "829f8689-0896-49d7-b633-cf832b76af65",
   "metadata": {},
   "outputs": [
    {
     "data": {
      "text/plain": [
       "tensor([[[1.0000, 0.0000, 0.0000, 0.0000, 0.0000, 0.0000, 0.0000, 0.0000,\n",
       "          0.0000, 0.0000],\n",
       "         [0.6518, 0.3482, 0.0000, 0.0000, 0.0000, 0.0000, 0.0000, 0.0000,\n",
       "          0.0000, 0.0000],\n",
       "         [0.2221, 0.3905, 0.3874, 0.0000, 0.0000, 0.0000, 0.0000, 0.0000,\n",
       "          0.0000, 0.0000],\n",
       "         [0.0333, 0.1352, 0.7327, 0.0987, 0.0000, 0.0000, 0.0000, 0.0000,\n",
       "          0.0000, 0.0000],\n",
       "         [0.1586, 0.1526, 0.3330, 0.3294, 0.0264, 0.0000, 0.0000, 0.0000,\n",
       "          0.0000, 0.0000],\n",
       "         [0.1018, 0.4960, 0.1422, 0.2089, 0.0369, 0.0143, 0.0000, 0.0000,\n",
       "          0.0000, 0.0000],\n",
       "         [0.0208, 0.3649, 0.1759, 0.0385, 0.0238, 0.3229, 0.0532, 0.0000,\n",
       "          0.0000, 0.0000],\n",
       "         [0.0086, 0.1468, 0.3306, 0.2223, 0.0414, 0.0352, 0.1892, 0.0260,\n",
       "          0.0000, 0.0000],\n",
       "         [0.0248, 0.4884, 0.0124, 0.0644, 0.0585, 0.0290, 0.1785, 0.1012,\n",
       "          0.0428, 0.0000],\n",
       "         [0.0606, 0.3990, 0.2010, 0.0539, 0.0107, 0.0576, 0.0815, 0.0237,\n",
       "          0.0813, 0.0307]]])"
      ]
     },
     "execution_count": 40,
     "metadata": {},
     "output_type": "execute_result"
    }
   ],
   "source": [
    "\n",
    "size_1_attention_softmax\n"
   ]
  },
  {
   "cell_type": "code",
   "execution_count": null,
   "id": "c14d3d84-3598-4bf1-8eb5-f9657a922d1b",
   "metadata": {},
   "outputs": [],
   "source": []
  },
  {
   "cell_type": "code",
   "execution_count": null,
   "id": "f08f74da-4a9d-4f28-9aad-2195d6e9a89a",
   "metadata": {},
   "outputs": [],
   "source": []
  },
  {
   "cell_type": "code",
   "execution_count": null,
   "id": "9c495ae5-f81c-41cb-b923-579052e59099",
   "metadata": {},
   "outputs": [],
   "source": []
  },
  {
   "cell_type": "code",
   "execution_count": null,
   "id": "82bffa8c-60a6-43f0-a3df-d047edcf1171",
   "metadata": {},
   "outputs": [],
   "source": []
  },
  {
   "cell_type": "code",
   "execution_count": null,
   "id": "fb2f292b-4da7-46a9-9c28-e98db51c1e60",
   "metadata": {},
   "outputs": [],
   "source": []
  },
  {
   "cell_type": "code",
   "execution_count": null,
   "id": "c2ccce95-2634-43ae-9ed2-bda0e500ab1a",
   "metadata": {},
   "outputs": [],
   "source": []
  },
  {
   "cell_type": "code",
   "execution_count": null,
   "id": "dd4a9473-28f5-472a-95b2-825ff058d63f",
   "metadata": {},
   "outputs": [],
   "source": []
  },
  {
   "cell_type": "code",
   "execution_count": null,
   "id": "515fe47d-eafe-4815-bd90-78ffaefd5cdf",
   "metadata": {},
   "outputs": [],
   "source": []
  },
  {
   "cell_type": "code",
   "execution_count": null,
   "id": "3dc26b59-0e7d-4569-9e22-b8171900e65c",
   "metadata": {},
   "outputs": [],
   "source": []
  },
  {
   "cell_type": "code",
   "execution_count": null,
   "id": "5fab67e9-f1c4-4dbf-8787-eab567416cf8",
   "metadata": {},
   "outputs": [],
   "source": []
  }
 ],
 "metadata": {
  "kernelspec": {
   "display_name": "Python 3 (ipykernel)",
   "language": "python",
   "name": "python3"
  },
  "language_info": {
   "codemirror_mode": {
    "name": "ipython",
    "version": 3
   },
   "file_extension": ".py",
   "mimetype": "text/x-python",
   "name": "python",
   "nbconvert_exporter": "python",
   "pygments_lexer": "ipython3",
   "version": "3.8.18"
  }
 },
 "nbformat": 4,
 "nbformat_minor": 5
}
