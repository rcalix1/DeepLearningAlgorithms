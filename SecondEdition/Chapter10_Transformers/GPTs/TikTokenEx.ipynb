{
 "cells": [
  {
   "cell_type": "markdown",
   "id": "c3ebe591-f450-45d3-836a-190a71a137bf",
   "metadata": {},
   "source": [
    "\n",
    "## Tiktoken\n"
   ]
  },
  {
   "cell_type": "code",
   "execution_count": 3,
   "id": "fbfc7906-8024-42ab-921b-66d235ef0d68",
   "metadata": {},
   "outputs": [],
   "source": [
    "\n",
    "## !pip install tiktoken\n"
   ]
  },
  {
   "cell_type": "code",
   "execution_count": 4,
   "id": "461119b1-b46d-49a8-a3dc-a8784f0d4aa8",
   "metadata": {},
   "outputs": [],
   "source": [
    "\n",
    "import tiktoken\n"
   ]
  },
  {
   "cell_type": "code",
   "execution_count": 15,
   "id": "b3065daf-728a-45ca-968f-b745911a7904",
   "metadata": {},
   "outputs": [],
   "source": [
    "\n",
    "tokenizer = tiktoken.get_encoding(\"gpt2\")\n"
   ]
  },
  {
   "cell_type": "code",
   "execution_count": 7,
   "id": "ee03d313-ed91-44e2-899e-16b3e8a71aa7",
   "metadata": {},
   "outputs": [],
   "source": [
    "\n",
    "text = (\n",
    "    \"Hello, do you like tea?\"\n",
    ")\n"
   ]
  },
  {
   "cell_type": "code",
   "execution_count": 8,
   "id": "81f67f8a-dcf6-4555-8a7b-9d645061ff4e",
   "metadata": {},
   "outputs": [],
   "source": [
    "\n",
    "integers = tokenizer.encode( text )\n"
   ]
  },
  {
   "cell_type": "code",
   "execution_count": 9,
   "id": "2f1c39cd-3ba2-42de-a84f-7ccbf0386a72",
   "metadata": {},
   "outputs": [
    {
     "data": {
      "text/plain": [
       "[15496, 11, 466, 345, 588, 8887, 30]"
      ]
     },
     "execution_count": 9,
     "metadata": {},
     "output_type": "execute_result"
    }
   ],
   "source": [
    "\n",
    "integers\n"
   ]
  },
  {
   "cell_type": "code",
   "execution_count": null,
   "id": "7bb371c9-40d3-42dc-8820-e32296dc008e",
   "metadata": {},
   "outputs": [],
   "source": []
  },
  {
   "cell_type": "code",
   "execution_count": 10,
   "id": "cbe47c16-2baf-4c3c-8c9b-6b0b3d68ff4b",
   "metadata": {},
   "outputs": [],
   "source": [
    "\n",
    "strings = tokenizer.decode( integers )\n"
   ]
  },
  {
   "cell_type": "code",
   "execution_count": 11,
   "id": "ef3ad745-7b45-4247-9cb8-30b6d8b06640",
   "metadata": {},
   "outputs": [
    {
     "data": {
      "text/plain": [
       "'Hello, do you like tea?'"
      ]
     },
     "execution_count": 11,
     "metadata": {},
     "output_type": "execute_result"
    }
   ],
   "source": [
    "\n",
    "strings\n"
   ]
  },
  {
   "cell_type": "code",
   "execution_count": null,
   "id": "ac2b2177-0189-4796-b872-7bdd0f05415d",
   "metadata": {},
   "outputs": [],
   "source": []
  },
  {
   "cell_type": "code",
   "execution_count": null,
   "id": "178ace7a-fdb1-4629-b961-8f2a154fef94",
   "metadata": {},
   "outputs": [],
   "source": []
  },
  {
   "cell_type": "code",
   "execution_count": null,
   "id": "d75722c3-eee2-41e7-a292-43dabc2bd12c",
   "metadata": {},
   "outputs": [],
   "source": []
  },
  {
   "cell_type": "code",
   "execution_count": null,
   "id": "20606753-774d-450c-928d-225f90d9ca27",
   "metadata": {},
   "outputs": [],
   "source": []
  },
  {
   "cell_type": "code",
   "execution_count": null,
   "id": "f71c8d7a-19e2-4709-9256-7e345578af8d",
   "metadata": {},
   "outputs": [],
   "source": []
  },
  {
   "cell_type": "code",
   "execution_count": null,
   "id": "cc2ab6b7-1f85-4407-b058-a5b76adce271",
   "metadata": {},
   "outputs": [],
   "source": []
  }
 ],
 "metadata": {
  "kernelspec": {
   "display_name": "Python 3 (ipykernel)",
   "language": "python",
   "name": "python3"
  },
  "language_info": {
   "codemirror_mode": {
    "name": "ipython",
    "version": 3
   },
   "file_extension": ".py",
   "mimetype": "text/x-python",
   "name": "python",
   "nbconvert_exporter": "python",
   "pygments_lexer": "ipython3",
   "version": "3.8.19"
  }
 },
 "nbformat": 4,
 "nbformat_minor": 5
}
