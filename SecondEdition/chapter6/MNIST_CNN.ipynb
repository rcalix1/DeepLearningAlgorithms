{
 "cells": [
  {
   "cell_type": "markdown",
   "id": "16134476",
   "metadata": {},
   "source": [
    "\n",
    "## MNIST CNN\n"
   ]
  },
  {
   "cell_type": "code",
   "execution_count": 1,
   "id": "33575f1a",
   "metadata": {},
   "outputs": [],
   "source": [
    "\n",
    "## !pip install torchvision\n"
   ]
  },
  {
   "cell_type": "code",
   "execution_count": 2,
   "id": "8bfb14b3",
   "metadata": {},
   "outputs": [],
   "source": [
    "\n",
    "import torch\n",
    "import numpy as np\n",
    "import os\n",
    "\n",
    "from torchvision import datasets\n",
    "from torchvision import transforms\n",
    "\n",
    "import matplotlib.pyplot as plt\n",
    "\n",
    "from PIL import Image\n"
   ]
  },
  {
   "cell_type": "code",
   "execution_count": 3,
   "id": "31a76f7f",
   "metadata": {},
   "outputs": [],
   "source": [
    "\n",
    "from sklearn.metrics import confusion_matrix\n",
    "from sklearn.metrics import precision_score, recall_score, accuracy_score, f1_score\n"
   ]
  },
  {
   "cell_type": "code",
   "execution_count": 4,
   "id": "45af1781",
   "metadata": {},
   "outputs": [],
   "source": [
    "\n",
    "import torch.optim as optim \n",
    "import torch.nn as nn\n"
   ]
  },
  {
   "cell_type": "markdown",
   "id": "16a360ff",
   "metadata": {},
   "source": [
    "\n",
    "## Parameters\n"
   ]
  },
  {
   "cell_type": "code",
   "execution_count": 5,
   "id": "6fd74c3f",
   "metadata": {},
   "outputs": [],
   "source": [
    "\n",
    "learning_rate = 0.003\n",
    "N_Epochs      = 20\n",
    "batch_size    = 32\n"
   ]
  },
  {
   "cell_type": "markdown",
   "id": "66dbdfe2",
   "metadata": {},
   "source": [
    "\n",
    "## Get the data\n"
   ]
  },
  {
   "cell_type": "code",
   "execution_count": 6,
   "id": "069fab82",
   "metadata": {},
   "outputs": [],
   "source": [
    "\n",
    "data_path = \"data/MNISTdata/\"\n",
    "\n",
    "\n",
    "mnist_train=datasets.MNIST(data_path, train=True, download=True)\n"
   ]
  },
  {
   "cell_type": "code",
   "execution_count": 7,
   "id": "75fd3f8f",
   "metadata": {},
   "outputs": [],
   "source": [
    "\n",
    "mnist_test=datasets.MNIST(data_path, train=False, download=True)\n"
   ]
  },
  {
   "cell_type": "code",
   "execution_count": 8,
   "id": "7b9cfd04",
   "metadata": {},
   "outputs": [],
   "source": [
    "\n",
    "mnist_train_tr = datasets.MNIST(data_path, train=True, download=False, \n",
    "                                            transform=transforms.Compose([\n",
    "                                                transforms.ToTensor()\n",
    "                                            ]))\n",
    "mnist_test_tr  = datasets.MNIST(data_path, train=False, download=False, \n",
    "                                            transform=transforms.Compose([\n",
    "                                                transforms.ToTensor()\n",
    "                                            ]))\n"
   ]
  },
  {
   "cell_type": "markdown",
   "id": "c9d9883c",
   "metadata": {},
   "source": [
    "\n",
    "## Display image\n"
   ]
  },
  {
   "cell_type": "code",
   "execution_count": 9,
   "id": "f73c867c",
   "metadata": {},
   "outputs": [
    {
     "data": {
      "image/png": "[encoded data removed]",
      "text/plain": [
       "<PIL.Image.Image image mode=L size=28x28>"
      ]
     },
     "execution_count": 9,
     "metadata": {},
     "output_type": "execute_result"
    }
   ],
   "source": [
    "\n",
    "Image.fromarray(  mnist_test_tr.data[123].numpy()  ) \n",
    "        "
   ]
  },
  {
   "cell_type": "code",
   "execution_count": 10,
   "id": "6bb107a8",
   "metadata": {},
   "outputs": [
    {
     "data": {
      "text/plain": [
       "torch.Size([60000, 28, 28])"
      ]
     },
     "execution_count": 10,
     "metadata": {},
     "output_type": "execute_result"
    }
   ],
   "source": [
    "\n",
    "## mnist_train_tr.data = mnist_train_tr.data.view(60000, 1, 28, 28)\n",
    "\n",
    "mnist_train_tr.data.shape\n"
   ]
  },
  {
   "cell_type": "markdown",
   "id": "925ae723",
   "metadata": {},
   "source": [
    "\n",
    "## Create Data Loaders\n"
   ]
  },
  {
   "cell_type": "code",
   "execution_count": 11,
   "id": "4056fc6d",
   "metadata": {},
   "outputs": [
    {
     "data": {
      "text/plain": [
       "torch.Size([60000, 28, 28])"
      ]
     },
     "execution_count": 11,
     "metadata": {},
     "output_type": "execute_result"
    }
   ],
   "source": [
    "\n",
    "mnist_train_tr.data.shape\n"
   ]
  },
  {
   "cell_type": "code",
   "execution_count": 12,
   "id": "92f7aa73",
   "metadata": {},
   "outputs": [
    {
     "data": {
      "text/plain": [
       "torch.Size([10000, 28, 28])"
      ]
     },
     "execution_count": 12,
     "metadata": {},
     "output_type": "execute_result"
    }
   ],
   "source": [
    "\n",
    "mnist_test_tr.data.shape\n"
   ]
  },
  {
   "cell_type": "code",
   "execution_count": 13,
   "id": "9d325511",
   "metadata": {},
   "outputs": [],
   "source": [
    "\n",
    "batch_size = 32\n",
    "\n",
    "train_dl  = torch.utils.data.DataLoader(mnist_train_tr, batch_size=batch_size, shuffle=True  ) \n",
    "test_dl   = torch.utils.data.DataLoader(mnist_test_tr,  batch_size=10000,      shuffle=False ) \n"
   ]
  },
  {
   "cell_type": "code",
   "execution_count": 14,
   "id": "148382c2",
   "metadata": {},
   "outputs": [],
   "source": [
    "\n",
    "def print_metrics_function(y_test, y_pred):\n",
    "    print('Accuracy: %.2f' % accuracy_score(y_test, y_pred))\n",
    "    confmat = confusion_matrix(y_true=y_test, y_pred=y_pred)\n",
    "    print(\"Confusion Matrix:\")\n",
    "    print(confmat)\n",
    "    print('Precision: %.3f' % precision_score(y_true=y_test, y_pred=y_pred, average='weighted'))\n",
    "    print('Recall: %.3f' % recall_score(y_true=y_test, y_pred=y_pred, average='weighted'))\n",
    "    f1_measure = f1_score(y_true=y_test, y_pred=y_pred, average='weighted')\n",
    "    print('F1-mesure: %.3f' % f1_measure)\n",
    "    return f1_measure\n"
   ]
  },
  {
   "cell_type": "markdown",
   "id": "72fe2dde",
   "metadata": {},
   "source": [
    "\n",
    "## CNN architecture\n"
   ]
  },
  {
   "cell_type": "code",
   "execution_count": 15,
   "id": "2e6229d9",
   "metadata": {},
   "outputs": [],
   "source": [
    "\n",
    "class View(nn.Module):\n",
    "    def __init__(self, shape):\n",
    "        super().__init__()\n",
    "        self.shape = shape,             ## the comma is needed \n",
    "        \n",
    "    def forward(self, x):\n",
    "        return x.view(*self.shape)\n"
   ]
  },
  {
   "cell_type": "code",
   "execution_count": 16,
   "id": "d3ece733",
   "metadata": {},
   "outputs": [],
   "source": [
    "\n",
    "class Classifier_CNN(nn.Module):\n",
    "    \n",
    "    def __init__(self):\n",
    "        \n",
    "        super().__init__()\n",
    "            \n",
    "        self.model = nn.Sequential(\n",
    "                \n",
    "                ## Convolitional Layer 1\n",
    "                nn.Conv2d(1, 16, kernel_size=5, stride=1, padding=1),\n",
    "                nn.ReLU(),\n",
    "                nn.MaxPool2d(2, 2), \n",
    " \n",
    "                ## Convolutional Layer 2\n",
    "                nn.Conv2d(16, 32, kernel_size=5, stride=1, padding=1),\n",
    "                nn.ReLU(),\n",
    "                nn.MaxPool2d(2, 2),   \n",
    " \n",
    "                ## feed forward layer \n",
    "                nn.Flatten(),\n",
    "                nn.Linear(800, 512),    ## see how to get 800 below on last cell\n",
    "                nn.ReLU(),\n",
    "\n",
    "                nn.Linear(512, 10),\n",
    "                nn.LogSoftmax(dim=1)\n",
    "        )\n",
    " \n",
    " \n",
    "           \n",
    "    def forward(self, inputs):\n",
    "            \n",
    "        return self.model(inputs)\n",
    "    \n",
    "    \n"
   ]
  },
  {
   "cell_type": "code",
   "execution_count": 17,
   "id": "3dba8e84",
   "metadata": {},
   "outputs": [],
   "source": [
    "\n",
    "def training_loop( N_Epochs, model, loss_fn, opt  ):\n",
    "    \n",
    "    losses_list = []\n",
    "    \n",
    "    for epoch in range(N_Epochs):\n",
    "        for xb, yb in train_dl:\n",
    "            \n",
    "            ## print( xb.shape )   ## check this comes out [N, 1, 28, 28]\n",
    "            ## yb = torch.squeeze(yb, dim=1)\n",
    "            \n",
    "            y_pred = model(xb)\n",
    "            loss   = loss_fn(y_pred, yb)\n",
    "       \n",
    "            opt.zero_grad()\n",
    "            loss.backward()\n",
    "            opt.step()\n",
    "            \n",
    "        if epoch % 1 == 0:\n",
    "            print(epoch, \"loss=\", loss)\n",
    "            losses_list.append(  loss  )\n",
    "            \n",
    "    return losses_list\n",
    "\n",
    "\n"
   ]
  },
  {
   "cell_type": "code",
   "execution_count": 36,
   "id": "f17f9f2c",
   "metadata": {},
   "outputs": [
    {
     "name": "stdout",
     "output_type": "stream",
     "text": [
      "0 loss= tensor(0.0035, grad_fn=<NllLossBackward0>)\n",
      "1 loss= tensor(0.0191, grad_fn=<NllLossBackward0>)\n",
      "2 loss= tensor(0.0094, grad_fn=<NllLossBackward0>)\n",
      "3 loss= tensor(0.0857, grad_fn=<NllLossBackward0>)\n",
      "4 loss= tensor(0.0012, grad_fn=<NllLossBackward0>)\n",
      "5 loss= tensor(0.0007, grad_fn=<NllLossBackward0>)\n",
      "6 loss= tensor(1.3709e-06, grad_fn=<NllLossBackward0>)\n",
      "7 loss= tensor(0., grad_fn=<NllLossBackward0>)\n",
      "8 loss= tensor(0.0128, grad_fn=<NllLossBackward0>)\n",
      "9 loss= tensor(0.0200, grad_fn=<NllLossBackward0>)\n",
      "10 loss= tensor(0.0070, grad_fn=<NllLossBackward0>)\n",
      "11 loss= tensor(0.0022, grad_fn=<NllLossBackward0>)\n",
      "12 loss= tensor(5.8149e-06, grad_fn=<NllLossBackward0>)\n",
      "13 loss= tensor(2.6077e-08, grad_fn=<NllLossBackward0>)\n",
      "14 loss= tensor(3.3155e-07, grad_fn=<NllLossBackward0>)\n",
      "15 loss= tensor(3.7253e-09, grad_fn=<NllLossBackward0>)\n",
      "16 loss= tensor(6.4162e-05, grad_fn=<NllLossBackward0>)\n",
      "17 loss= tensor(0.0002, grad_fn=<NllLossBackward0>)\n",
      "18 loss= tensor(0.2447, grad_fn=<NllLossBackward0>)\n",
      "19 loss= tensor(0.0643, grad_fn=<NllLossBackward0>)\n"
     ]
    }
   ],
   "source": [
    "\n",
    "model          = Classifier_CNN()\n",
    "\n",
    "opt            = torch.optim.Adam(    model.parameters(), lr=learning_rate )\n",
    "\n",
    "loss_fn        = nn.CrossEntropyLoss( )   \n",
    "\n",
    "my_losses_list = training_loop(  N_Epochs, model, loss_fn, opt  )\n"
   ]
  },
  {
   "cell_type": "markdown",
   "id": "ca27beae",
   "metadata": {},
   "source": [
    "\n",
    "## Predict and evaluate with trained model on test set\n"
   ]
  },
  {
   "cell_type": "code",
   "execution_count": 37,
   "id": "86c248be",
   "metadata": {},
   "outputs": [
    {
     "name": "stdout",
     "output_type": "stream",
     "text": [
      "Accuracy: 0.99\n",
      "Confusion Matrix:\n",
      "[[ 974    0    1    2    0    0    2    1    0    0]\n",
      " [   0 1130    1    2    0    0    1    1    0    0]\n",
      " [   0    1 1024    0    1    0    1    1    4    0]\n",
      " [   0    0    2 1000    0    3    0    0    3    2]\n",
      " [   0    1    0    0  974    0    1    0    3    3]\n",
      " [   0    1    0    7    0  880    1    2    1    0]\n",
      " [   4    3    0    0    0    3  945    0    3    0]\n",
      " [   0    1   11    1    2    0    0 1011    0    2]\n",
      " [   0    0    0    1    0    1    0    2  968    2]\n",
      " [   2    1    0    0    8    1    0    8    4  985]]\n",
      "Precision: 0.989\n",
      "Recall: 0.989\n",
      "F1-mesure: 0.989\n"
     ]
    }
   ],
   "source": [
    "\n",
    "with torch.no_grad():\n",
    "    for x_real, y_real in test_dl:\n",
    "        \n",
    "        y_pred = model(  x_real  )\n",
    "        \n",
    "        vals, indeces = torch.max( y_pred, dim=1  )\n",
    "        preds = indeces\n",
    "        print_metrics_function(y_real, preds)\n",
    "   \n"
   ]
  },
  {
   "cell_type": "markdown",
   "id": "2b842f90",
   "metadata": {},
   "source": [
    "\n",
    "## Figuring out the convolution maths for your model\n"
   ]
  },
  {
   "cell_type": "code",
   "execution_count": 18,
   "id": "850b8ce7",
   "metadata": {},
   "outputs": [],
   "source": [
    "\n",
    "N_batches = 1\n"
   ]
  },
  {
   "cell_type": "code",
   "execution_count": 19,
   "id": "5b2edc35",
   "metadata": {},
   "outputs": [
    {
     "data": {
      "text/plain": [
       "torch.Size([1, 1, 28, 28])"
      ]
     },
     "execution_count": 19,
     "metadata": {},
     "output_type": "execute_result"
    }
   ],
   "source": [
    "\n",
    "my_tensor_test = torch.randn(N_batches , 1, 28,  28)\n",
    "\n",
    "my_tensor_test.shape\n"
   ]
  },
  {
   "cell_type": "code",
   "execution_count": 20,
   "id": "fa44e2d0",
   "metadata": {},
   "outputs": [
    {
     "data": {
      "text/plain": [
       "torch.Size([1, 16, 12, 12])"
      ]
     },
     "execution_count": 20,
     "metadata": {},
     "output_type": "execute_result"
    }
   ],
   "source": [
    "\n",
    "maths_conv1 = nn.Conv2d( 1, 16, kernel_size=5, stride=2)\n",
    "\n",
    "res_conv1 = maths_conv1(my_tensor_test)\n",
    "\n",
    "res_conv1.shape\n"
   ]
  },
  {
   "cell_type": "code",
   "execution_count": 21,
   "id": "81059d5e",
   "metadata": {},
   "outputs": [
    {
     "data": {
      "text/plain": [
       "torch.Size([1, 32, 4, 4])"
      ]
     },
     "execution_count": 21,
     "metadata": {},
     "output_type": "execute_result"
    }
   ],
   "source": [
    "\n",
    "maths_conv2 = nn.Conv2d( 16, 32, kernel_size=5, stride=2)\n",
    "res_conv2 = maths_conv2(res_conv1)\n",
    "res_conv2.shape\n"
   ]
  },
  {
   "cell_type": "code",
   "execution_count": 22,
   "id": "539e84d7",
   "metadata": {},
   "outputs": [
    {
     "data": {
      "text/plain": [
       "torch.Size([1, 512])"
      ]
     },
     "execution_count": 22,
     "metadata": {},
     "output_type": "execute_result"
    }
   ],
   "source": [
    "\n",
    "reshape_res = res_conv2.view(   (N_batches , -1)  )\n",
    "reshape_res.shape\n"
   ]
  },
  {
   "cell_type": "markdown",
   "id": "249eff67",
   "metadata": {},
   "source": [
    "\n",
    "## Use conv2d and maxpool with large dataset \n"
   ]
  },
  {
   "cell_type": "code",
   "execution_count": 23,
   "id": "f5ad2493",
   "metadata": {},
   "outputs": [],
   "source": [
    "\n",
    "large_maths_model =  nn.Sequential(\n",
    "            \n",
    "              ## Convolution layer 1\n",
    "              nn.Conv2d(3, 16, kernel_size=5, stride=2),\n",
    "              nn.LeakyReLU(0.2),\n",
    "              nn.BatchNorm2d(16),\n",
    "              nn.MaxPool2d(2, 2),\n",
    "              nn.Dropout(0.25),\n",
    "      \n",
    "              ## Convolution layer2\n",
    "              nn.Conv2d(16, 32, kernel_size=5, stride=2),\n",
    "              nn.LeakyReLU(0.2),\n",
    "              nn.BatchNorm2d(32),\n",
    "              nn.MaxPool2d(2, 2),\n",
    "              nn.Dropout(0.25),\n",
    "        \n",
    "        )\n"
   ]
  },
  {
   "cell_type": "code",
   "execution_count": 24,
   "id": "a63bf711",
   "metadata": {},
   "outputs": [],
   "source": [
    "\n",
    "N_batches = 10\n"
   ]
  },
  {
   "cell_type": "code",
   "execution_count": 25,
   "id": "a2caec32",
   "metadata": {},
   "outputs": [
    {
     "data": {
      "text/plain": [
       "torch.Size([10, 32, 15, 15])"
      ]
     },
     "execution_count": 25,
     "metadata": {},
     "output_type": "execute_result"
    }
   ],
   "source": [
    "\n",
    "large_my_tensor_test   = torch.randn(N_batches, 3, 256,  256)\n",
    "\n",
    "large_res_actual_model = large_maths_model(  large_my_tensor_test   )\n",
    "\n",
    "large_res_actual_model.shape\n"
   ]
  },
  {
   "cell_type": "code",
   "execution_count": 26,
   "id": "3080e9ba",
   "metadata": {},
   "outputs": [
    {
     "data": {
      "text/plain": [
       "torch.Size([10, 7200])"
      ]
     },
     "execution_count": 26,
     "metadata": {},
     "output_type": "execute_result"
    }
   ],
   "source": [
    "\n",
    "large_res_actual_model.view(   (N_batches, -1)  ).shape\n",
    "\n"
   ]
  },
  {
   "cell_type": "markdown",
   "id": "a5bfbcaf",
   "metadata": {},
   "source": [
    "\n",
    "## Another example\n"
   ]
  },
  {
   "cell_type": "code",
   "execution_count": 27,
   "id": "4382d07d",
   "metadata": {},
   "outputs": [],
   "source": [
    "\n",
    "maths_model =  nn.Sequential(\n",
    "            \n",
    "              ## Convolution layer 1\n",
    "              nn.Conv2d(1, 16, kernel_size=5, stride=2),\n",
    "              nn.LeakyReLU(0.2),\n",
    "              nn.BatchNorm2d(16),\n",
    "              nn.Dropout(0.25),\n",
    "      \n",
    "              ## Convolution layer2\n",
    "              nn.Conv2d(16, 32, kernel_size=5, stride=2),\n",
    "              nn.LeakyReLU(0.2),\n",
    "              nn.BatchNorm2d(32),\n",
    "              nn.Dropout(0.25),\n",
    "        \n",
    "        )\n"
   ]
  },
  {
   "cell_type": "code",
   "execution_count": 28,
   "id": "95f7c639",
   "metadata": {},
   "outputs": [],
   "source": [
    "\n",
    "N_batches = 10\n"
   ]
  },
  {
   "cell_type": "code",
   "execution_count": 29,
   "id": "04802e22",
   "metadata": {},
   "outputs": [
    {
     "data": {
      "text/plain": [
       "torch.Size([10, 32, 4, 4])"
      ]
     },
     "execution_count": 29,
     "metadata": {},
     "output_type": "execute_result"
    }
   ],
   "source": [
    "\n",
    "my_tensor_test   = torch.randn(N_batches, 1, 28,  28)\n",
    "\n",
    "res_actual_model = maths_model(  my_tensor_test   )\n",
    "\n",
    "res_actual_model.shape\n",
    "\n"
   ]
  },
  {
   "cell_type": "code",
   "execution_count": 30,
   "id": "f4c97bce",
   "metadata": {},
   "outputs": [
    {
     "data": {
      "text/plain": [
       "torch.Size([10, 512])"
      ]
     },
     "execution_count": 30,
     "metadata": {},
     "output_type": "execute_result"
    }
   ],
   "source": [
    "\n",
    "res_actual_model.view(   (N_batches, -1)  ).shape\n"
   ]
  },
  {
   "cell_type": "markdown",
   "id": "70675441",
   "metadata": {},
   "source": [
    "\n",
    "## Now, for this problem\n"
   ]
  },
  {
   "cell_type": "code",
   "execution_count": 31,
   "id": "d6880233",
   "metadata": {},
   "outputs": [],
   "source": [
    "\n",
    "N_batches = 10\n"
   ]
  },
  {
   "cell_type": "code",
   "execution_count": 32,
   "id": "f3ac7eb8",
   "metadata": {},
   "outputs": [],
   "source": [
    "\n",
    "model_rc = nn.Sequential(\n",
    "                    \n",
    "              \n",
    "                \n",
    "                ## Convolitional Layer 1\n",
    "                nn.Conv2d(1, 16, kernel_size=5, stride=1, padding=1),\n",
    "                nn.ReLU(),\n",
    "                nn.MaxPool2d(2, 2),     \n",
    " \n",
    "                ## Convolutional Layer\n",
    "                nn.Conv2d(16, 32, kernel_size=5, stride=1, padding=1),\n",
    "                nn.ReLU(),\n",
    "                nn.MaxPool2d(2, 2),     \n",
    "    \n",
    "                nn.Flatten()\n",
    ")\n"
   ]
  },
  {
   "cell_type": "code",
   "execution_count": 33,
   "id": "52058b89",
   "metadata": {},
   "outputs": [
    {
     "name": "stdout",
     "output_type": "stream",
     "text": [
      "torch.Size([32, 1, 28, 28])\n"
     ]
    }
   ],
   "source": [
    "\n",
    "for xb, yb in train_dl:\n",
    "    \n",
    "    print( xb.shape )         ## Dataloader converted from [32, 28, 28] to [32, 1, 28, 28]\n",
    "    break\n"
   ]
  },
  {
   "cell_type": "code",
   "execution_count": 34,
   "id": "ec18f05c",
   "metadata": {},
   "outputs": [
    {
     "data": {
      "text/plain": [
       "torch.Size([10, 800])"
      ]
     },
     "execution_count": 34,
     "metadata": {},
     "output_type": "execute_result"
    }
   ],
   "source": [
    "\n",
    "my_tensor_test   = torch.randn(N_batches, 1, 28,  28)\n",
    "\n",
    "res_actual_model = model_rc(  my_tensor_test   )\n",
    "\n",
    "res_actual_model.shape\n"
   ]
  },
  {
   "cell_type": "code",
   "execution_count": 35,
   "id": "60472cdc",
   "metadata": {},
   "outputs": [
    {
     "data": {
      "text/plain": [
       "torch.Size([10, 800])"
      ]
     },
     "execution_count": 35,
     "metadata": {},
     "output_type": "execute_result"
    }
   ],
   "source": [
    "\n",
    "res_actual_model.view(   (N_batches, -1)  ).shape\n"
   ]
  },
  {
   "cell_type": "markdown",
   "id": "0832d29c",
   "metadata": {},
   "source": [
    "\n",
    "\n"
   ]
  },
  {
   "cell_type": "code",
   "execution_count": null,
   "id": "5974da82",
   "metadata": {},
   "outputs": [],
   "source": []
  },
  {
   "cell_type": "code",
   "execution_count": null,
   "id": "4d511ab6",
   "metadata": {},
   "outputs": [],
   "source": []
  },
  {
   "cell_type": "code",
   "execution_count": null,
   "id": "bee3b84a",
   "metadata": {},
   "outputs": [],
   "source": []
  },
  {
   "cell_type": "code",
   "execution_count": null,
   "id": "ea9d7d83",
   "metadata": {},
   "outputs": [],
   "source": []
  },
  {
   "cell_type": "code",
   "execution_count": null,
   "id": "91ffc727",
   "metadata": {},
   "outputs": [],
   "source": []
  },
  {
   "cell_type": "code",
   "execution_count": null,
   "id": "a95e5e9b",
   "metadata": {},
   "outputs": [],
   "source": []
  },
  {
   "cell_type": "code",
   "execution_count": null,
   "id": "b2b09597",
   "metadata": {},
   "outputs": [],
   "source": []
  },
  {
   "cell_type": "code",
   "execution_count": null,
   "id": "2903f4c6",
   "metadata": {},
   "outputs": [],
   "source": []
  },
  {
   "cell_type": "code",
   "execution_count": null,
   "id": "048b62ad",
   "metadata": {},
   "outputs": [],
   "source": []
  },
  {
   "cell_type": "code",
   "execution_count": null,
   "id": "9164f833",
   "metadata": {},
   "outputs": [],
   "source": []
  }
 ],
 "metadata": {
  "kernelspec": {
   "display_name": "Python 3 (ipykernel)",
   "language": "python",
   "name": "python3"
  },
  "language_info": {
   "codemirror_mode": {
    "name": "ipython",
    "version": 3
   },
   "file_extension": ".py",
   "mimetype": "text/x-python",
   "name": "python",
   "nbconvert_exporter": "python",
   "pygments_lexer": "ipython3",
   "version": "3.7.16"
  }
 },
 "nbformat": 4,
 "nbformat_minor": 5
}
