{
 "cells": [
  {
   "cell_type": "code",
   "execution_count": 1,
   "metadata": {},
   "outputs": [],
   "source": [
    "\n",
    "import os\n",
    "import torch\n",
    "import imageio\n",
    "import torchvision\n",
    "\n",
    "from torch.utils.data import Dataset\n",
    "\n",
    "from torchvision import transforms\n",
    "\n",
    "from sklearn.model_selection import train_test_split\n",
    "\n",
    "from PIL import Image\n",
    "\n",
    "import torchvision.transforms as T\n",
    "\n",
    "import matplotlib.pyplot as plt\n",
    "import numpy as np\n",
    "\n",
    "\n"
   ]
  },
  {
   "cell_type": "code",
   "execution_count": 2,
   "metadata": {},
   "outputs": [],
   "source": [
    "\n",
    "## !pip install imageio\n",
    "## !pip install torchvision\n"
   ]
  },
  {
   "cell_type": "markdown",
   "metadata": {},
   "source": [
    "\n",
    "## CNNs for CIFAR10\n",
    "\n",
    "* https://rcalix1.github.io/DeepLearningAlgorithms/SecondEdition/chapter6_CNNs/index.html\n",
    "\n",
    "## Load and save torch model checkpoints\n",
    "\n",
    "* https://pytorch.org/tutorials/beginner/saving_loading_models.html\n",
    "\n",
    "## Data\n",
    "\n",
    "* Data: https://github.com/YoongiKim/CIFAR-10-images/tree/master\n"
   ]
  },
  {
   "cell_type": "code",
   "execution_count": 3,
   "metadata": {},
   "outputs": [],
   "source": [
    "\n",
    "import torch.nn as nn\n",
    "import torch.nn.functional as F\n",
    "import torch.optim as optim\n"
   ]
  },
  {
   "cell_type": "code",
   "execution_count": 4,
   "metadata": {},
   "outputs": [],
   "source": [
    "\n",
    "from sklearn.metrics import confusion_matrix\n",
    "from sklearn.metrics import precision_score, recall_score, accuracy_score, f1_score\n"
   ]
  },
  {
   "cell_type": "code",
   "execution_count": 5,
   "metadata": {},
   "outputs": [],
   "source": [
    "\n",
    "## !pip install torchvision\n"
   ]
  },
  {
   "cell_type": "code",
   "execution_count": 6,
   "metadata": {},
   "outputs": [
    {
     "data": {
      "text/plain": [
       "True"
      ]
     },
     "execution_count": 6,
     "metadata": {},
     "output_type": "execute_result"
    }
   ],
   "source": [
    "\n",
    "torch.cuda.is_available()\n"
   ]
  },
  {
   "cell_type": "code",
   "execution_count": 7,
   "metadata": {},
   "outputs": [
    {
     "data": {
      "text/plain": [
       "1"
      ]
     },
     "execution_count": 7,
     "metadata": {},
     "output_type": "execute_result"
    }
   ],
   "source": [
    "\n",
    "torch.cuda.device_count()\n"
   ]
  },
  {
   "cell_type": "code",
   "execution_count": 8,
   "metadata": {},
   "outputs": [
    {
     "data": {
      "text/plain": [
       "0"
      ]
     },
     "execution_count": 8,
     "metadata": {},
     "output_type": "execute_result"
    }
   ],
   "source": [
    "\n",
    "torch.cuda.current_device()\n"
   ]
  },
  {
   "cell_type": "code",
   "execution_count": 9,
   "metadata": {},
   "outputs": [
    {
     "data": {
      "text/plain": [
       "'NVIDIA GeForce RTX 2080 Ti'"
      ]
     },
     "execution_count": 9,
     "metadata": {},
     "output_type": "execute_result"
    }
   ],
   "source": [
    "\n",
    "torch.cuda.get_device_name(0)\n"
   ]
  },
  {
   "cell_type": "markdown",
   "metadata": {},
   "source": [
    "\n",
    "## Assign device\n"
   ]
  },
  {
   "cell_type": "code",
   "execution_count": 10,
   "metadata": {},
   "outputs": [],
   "source": [
    "\n",
    "torch_device = torch.device(\"cpu\")\n",
    "\n",
    "if torch.cuda.is_available(): \n",
    "    torch_device = torch.device(\"cuda\")\n"
   ]
  },
  {
   "cell_type": "code",
   "execution_count": 11,
   "metadata": {},
   "outputs": [
    {
     "data": {
      "text/plain": [
       "device(type='cuda')"
      ]
     },
     "execution_count": 11,
     "metadata": {},
     "output_type": "execute_result"
    }
   ],
   "source": [
    "\n",
    "torch_device\n"
   ]
  },
  {
   "cell_type": "markdown",
   "metadata": {},
   "source": [
    "\n",
    "## CIFAR10 DATA\n"
   ]
  },
  {
   "cell_type": "code",
   "execution_count": 12,
   "metadata": {},
   "outputs": [],
   "source": [
    "\n",
    "raw_data_train = '/home/maquina1/Desktop/CIFAR-10-images-master/train/'\n",
    "\n",
    "raw_data_test  = '/home/maquina1/Desktop/CIFAR-10-images-master/test/'\n"
   ]
  },
  {
   "cell_type": "markdown",
   "metadata": {},
   "source": [
    "\n",
    "## PATH to checkpoint\n"
   ]
  },
  {
   "cell_type": "code",
   "execution_count": 13,
   "metadata": {},
   "outputs": [],
   "source": [
    "\n",
    "PATH = \"/home/maquina1/Desktop/checkpoints/CNN_model_CIFAR10\"\n"
   ]
  },
  {
   "cell_type": "markdown",
   "metadata": {},
   "source": [
    "\n",
    "## Train data\n"
   ]
  },
  {
   "cell_type": "code",
   "execution_count": 14,
   "metadata": {},
   "outputs": [],
   "source": [
    "\n",
    "dataset_train = []\n",
    "labels_train  = []\n",
    "targets_train = []\n"
   ]
  },
  {
   "cell_type": "code",
   "execution_count": 15,
   "metadata": {},
   "outputs": [
    {
     "name": "stderr",
     "output_type": "stream",
     "text": [
      "/home/maquina1/anaconda3/envs/py37_new_GANs_Torch/lib/python3.7/site-packages/ipykernel_launcher.py:7: DeprecationWarning: Starting with ImageIO v3 the behavior of this function will switch to that of iio.v3.imread. To keep the current behavior (and make this warning disappear) use `import imageio.v2 as imageio` or call `imageio.v2.imread` directly.\n",
      "  import sys\n"
     ]
    }
   ],
   "source": [
    "\n",
    "for folder in os.listdir( raw_data_train ):\n",
    "    ## print(folder)\n",
    "    for image in os.listdir( os.path.join(raw_data_train, folder) ):\n",
    "        if folder not in labels_train:\n",
    "            labels_train.append( folder )\n",
    "        targets_train.append(  labels_train.index(folder)  )\n",
    "        img_arr = imageio.imread(  os.path.join(raw_data_train, folder, image), pilmode=\"RGB\"  )\n",
    "        \n",
    "        img = torch.from_numpy( img_arr ).permute( 2, 0, 1 ).float()\n",
    "        \n",
    "        img /= 255\n",
    "        dataset_train.append(img)\n",
    "        \n",
    "      \n"
   ]
  },
  {
   "cell_type": "code",
   "execution_count": 16,
   "metadata": {},
   "outputs": [
    {
     "data": {
      "text/plain": [
       "10"
      ]
     },
     "execution_count": 16,
     "metadata": {},
     "output_type": "execute_result"
    }
   ],
   "source": [
    "\n",
    "len(labels_train)\n"
   ]
  },
  {
   "cell_type": "code",
   "execution_count": 17,
   "metadata": {},
   "outputs": [
    {
     "data": {
      "text/plain": [
       "50000"
      ]
     },
     "execution_count": 17,
     "metadata": {},
     "output_type": "execute_result"
    }
   ],
   "source": [
    "\n",
    "len( targets_train )\n"
   ]
  },
  {
   "cell_type": "code",
   "execution_count": 18,
   "metadata": {},
   "outputs": [
    {
     "data": {
      "text/plain": [
       "torch.Size([3, 32, 32])"
      ]
     },
     "execution_count": 18,
     "metadata": {},
     "output_type": "execute_result"
    }
   ],
   "source": [
    "\n",
    "dataset_train[3].shape\n"
   ]
  },
  {
   "cell_type": "code",
   "execution_count": 19,
   "metadata": {},
   "outputs": [],
   "source": [
    "\n",
    "data_train    = torch.stack( dataset_train )\n",
    "targets_train = torch.Tensor(  targets_train  ).type(   torch.LongTensor   )\n",
    "\n",
    "torch.save(   (data_train, targets_train, labels_train), \"InClass_CIFAR10_data\"     )\n",
    "\n",
    "## data1, targets1, labels1 = torch.load(\"InClass_CIFAR10_data\")\n"
   ]
  },
  {
   "cell_type": "code",
   "execution_count": 20,
   "metadata": {},
   "outputs": [
    {
     "data": {
      "text/plain": [
       "torch.Size([50000, 3, 32, 32])"
      ]
     },
     "execution_count": 20,
     "metadata": {},
     "output_type": "execute_result"
    }
   ],
   "source": [
    "\n",
    "data_train.shape\n"
   ]
  },
  {
   "cell_type": "code",
   "execution_count": 21,
   "metadata": {},
   "outputs": [
    {
     "data": {
      "text/plain": [
       "torch.Size([50000])"
      ]
     },
     "execution_count": 21,
     "metadata": {},
     "output_type": "execute_result"
    }
   ],
   "source": [
    "\n",
    "targets_train.shape\n"
   ]
  },
  {
   "cell_type": "code",
   "execution_count": 22,
   "metadata": {},
   "outputs": [
    {
     "data": {
      "text/plain": [
       "torch.Size([3, 32, 32])"
      ]
     },
     "execution_count": 22,
     "metadata": {},
     "output_type": "execute_result"
    }
   ],
   "source": [
    "\n",
    "data_train[4].shape\n"
   ]
  },
  {
   "cell_type": "code",
   "execution_count": 23,
   "metadata": {},
   "outputs": [
    {
     "data": {
      "text/plain": [
       "tensor([4, 4, 4, 4, 4, 4, 4, 4, 4, 4, 4, 4, 4, 4, 4, 4, 4, 4, 4, 4, 4, 4, 4, 4,\n",
       "        4, 4, 4, 4, 4, 4, 4, 4, 4, 4, 4, 4, 4, 4, 4, 4, 4, 4, 4, 4, 4, 4, 4, 4,\n",
       "        4, 4, 4, 4, 4, 4, 4, 4, 4, 4, 4, 4, 4, 4, 4, 4, 4, 4, 4, 4, 4, 4, 4, 4,\n",
       "        4, 4, 4, 4, 4, 4, 4, 4, 4, 4, 4, 4, 4, 4, 4, 4, 4, 4, 4, 4, 4, 4, 4, 4,\n",
       "        4, 4, 4, 4, 4, 4, 4, 4, 4, 4, 4, 4, 4, 4, 4, 4, 4, 4, 4, 4, 4, 4, 4, 4,\n",
       "        4, 4, 4, 4, 4, 4, 4, 4, 4, 4, 4, 4, 4, 4, 4, 4, 4, 4, 4, 4, 4, 4, 4, 4,\n",
       "        4, 4, 4, 4, 4, 4, 4, 4, 4, 4, 4, 4, 4, 4, 4, 4, 4, 4, 4, 4, 4, 4, 4, 4,\n",
       "        4, 4, 4, 4, 4, 4, 4, 4, 4, 4, 4, 4, 4, 4, 4, 4, 4, 4, 4, 4, 4, 4, 4, 4,\n",
       "        4, 4, 4, 4, 4, 4, 4, 4, 4, 4, 4, 4, 4, 4, 4, 4, 4, 4, 4, 4, 4, 4, 4, 4,\n",
       "        4, 4, 4, 4, 4, 4, 4, 4, 4, 4, 4, 4, 4, 4, 4, 4, 4, 4, 4, 4, 4, 4, 4, 4,\n",
       "        4, 4, 4, 4, 4, 4, 4, 4, 4, 4, 4, 4, 4, 4, 4, 4, 4, 4, 4, 4, 4, 4, 4, 4,\n",
       "        4, 4, 4, 4, 4, 4, 4, 4, 4, 4, 4, 4, 4, 4, 4, 4, 4, 4, 4, 4, 4, 4, 4, 4,\n",
       "        4, 4, 4, 4, 4, 4, 4, 4, 4, 4, 4, 4, 4, 4, 4, 4, 4, 4, 4, 4, 4, 4, 4, 4,\n",
       "        4, 4, 4, 4, 4, 4, 4, 4, 4, 4, 4, 4, 4, 4, 4, 4, 4, 4, 4, 4, 4, 4, 4, 4,\n",
       "        4, 4, 4, 4, 4, 4, 4, 4, 4, 4, 4, 4, 4, 4, 4, 4, 4, 4, 4, 4, 4, 4, 4, 4,\n",
       "        4, 4, 4, 4, 4, 4, 4, 4, 4, 4, 4, 4, 4, 4, 4, 4, 4, 4, 4, 4, 4, 4, 4, 4,\n",
       "        4, 4, 4, 4, 4, 4, 4, 4, 4, 4, 4, 4, 4, 4, 4, 4, 4, 4, 4, 4, 4, 4, 4, 4,\n",
       "        4, 4, 4, 4, 4, 4, 4, 4, 4, 4, 4, 4, 4, 4, 4, 4, 4, 4, 4, 4, 4, 4, 4, 4,\n",
       "        4, 4, 4, 4, 4, 4, 4, 4, 4, 4, 4, 4, 4, 4, 4, 4, 4, 4, 4, 4, 4, 4, 4, 4,\n",
       "        4, 4, 4, 4, 4, 4, 4, 4, 4, 4, 4, 4, 4, 4, 4, 4, 4, 4, 4, 4, 4, 4, 4, 4,\n",
       "        4, 4, 4, 4, 4, 4, 4, 4, 4, 4, 4, 4, 4, 4, 4, 4, 4, 4, 4, 4, 4, 4, 4, 4,\n",
       "        4, 4, 4, 4, 4, 4, 4, 4, 4, 4, 4, 4, 4, 4, 4, 4, 4, 4, 4, 4, 4, 4, 4, 4,\n",
       "        4, 4, 4, 4, 4, 4, 4, 4, 4, 4, 4, 4, 4, 4, 4, 4, 4, 4, 4, 4, 4, 4, 4, 4,\n",
       "        4, 4, 4, 4, 4, 4, 4, 4, 4, 4, 4, 4, 4, 4, 4, 4, 4, 4, 4, 4, 4, 4, 4, 4,\n",
       "        4, 4, 4, 4, 4, 4, 4, 4, 4, 4, 4, 4, 4, 4, 4, 4, 4, 4, 4, 4, 4, 4, 4, 4,\n",
       "        4, 4, 4, 4, 4, 4, 4, 4, 4, 4, 4, 4, 4, 4, 4, 4, 4, 4, 4, 4, 4, 4, 4, 4,\n",
       "        4, 4, 4, 4, 4, 4, 4, 4, 4, 4, 4, 4, 4, 4, 4, 4, 4, 4, 4, 4, 4, 4, 4, 4,\n",
       "        4, 4, 4, 4, 4, 4, 4, 4, 4, 4, 4, 4, 4, 4, 4, 4, 4, 4, 4, 4, 4, 4, 4, 4,\n",
       "        4, 4, 4, 4, 4, 4, 4, 4, 4, 4, 4, 4, 4, 4, 4, 4, 4, 4, 4, 4, 4, 4, 4, 4,\n",
       "        4, 4, 4, 4, 4, 4, 4, 4, 4, 4, 4, 4, 4, 4, 4, 4, 4, 4, 4, 4, 4, 4, 4, 4,\n",
       "        4, 4, 4, 4, 4, 4, 4, 4, 4, 4, 4, 4, 4, 4, 4, 4, 4, 4, 4, 4, 4, 4, 4, 4,\n",
       "        4, 4, 4, 4, 4, 4, 4, 4, 4, 4, 4, 4, 4, 4, 4, 4, 4, 4, 4, 4, 4, 4, 4, 4,\n",
       "        4, 4, 4, 4, 4, 4, 4, 4, 4, 4, 4, 4, 4, 4, 4, 4, 4, 4, 4, 4, 4, 4, 4, 4,\n",
       "        4, 4, 4, 4, 4, 4, 4, 4, 4, 4, 4, 4, 4, 4, 4, 4, 4, 4, 4, 4, 4, 4, 4, 4,\n",
       "        4, 4, 4, 4, 4, 4, 4, 4, 4, 4, 4, 4, 4, 4, 4, 4, 4, 4, 4, 4, 4, 4, 4, 4,\n",
       "        4, 4, 4, 4, 4, 4, 4, 4, 4, 4, 4, 4, 4, 4, 4, 4, 4, 4, 4, 4, 4, 4, 4, 4,\n",
       "        4, 4, 4, 4, 4, 4, 4, 4, 4, 4, 4, 4, 4, 4, 4, 4, 4, 4, 4, 4, 4, 4, 4, 4,\n",
       "        4, 4, 4, 4, 4, 4, 4, 4, 4, 4, 4, 4, 4, 4, 4, 4, 4, 4, 4, 4, 4, 4, 4, 4,\n",
       "        4, 4, 4, 4, 4, 4, 4, 4, 4, 4, 4, 4, 4, 4, 4, 4, 4, 4, 4, 4, 4, 4, 4, 4,\n",
       "        4, 4, 4, 4, 4, 4, 4, 4, 4, 4, 4, 4, 4, 4, 4, 4, 4, 4, 4, 4, 4, 4, 4, 4,\n",
       "        4, 4, 4, 4, 4, 4, 4, 4, 4, 4, 4, 4, 4, 4, 4, 4, 4, 4, 4, 4, 4, 4, 4, 4,\n",
       "        4, 4, 4, 4, 4, 4, 4, 4, 4, 4, 4, 4, 4, 4, 4, 4])"
      ]
     },
     "execution_count": 23,
     "metadata": {},
     "output_type": "execute_result"
    }
   ],
   "source": [
    "\n",
    "targets_train[24000:25000]\n"
   ]
  },
  {
   "cell_type": "markdown",
   "metadata": {},
   "source": [
    "\n",
    "## Print images\n"
   ]
  },
  {
   "cell_type": "code",
   "execution_count": 24,
   "metadata": {},
   "outputs": [
    {
     "data": {
      "text/plain": [
       "tensor([[[0.2627, 0.2667, 0.2667,  ..., 0.3098, 0.3176, 0.3176],\n",
       "         [0.2863, 0.2863, 0.2902,  ..., 0.3373, 0.3412, 0.3412],\n",
       "         [0.3137, 0.3176, 0.3176,  ..., 0.3647, 0.3725, 0.3725],\n",
       "         ...,\n",
       "         [0.2941, 0.2784, 0.2824,  ..., 0.2824, 0.2824, 0.2784],\n",
       "         [0.2471, 0.2627, 0.2941,  ..., 0.2706, 0.2627, 0.2588],\n",
       "         [0.2863, 0.2863, 0.2824,  ..., 0.2745, 0.2667, 0.2588]],\n",
       "\n",
       "        [[0.5686, 0.5725, 0.5725,  ..., 0.6118, 0.6078, 0.6078],\n",
       "         [0.5843, 0.5843, 0.5882,  ..., 0.6314, 0.6235, 0.6275],\n",
       "         [0.5961, 0.6000, 0.5961,  ..., 0.6510, 0.6471, 0.6471],\n",
       "         ...,\n",
       "         [0.3490, 0.3451, 0.3373,  ..., 0.3529, 0.3529, 0.3490],\n",
       "         [0.3098, 0.3333, 0.3569,  ..., 0.3490, 0.3412, 0.3373],\n",
       "         [0.3569, 0.3569, 0.3529,  ..., 0.3529, 0.3451, 0.3373]],\n",
       "\n",
       "        [[0.8196, 0.8235, 0.8235,  ..., 0.8863, 0.8863, 0.8863],\n",
       "         [0.8275, 0.8275, 0.8314,  ..., 0.8980, 0.9059, 0.8980],\n",
       "         [0.8275, 0.8314, 0.8392,  ..., 0.9176, 0.9216, 0.9176],\n",
       "         ...,\n",
       "         [0.4000, 0.3843, 0.3804,  ..., 0.3922, 0.4000, 0.3961],\n",
       "         [0.3686, 0.3804, 0.4078,  ..., 0.3843, 0.3843, 0.3804],\n",
       "         [0.4118, 0.4118, 0.4000,  ..., 0.3882, 0.3882, 0.3804]]])"
      ]
     },
     "execution_count": 24,
     "metadata": {},
     "output_type": "execute_result"
    }
   ],
   "source": [
    "\n",
    "img_tr = data_train[46000]\n",
    "img_tr\n"
   ]
  },
  {
   "cell_type": "code",
   "execution_count": 25,
   "metadata": {},
   "outputs": [],
   "source": [
    "\n",
    "transform = T.ToPILImage()\n",
    "\n"
   ]
  },
  {
   "cell_type": "code",
   "execution_count": 26,
   "metadata": {},
   "outputs": [],
   "source": [
    "\n",
    "img = transform(  img_tr  )\n"
   ]
  },
  {
   "cell_type": "code",
   "execution_count": 27,
   "metadata": {},
   "outputs": [
    {
     "data": {
      "image/png": "[encoded data removed]",
      "text/plain": [
       "<PIL.Image.Image image mode=RGB size=32x32>"
      ]
     },
     "execution_count": 27,
     "metadata": {},
     "output_type": "execute_result"
    }
   ],
   "source": [
    "\n",
    "img\n"
   ]
  },
  {
   "cell_type": "markdown",
   "metadata": {},
   "source": [
    "\n",
    "## Class balance\n"
   ]
  },
  {
   "cell_type": "code",
   "execution_count": 28,
   "metadata": {},
   "outputs": [
    {
     "data": {
      "text/plain": [
       "array([0, 1, 2, 3, 4, 5, 6, 7, 8, 9])"
      ]
     },
     "execution_count": 28,
     "metadata": {},
     "output_type": "execute_result"
    }
   ],
   "source": [
    "\n",
    "y_train_np = targets_train.numpy() \n",
    "y_train_np.shape\n",
    "\n",
    "the_set = np.unique(  y_train_np  )\n",
    "the_set\n"
   ]
  },
  {
   "cell_type": "code",
   "execution_count": 29,
   "metadata": {},
   "outputs": [
    {
     "data": {
      "image/png": "[encoded data removed]",
      "text/plain": [
       "<Figure size 640x480 with 1 Axes>"
      ]
     },
     "metadata": {},
     "output_type": "display_data"
    }
   ],
   "source": [
    "\n",
    "_ = plt.hist( targets_train.numpy() , bins=\"auto\" )\n",
    "plt.show()\n"
   ]
  },
  {
   "cell_type": "markdown",
   "metadata": {},
   "source": [
    "\n",
    "## Test Data\n"
   ]
  },
  {
   "cell_type": "code",
   "execution_count": 30,
   "metadata": {},
   "outputs": [],
   "source": [
    "\n",
    "dataset_test = []\n",
    "labels_test = []\n",
    "targets_test = []\n"
   ]
  },
  {
   "cell_type": "code",
   "execution_count": 31,
   "metadata": {},
   "outputs": [
    {
     "name": "stderr",
     "output_type": "stream",
     "text": [
      "/home/maquina1/anaconda3/envs/py37_new_GANs_Torch/lib/python3.7/site-packages/ipykernel_launcher.py:7: DeprecationWarning: Starting with ImageIO v3 the behavior of this function will switch to that of iio.v3.imread. To keep the current behavior (and make this warning disappear) use `import imageio.v2 as imageio` or call `imageio.v2.imread` directly.\n",
      "  import sys\n"
     ]
    }
   ],
   "source": [
    "\n",
    "for folder in os.listdir( raw_data_test ):\n",
    "    ## print(folder)\n",
    "    for image in os.listdir( os.path.join(raw_data_test, folder) ):\n",
    "        if folder not in labels_test:\n",
    "            labels_test.append( folder )\n",
    "        targets_test.append(  labels_test.index(folder)  )\n",
    "        img_arr = imageio.imread(  os.path.join(raw_data_test, folder, image), pilmode=\"RGB\"  )\n",
    "        \n",
    "        img = torch.from_numpy( img_arr ).permute( 2, 0, 1 ).float()\n",
    "        \n",
    "        img /= 255\n",
    "        dataset_test.append(img)\n"
   ]
  },
  {
   "cell_type": "code",
   "execution_count": 32,
   "metadata": {},
   "outputs": [],
   "source": [
    "\n",
    "data_test   = torch.stack( dataset_test )\n",
    "targets_test = torch.Tensor(  targets_test  ).type(   torch.LongTensor   )\n",
    "\n",
    "torch.save(   (data_test, targets_test, labels_test), \"InClass_CIFAR10_data_test\"     )\n",
    "\n",
    "## data1, targets1, labels1 = torch.load(\"InClass_CIFAR10_data\")\n"
   ]
  },
  {
   "cell_type": "code",
   "execution_count": 33,
   "metadata": {},
   "outputs": [
    {
     "data": {
      "text/plain": [
       "torch.Size([10000, 3, 32, 32])"
      ]
     },
     "execution_count": 33,
     "metadata": {},
     "output_type": "execute_result"
    }
   ],
   "source": [
    "\n",
    "data_test.shape\n"
   ]
  },
  {
   "cell_type": "code",
   "execution_count": 34,
   "metadata": {},
   "outputs": [
    {
     "data": {
      "text/plain": [
       "torch.Size([10000])"
      ]
     },
     "execution_count": 34,
     "metadata": {},
     "output_type": "execute_result"
    }
   ],
   "source": [
    "\n",
    "targets_test.shape\n"
   ]
  },
  {
   "cell_type": "code",
   "execution_count": 35,
   "metadata": {},
   "outputs": [
    {
     "data": {
      "image/png": "[encoded data removed]",
      "text/plain": [
       "<Figure size 640x480 with 1 Axes>"
      ]
     },
     "metadata": {},
     "output_type": "display_data"
    }
   ],
   "source": [
    "\n",
    "_ = plt.hist( targets_test.numpy() , bins=\"auto\" )\n",
    "plt.show()\n"
   ]
  },
  {
   "cell_type": "code",
   "execution_count": 36,
   "metadata": {},
   "outputs": [],
   "source": [
    "\n",
    "X_train = data_train  \n",
    "y_train = targets_train\n"
   ]
  },
  {
   "cell_type": "code",
   "execution_count": 37,
   "metadata": {},
   "outputs": [],
   "source": [
    "\n",
    "X_test = data_test  \n",
    "y_test = targets_test \n"
   ]
  },
  {
   "cell_type": "markdown",
   "metadata": {},
   "source": [
    "\n",
    "## Change to float 32\n"
   ]
  },
  {
   "cell_type": "code",
   "execution_count": 38,
   "metadata": {},
   "outputs": [],
   "source": [
    "\n",
    "X_train = X_train.numpy()\n",
    "X_test  = X_test.numpy()\n"
   ]
  },
  {
   "cell_type": "code",
   "execution_count": 39,
   "metadata": {},
   "outputs": [],
   "source": [
    "\n",
    "X_train = X_train.astype(  np.float32  )\n",
    "X_test  = X_test.astype(   np.float32  )\n"
   ]
  },
  {
   "cell_type": "code",
   "execution_count": 40,
   "metadata": {},
   "outputs": [],
   "source": [
    "\n",
    "X_train = torch.from_numpy(X_train )\n",
    "X_test = torch.from_numpy( X_test  )\n"
   ]
  },
  {
   "cell_type": "markdown",
   "metadata": {},
   "source": [
    "\n",
    "## Normalize\n"
   ]
  },
  {
   "cell_type": "code",
   "execution_count": 41,
   "metadata": {},
   "outputs": [],
   "source": [
    "\n",
    "img_norm_mean = (0.5, 0.5, 0.5)\n"
   ]
  },
  {
   "cell_type": "code",
   "execution_count": 42,
   "metadata": {},
   "outputs": [],
   "source": [
    "\n",
    "img_norm_std = (0.5, 0.5, 0.5)\n"
   ]
  },
  {
   "cell_type": "code",
   "execution_count": 43,
   "metadata": {},
   "outputs": [],
   "source": [
    "\n",
    "other_normalization = transforms.Compose([\n",
    "                            ## transforms.ToTensor(),\n",
    "                            transforms.Normalize( img_norm_mean, img_norm_std )\n",
    "])\n"
   ]
  },
  {
   "cell_type": "code",
   "execution_count": 44,
   "metadata": {},
   "outputs": [],
   "source": [
    "\n",
    "preprocess = transforms.Compose([\n",
    "                 transforms.Resize(256),\n",
    "                 transforms.CenterCrop(224),\n",
    "                 transforms.ToTensor()\n",
    "])\n"
   ]
  },
  {
   "cell_type": "code",
   "execution_count": 45,
   "metadata": {},
   "outputs": [],
   "source": [
    "\n",
    "X_train = other_normalization( X_train )  \n",
    "\n",
    "X_test  = other_normalization( X_test ) \n"
   ]
  },
  {
   "cell_type": "markdown",
   "metadata": {},
   "source": [
    "\n",
    "## Print shapes\n"
   ]
  },
  {
   "cell_type": "code",
   "execution_count": 46,
   "metadata": {},
   "outputs": [
    {
     "data": {
      "text/plain": [
       "50000"
      ]
     },
     "execution_count": 46,
     "metadata": {},
     "output_type": "execute_result"
    }
   ],
   "source": [
    "\n",
    "X_train.shape[0]\n"
   ]
  },
  {
   "cell_type": "code",
   "execution_count": 47,
   "metadata": {},
   "outputs": [
    {
     "data": {
      "text/plain": [
       "int"
      ]
     },
     "execution_count": 47,
     "metadata": {},
     "output_type": "execute_result"
    }
   ],
   "source": [
    "\n",
    "y_train[30000].item()\n",
    "type(y_train[30000].item())\n"
   ]
  },
  {
   "cell_type": "code",
   "execution_count": 48,
   "metadata": {},
   "outputs": [
    {
     "data": {
      "text/plain": [
       "6"
      ]
     },
     "execution_count": 48,
     "metadata": {},
     "output_type": "execute_result"
    }
   ],
   "source": [
    "\n",
    "y_train[30000].item()\n"
   ]
  },
  {
   "cell_type": "code",
   "execution_count": 49,
   "metadata": {},
   "outputs": [
    {
     "data": {
      "text/plain": [
       "tensor([[[-0.2392, -0.2314, -0.2314,  ..., -0.1216, -0.1294, -0.1451],\n",
       "         [-0.2706, -0.2000, -0.1451,  ..., -0.1059, -0.1059, -0.1216],\n",
       "         [-0.2549, -0.1608, -0.0902,  ..., -0.0667, -0.0902, -0.1216],\n",
       "         ...,\n",
       "         [ 0.0039,  0.2784,  0.0431,  ..., -0.2706, -0.3647, -0.2157],\n",
       "         [ 0.0510,  0.0824,  0.1451,  ..., -0.3333, -0.4667, -0.3569],\n",
       "         [ 0.1843,  0.0980, -0.2784,  ..., -0.5059, -0.3804, -0.4039]],\n",
       "\n",
       "        [[-0.1608, -0.1529, -0.1529,  ..., -0.0588, -0.0902, -0.0980],\n",
       "         [-0.1922, -0.1137, -0.0667,  ..., -0.0431, -0.0667, -0.0745],\n",
       "         [-0.1843, -0.0902, -0.0196,  ...,  0.0118, -0.0275, -0.0588],\n",
       "         ...,\n",
       "         [-0.0039,  0.2706,  0.0353,  ..., -0.1373, -0.2392, -0.0902],\n",
       "         [ 0.0196,  0.0510,  0.1373,  ..., -0.2078, -0.3412, -0.2157],\n",
       "         [ 0.1529,  0.0667, -0.2863,  ..., -0.3804, -0.2392, -0.2627]],\n",
       "\n",
       "        [[-0.0902, -0.0824, -0.0824,  ..., -0.0431, -0.0667, -0.0980],\n",
       "         [-0.1216, -0.0667,  0.0039,  ..., -0.0196, -0.0431, -0.0745],\n",
       "         [-0.1294, -0.0510,  0.0353,  ...,  0.0275, -0.0039, -0.0431],\n",
       "         ...,\n",
       "         [-0.0196,  0.2549,  0.0196,  ..., -0.0588, -0.1373,  0.0118],\n",
       "         [ 0.0275,  0.0588,  0.1216,  ..., -0.1059, -0.2235, -0.1059],\n",
       "         [ 0.1608,  0.0745, -0.3020,  ..., -0.2784, -0.1294, -0.1529]]])"
      ]
     },
     "execution_count": 49,
     "metadata": {},
     "output_type": "execute_result"
    }
   ],
   "source": [
    "\n",
    " X_train[78]\n"
   ]
  },
  {
   "cell_type": "code",
   "execution_count": 50,
   "metadata": {},
   "outputs": [],
   "source": [
    "\n",
    " CIFAR_train_list = [  ( X_train[i],  y_train[i].item() )  for i in range( X_train.shape[0]   )  ]\n"
   ]
  },
  {
   "cell_type": "code",
   "execution_count": 51,
   "metadata": {},
   "outputs": [],
   "source": [
    "\n",
    " CIFAR_test_list = [  ( X_test[i],  y_test[i].item() )  for i in range( X_test.shape[0]   )  ]\n"
   ]
  },
  {
   "cell_type": "markdown",
   "metadata": {},
   "source": [
    "\n",
    "## DataLoader\n"
   ]
  },
  {
   "cell_type": "code",
   "execution_count": 52,
   "metadata": {},
   "outputs": [],
   "source": [
    "\n",
    "batch_size = 64  ## 16\n"
   ]
  },
  {
   "cell_type": "code",
   "execution_count": 53,
   "metadata": {},
   "outputs": [],
   "source": [
    "\n",
    "train_dl = torch.utils.data.DataLoader( CIFAR_train_list, batch_size=batch_size, shuffle=True  )\n"
   ]
  },
  {
   "cell_type": "code",
   "execution_count": 54,
   "metadata": {},
   "outputs": [],
   "source": [
    "\n",
    "test_dl = torch.utils.data.DataLoader( CIFAR_test_list, batch_size=10000, shuffle=True  )\n"
   ]
  },
  {
   "cell_type": "markdown",
   "metadata": {},
   "source": [
    "\n",
    "## Residual Networks\n"
   ]
  },
  {
   "cell_type": "code",
   "execution_count": 55,
   "metadata": {},
   "outputs": [],
   "source": [
    "\n",
    "# 3x3 convolution\n",
    "def conv3x3(in_channels, out_channels, stride=1):\n",
    "    return nn.Conv2d(in_channels, out_channels, kernel_size=3, \n",
    "                     stride=stride, padding=1, bias=False)\n"
   ]
  },
  {
   "cell_type": "code",
   "execution_count": 56,
   "metadata": {},
   "outputs": [],
   "source": [
    "\n",
    "# Residual block\n",
    "class ResidualBlock(nn.Module):\n",
    "    def __init__(self, in_channels, out_channels, stride=1, downsample=None):\n",
    "        super(ResidualBlock, self).__init__()\n",
    "        self.conv1 = conv3x3(in_channels, out_channels, stride)\n",
    "        self.bn1 = nn.BatchNorm2d(out_channels)\n",
    "        self.relu = nn.ReLU(inplace=True)\n",
    "        self.conv2 = conv3x3(out_channels, out_channels)\n",
    "        self.bn2 = nn.BatchNorm2d(out_channels)\n",
    "        self.downsample = downsample\n",
    "\n",
    "    def forward(self, x):\n",
    "        residual = x\n",
    "        out = self.conv1(x)\n",
    "        out = self.bn1(out)\n",
    "        out = self.relu(out)\n",
    "        out = self.conv2(out)\n",
    "        out = self.bn2(out)\n",
    "        if self.downsample:\n",
    "            residual = self.downsample(x)\n",
    "        out += residual\n",
    "        out = self.relu(out)\n",
    "        return out\n"
   ]
  },
  {
   "cell_type": "code",
   "execution_count": 57,
   "metadata": {},
   "outputs": [],
   "source": [
    "\n",
    "\n",
    "\n",
    "# ResNet\n",
    "class MyResNet(nn.Module):\n",
    "    def __init__(self, block, layers, num_classes=10):\n",
    "        super(MyResNet, self).__init__()\n",
    "        self.in_channels = 16\n",
    "        self.conv = conv3x3(3, 16)\n",
    "        self.bn = nn.BatchNorm2d(16)\n",
    "        self.relu = nn.ReLU(inplace=True)\n",
    "        self.layer1 = self.make_layer(block, 16, layers[0])\n",
    "        self.layer2 = self.make_layer(block, 32, layers[1], 2)\n",
    "        self.layer3 = self.make_layer(block, 64, layers[2], 2)\n",
    "        self.avg_pool = nn.AvgPool2d(8)\n",
    "        self.fc = nn.Linear(64, num_classes)\n",
    "\n",
    "    def make_layer(self, block, out_channels, blocks, stride=1):\n",
    "        downsample = None\n",
    "        if (stride != 1) or (self.in_channels != out_channels):\n",
    "            downsample = nn.Sequential(\n",
    "                conv3x3(self.in_channels, out_channels, stride=stride),\n",
    "                nn.BatchNorm2d(out_channels))\n",
    "        layers = []\n",
    "        layers.append(block(self.in_channels, out_channels, stride, downsample))\n",
    "        self.in_channels = out_channels\n",
    "        for i in range(1, blocks):\n",
    "            layers.append(block(out_channels, out_channels))\n",
    "        return nn.Sequential(*layers)\n",
    "\n",
    "    def forward(self, x):\n",
    "        out = self.conv(x)\n",
    "        out = self.bn(out)\n",
    "        out = self.relu(out)\n",
    "        out = self.layer1(out)\n",
    "        out = self.layer2(out)\n",
    "        out = self.layer3(out)\n",
    "        out = self.avg_pool(out)\n",
    "        out = out.view(out.size(0), -1)\n",
    "        out = self.fc(out)\n",
    "        return out\n",
    "\n",
    "\n",
    "\n"
   ]
  },
  {
   "cell_type": "code",
   "execution_count": null,
   "metadata": {},
   "outputs": [],
   "source": []
  },
  {
   "cell_type": "markdown",
   "metadata": {},
   "source": [
    "\n",
    "## Architectures\n"
   ]
  },
  {
   "cell_type": "code",
   "execution_count": 58,
   "metadata": {},
   "outputs": [
    {
     "data": {
      "text/plain": [
       "3072"
      ]
     },
     "execution_count": 58,
     "metadata": {},
     "output_type": "execute_result"
    }
   ],
   "source": [
    "\n",
    "32*32*3\n"
   ]
  },
  {
   "cell_type": "code",
   "execution_count": 59,
   "metadata": {},
   "outputs": [],
   "source": [
    "\n",
    "class DL_3h_net(nn.Module):\n",
    "    ## init the class\n",
    "    def __init__(self):\n",
    "        super().__init__()\n",
    "        \n",
    "        self.linear1 = nn.Linear( 32*32*3 , 200)\n",
    "        self.act1    = nn.ReLU()\n",
    "        \n",
    "        self.linear2 = nn.Linear(200 , 100)\n",
    "        self.act2   = nn.ReLU()\n",
    "        \n",
    "        self.linear3 = nn.Linear( 100 ,50)\n",
    "        self.act3    = nn.ReLU()\n",
    "        \n",
    "        self.linear4 = nn.Linear(50 , 10)\n",
    "        self.act4    = nn.Softmax(dim=1)\n",
    "        \n",
    "        ## self.norm    = nn.LayerNorm()\n",
    "        \n",
    "    ## perform inference\n",
    "    def forward(self, x):\n",
    "        \n",
    "        x            = self.linear1(x)\n",
    "        x            = self.act1(x)\n",
    "        x            = self.linear2(x)\n",
    "        x            = self.act2(x)\n",
    "        x            = self.linear3(x)\n",
    "        x            = self.act3(x)\n",
    "      \n",
    "        x            = self.linear4(x)\n",
    "        y_pred       = self.act4(x)\n",
    "        \n",
    "        return y_pred\n"
   ]
  },
  {
   "cell_type": "code",
   "execution_count": 60,
   "metadata": {},
   "outputs": [],
   "source": [
    "\n",
    "class CNN_net(nn.Module):\n",
    "    ## init the class\n",
    "    def __init__(self):\n",
    "        super().__init__()\n",
    "        \n",
    "        self.model = nn.Sequential(\n",
    "            \n",
    "            ## conv layer 1\n",
    "            nn.Conv2d(3, 16, kernel_size=5, stride=1, padding=1  ),\n",
    "            nn.LeakyReLU(),\n",
    "            nn.BatchNorm2d(16),\n",
    "            nn.MaxPool2d(2, 2), \n",
    "            nn.Dropout(0.2),\n",
    "            \n",
    "            ## conv layer 2\n",
    "            nn.Conv2d(16, 32, kernel_size=5, stride=1, padding=1  ),\n",
    "            nn.LeakyReLU(),\n",
    "            nn.BatchNorm2d(32),\n",
    "            nn.MaxPool2d(2, 2), \n",
    "            nn.Dropout(0.2),\n",
    "            \n",
    "            ## conv layer 2\n",
    "            nn.Conv2d(32, 32, kernel_size=5, stride=1, padding=1  ),\n",
    "            nn.LeakyReLU(),\n",
    "            nn.BatchNorm2d(32),\n",
    "            nn.MaxPool2d(2, 2), \n",
    "            nn.Dropout(0.2),\n",
    "              \n",
    "            ## FeedForward\n",
    "            \n",
    "            nn.Flatten(),\n",
    "            nn.Linear( 128 , 512),\n",
    "            nn.LeakyReLU(),\n",
    "            nn.Dropout(0.2),\n",
    "            \n",
    "            nn.Linear(512, 10),\n",
    "            nn.Softmax(dim=1)        ## nn.LogSoftmax()\n",
    "            \n",
    "        \n",
    "        )\n",
    "        \n",
    "    ## perform inference\n",
    "    def forward(self, x):\n",
    "        \n",
    "        y_pred = self.model( x  )\n",
    "       \n",
    "        \n",
    "        return y_pred\n",
    "\n"
   ]
  },
  {
   "cell_type": "code",
   "execution_count": 61,
   "metadata": {},
   "outputs": [],
   "source": [
    "\n",
    "class View(nn.Module):\n",
    "    def __init__(self, shape):\n",
    "        super().__init__()\n",
    "        # self.shape = shape,\n",
    "        self.shape = shape\n",
    "        \n",
    "    def forward(self, x):\n",
    "        return x.view(*self.shape)\n"
   ]
  },
  {
   "cell_type": "code",
   "execution_count": 62,
   "metadata": {},
   "outputs": [],
   "source": [
    "\n",
    "  \n",
    "class CNN_net_DH(nn.Module):\n",
    "    ## init the class\n",
    "    def __init__(self):\n",
    "        super().__init__()\n",
    "        \n",
    "        self.model = nn.Sequential(\n",
    "            nn.Conv2d(3, 32, 3),\n",
    "            ## nn.Conv2d(32, 32, 3),\n",
    "            nn.LeakyReLU(),\n",
    "            nn.MaxPool2d(2, 2),\n",
    "            nn.Dropout(0.25),\n",
    "            \n",
    "            nn.Conv2d(32, 64, 3),\n",
    "            nn.LeakyReLU(),\n",
    "            nn.MaxPool2d(2, 2),\n",
    "            nn.Dropout(0.25),\n",
    "            \n",
    "            nn.Conv2d(64, 128, 3, padding=2),\n",
    "            nn.LeakyReLU(),\n",
    "            nn.MaxPool2d(2, 2),\n",
    "            nn.Dropout(0.25),\n",
    "            \n",
    "            nn.Conv2d(128, 256, 3),\n",
    "            nn.LeakyReLU(),\n",
    "            nn.MaxPool2d(2, 2),\n",
    "            nn.Dropout(0.25),\n",
    "            \n",
    "            View((-1, 256)),\n",
    "            \n",
    "            nn.Linear(256, 128),\n",
    "            nn.LeakyReLU(),\n",
    "            nn.Dropout(0.25),\n",
    "            \n",
    "            nn.Linear(128, 64),\n",
    "            nn.LeakyReLU(),\n",
    "            nn.Dropout(0.25),\n",
    "            \n",
    "            nn.Linear(64, 10) # Output 10 classes\n",
    "            ## nn.Softmax(dim=1)        ## nn.LogSoftmax()\n",
    "        )\n",
    "        \n",
    "            \n",
    "     \n",
    "    ## perform inference\n",
    "    def forward(self, x):\n",
    "        \n",
    "        y_pred = self.model( x  )\n",
    "       \n",
    "        \n",
    "        return y_pred\n",
    "\n",
    "        \n"
   ]
  },
  {
   "cell_type": "code",
   "execution_count": 63,
   "metadata": {},
   "outputs": [],
   "source": [
    "\n",
    "class MLP_net(nn.Module):\n",
    "    ## init the class\n",
    "    def __init__(self):\n",
    "        super().__init__()\n",
    "        \n",
    "        self.linear1 = nn.Linear( 32*32*3 ,20)\n",
    "        self.act1    = nn.LeakyReLU()\n",
    "        self.linear2 = nn.Linear(20 , 10)\n",
    "        self.act2    = nn.Softmax(dim=1)\n",
    "        \n",
    "        self.norm    = nn.LayerNorm()\n",
    "        self.dropout = nn.Dropout(0.2)\n",
    "        \n",
    "        \n",
    "    ## perform inference\n",
    "    def forward(self, x):\n",
    "        \n",
    "        x            = self.linear1(x)\n",
    "        x            = self.act1(x)\n",
    "        x            = self.norm(x)\n",
    "        x            = self.dropout(x)\n",
    "        \n",
    "        x            = self.linear2(x)\n",
    "        y_pred       = self.act2(x)\n",
    "        \n",
    "        return y_pred\n"
   ]
  },
  {
   "cell_type": "code",
   "execution_count": 64,
   "metadata": {},
   "outputs": [],
   "source": [
    "\n",
    "def training_loop( N_Epochs, model, loss_fn, opt ):\n",
    "    for epoch in range(N_Epochs):\n",
    "        for xb, yb in train_dl:\n",
    "            \n",
    "            ## xb = xb.view(  (16, -1 ) )\n",
    "            \n",
    "            xb = xb.to( torch_device )\n",
    "            yb = yb.to( torch_device )\n",
    "            \n",
    "            y_pred = model(xb)\n",
    "            \n",
    "            loss = loss_fn(y_pred, yb)\n",
    "            \n",
    "            opt.zero_grad()\n",
    "            loss.backward()\n",
    "            opt.step()\n",
    "        \n",
    "        if epoch % 5 == 0:\n",
    "            print(epoch, \"loss=\", loss)\n",
    "            new_PATH = PATH + str(epoch)\n",
    "            print( new_PATH )\n",
    "            torch.save(model, new_PATH)\n"
   ]
  },
  {
   "cell_type": "code",
   "execution_count": 65,
   "metadata": {},
   "outputs": [],
   "source": [
    "\n",
    "## torch.save(model, PATH)\n",
    "\n",
    "\n"
   ]
  },
  {
   "cell_type": "markdown",
   "metadata": {},
   "source": [
    "\n",
    "## Core functions\n"
   ]
  },
  {
   "cell_type": "code",
   "execution_count": 66,
   "metadata": {},
   "outputs": [],
   "source": [
    "\n",
    "N_Epochs      = 500\n",
    "learning_rate = 0.001\n"
   ]
  },
  {
   "cell_type": "code",
   "execution_count": 67,
   "metadata": {},
   "outputs": [],
   "source": [
    "\n",
    "## model = MLP_net()\n",
    "## model =  DL_3h_net()\n",
    "\n",
    "## model = CNN_net()\n",
    "\n",
    "## model = CNN_net_DH()\n",
    "## model.to( torch_device )\n",
    "\n",
    "model = MyResNet(ResidualBlock, [2, 2, 2]).to( torch_device )\n",
    "\n",
    "\n",
    "opt = torch.optim.SGD(  model.parameters(), lr=learning_rate,  momentum=0.9, weight_decay=0.001 )\n",
    "\n",
    "loss_fn = nn.CrossEntropyLoss()\n"
   ]
  },
  {
   "cell_type": "code",
   "execution_count": 68,
   "metadata": {},
   "outputs": [
    {
     "name": "stdout",
     "output_type": "stream",
     "text": [
      "0 loss= tensor(1.1995, device='cuda:0', grad_fn=<NllLossBackward0>)\n",
      "/home/maquina1/Desktop/checkpoints/CNN_model_CIFAR100\n",
      "5 loss= tensor(1.0590, device='cuda:0', grad_fn=<NllLossBackward0>)\n",
      "/home/maquina1/Desktop/checkpoints/CNN_model_CIFAR105\n",
      "10 loss= tensor(0.8869, device='cuda:0', grad_fn=<NllLossBackward0>)\n",
      "/home/maquina1/Desktop/checkpoints/CNN_model_CIFAR1010\n",
      "15 loss= tensor(0.7998, device='cuda:0', grad_fn=<NllLossBackward0>)\n",
      "/home/maquina1/Desktop/checkpoints/CNN_model_CIFAR1015\n",
      "20 loss= tensor(0.4471, device='cuda:0', grad_fn=<NllLossBackward0>)\n",
      "/home/maquina1/Desktop/checkpoints/CNN_model_CIFAR1020\n",
      "25 loss= tensor(0.1421, device='cuda:0', grad_fn=<NllLossBackward0>)\n",
      "/home/maquina1/Desktop/checkpoints/CNN_model_CIFAR1025\n",
      "30 loss= tensor(0.2160, device='cuda:0', grad_fn=<NllLossBackward0>)\n",
      "/home/maquina1/Desktop/checkpoints/CNN_model_CIFAR1030\n",
      "35 loss= tensor(0.0592, device='cuda:0', grad_fn=<NllLossBackward0>)\n",
      "/home/maquina1/Desktop/checkpoints/CNN_model_CIFAR1035\n",
      "40 loss= tensor(0.0987, device='cuda:0', grad_fn=<NllLossBackward0>)\n",
      "/home/maquina1/Desktop/checkpoints/CNN_model_CIFAR1040\n",
      "45 loss= tensor(0.0158, device='cuda:0', grad_fn=<NllLossBackward0>)\n",
      "/home/maquina1/Desktop/checkpoints/CNN_model_CIFAR1045\n",
      "50 loss= tensor(0.1967, device='cuda:0', grad_fn=<NllLossBackward0>)\n",
      "/home/maquina1/Desktop/checkpoints/CNN_model_CIFAR1050\n",
      "55 loss= tensor(0.2521, device='cuda:0', grad_fn=<NllLossBackward0>)\n",
      "/home/maquina1/Desktop/checkpoints/CNN_model_CIFAR1055\n",
      "60 loss= tensor(0.1717, device='cuda:0', grad_fn=<NllLossBackward0>)\n",
      "/home/maquina1/Desktop/checkpoints/CNN_model_CIFAR1060\n",
      "65 loss= tensor(0.2199, device='cuda:0', grad_fn=<NllLossBackward0>)\n",
      "/home/maquina1/Desktop/checkpoints/CNN_model_CIFAR1065\n",
      "70 loss= tensor(0.0810, device='cuda:0', grad_fn=<NllLossBackward0>)\n",
      "/home/maquina1/Desktop/checkpoints/CNN_model_CIFAR1070\n",
      "75 loss= tensor(0.0851, device='cuda:0', grad_fn=<NllLossBackward0>)\n",
      "/home/maquina1/Desktop/checkpoints/CNN_model_CIFAR1075\n",
      "80 loss= tensor(0.2182, device='cuda:0', grad_fn=<NllLossBackward0>)\n",
      "/home/maquina1/Desktop/checkpoints/CNN_model_CIFAR1080\n",
      "85 loss= tensor(0.1642, device='cuda:0', grad_fn=<NllLossBackward0>)\n",
      "/home/maquina1/Desktop/checkpoints/CNN_model_CIFAR1085\n",
      "90 loss= tensor(0.0918, device='cuda:0', grad_fn=<NllLossBackward0>)\n",
      "/home/maquina1/Desktop/checkpoints/CNN_model_CIFAR1090\n",
      "95 loss= tensor(0.0359, device='cuda:0', grad_fn=<NllLossBackward0>)\n",
      "/home/maquina1/Desktop/checkpoints/CNN_model_CIFAR1095\n",
      "100 loss= tensor(0.0194, device='cuda:0', grad_fn=<NllLossBackward0>)\n",
      "/home/maquina1/Desktop/checkpoints/CNN_model_CIFAR10100\n",
      "105 loss= tensor(0.3734, device='cuda:0', grad_fn=<NllLossBackward0>)\n",
      "/home/maquina1/Desktop/checkpoints/CNN_model_CIFAR10105\n",
      "110 loss= tensor(0.0994, device='cuda:0', grad_fn=<NllLossBackward0>)\n",
      "/home/maquina1/Desktop/checkpoints/CNN_model_CIFAR10110\n",
      "115 loss= tensor(0.0847, device='cuda:0', grad_fn=<NllLossBackward0>)\n",
      "/home/maquina1/Desktop/checkpoints/CNN_model_CIFAR10115\n",
      "120 loss= tensor(0.0441, device='cuda:0', grad_fn=<NllLossBackward0>)\n",
      "/home/maquina1/Desktop/checkpoints/CNN_model_CIFAR10120\n",
      "125 loss= tensor(0.0356, device='cuda:0', grad_fn=<NllLossBackward0>)\n",
      "/home/maquina1/Desktop/checkpoints/CNN_model_CIFAR10125\n",
      "130 loss= tensor(0.0570, device='cuda:0', grad_fn=<NllLossBackward0>)\n",
      "/home/maquina1/Desktop/checkpoints/CNN_model_CIFAR10130\n",
      "135 loss= tensor(0.1931, device='cuda:0', grad_fn=<NllLossBackward0>)\n",
      "/home/maquina1/Desktop/checkpoints/CNN_model_CIFAR10135\n",
      "140 loss= tensor(0.0865, device='cuda:0', grad_fn=<NllLossBackward0>)\n",
      "/home/maquina1/Desktop/checkpoints/CNN_model_CIFAR10140\n",
      "145 loss= tensor(0.0676, device='cuda:0', grad_fn=<NllLossBackward0>)\n",
      "/home/maquina1/Desktop/checkpoints/CNN_model_CIFAR10145\n",
      "150 loss= tensor(0.0360, device='cuda:0', grad_fn=<NllLossBackward0>)\n",
      "/home/maquina1/Desktop/checkpoints/CNN_model_CIFAR10150\n",
      "155 loss= tensor(0.0292, device='cuda:0', grad_fn=<NllLossBackward0>)\n",
      "/home/maquina1/Desktop/checkpoints/CNN_model_CIFAR10155\n",
      "160 loss= tensor(0.0896, device='cuda:0', grad_fn=<NllLossBackward0>)\n",
      "/home/maquina1/Desktop/checkpoints/CNN_model_CIFAR10160\n",
      "165 loss= tensor(0.0290, device='cuda:0', grad_fn=<NllLossBackward0>)\n",
      "/home/maquina1/Desktop/checkpoints/CNN_model_CIFAR10165\n",
      "170 loss= tensor(0.0303, device='cuda:0', grad_fn=<NllLossBackward0>)\n",
      "/home/maquina1/Desktop/checkpoints/CNN_model_CIFAR10170\n",
      "175 loss= tensor(0.0884, device='cuda:0', grad_fn=<NllLossBackward0>)\n",
      "/home/maquina1/Desktop/checkpoints/CNN_model_CIFAR10175\n",
      "180 loss= tensor(0.2435, device='cuda:0', grad_fn=<NllLossBackward0>)\n",
      "/home/maquina1/Desktop/checkpoints/CNN_model_CIFAR10180\n",
      "185 loss= tensor(0.1333, device='cuda:0', grad_fn=<NllLossBackward0>)\n",
      "/home/maquina1/Desktop/checkpoints/CNN_model_CIFAR10185\n",
      "190 loss= tensor(0.0058, device='cuda:0', grad_fn=<NllLossBackward0>)\n",
      "/home/maquina1/Desktop/checkpoints/CNN_model_CIFAR10190\n",
      "195 loss= tensor(0.1023, device='cuda:0', grad_fn=<NllLossBackward0>)\n",
      "/home/maquina1/Desktop/checkpoints/CNN_model_CIFAR10195\n",
      "200 loss= tensor(0.4992, device='cuda:0', grad_fn=<NllLossBackward0>)\n",
      "/home/maquina1/Desktop/checkpoints/CNN_model_CIFAR10200\n",
      "205 loss= tensor(0.1034, device='cuda:0', grad_fn=<NllLossBackward0>)\n",
      "/home/maquina1/Desktop/checkpoints/CNN_model_CIFAR10205\n",
      "210 loss= tensor(0.0430, device='cuda:0', grad_fn=<NllLossBackward0>)\n",
      "/home/maquina1/Desktop/checkpoints/CNN_model_CIFAR10210\n",
      "215 loss= tensor(0.0350, device='cuda:0', grad_fn=<NllLossBackward0>)\n",
      "/home/maquina1/Desktop/checkpoints/CNN_model_CIFAR10215\n",
      "220 loss= tensor(0.0071, device='cuda:0', grad_fn=<NllLossBackward0>)\n",
      "/home/maquina1/Desktop/checkpoints/CNN_model_CIFAR10220\n",
      "225 loss= tensor(0.3122, device='cuda:0', grad_fn=<NllLossBackward0>)\n",
      "/home/maquina1/Desktop/checkpoints/CNN_model_CIFAR10225\n",
      "230 loss= tensor(0.2150, device='cuda:0', grad_fn=<NllLossBackward0>)\n",
      "/home/maquina1/Desktop/checkpoints/CNN_model_CIFAR10230\n",
      "235 loss= tensor(0.0168, device='cuda:0', grad_fn=<NllLossBackward0>)\n",
      "/home/maquina1/Desktop/checkpoints/CNN_model_CIFAR10235\n",
      "240 loss= tensor(0.0402, device='cuda:0', grad_fn=<NllLossBackward0>)\n",
      "/home/maquina1/Desktop/checkpoints/CNN_model_CIFAR10240\n",
      "245 loss= tensor(0.0130, device='cuda:0', grad_fn=<NllLossBackward0>)\n",
      "/home/maquina1/Desktop/checkpoints/CNN_model_CIFAR10245\n",
      "250 loss= tensor(0.0707, device='cuda:0', grad_fn=<NllLossBackward0>)\n",
      "/home/maquina1/Desktop/checkpoints/CNN_model_CIFAR10250\n",
      "255 loss= tensor(0.0854, device='cuda:0', grad_fn=<NllLossBackward0>)\n",
      "/home/maquina1/Desktop/checkpoints/CNN_model_CIFAR10255\n",
      "260 loss= tensor(0.1668, device='cuda:0', grad_fn=<NllLossBackward0>)\n",
      "/home/maquina1/Desktop/checkpoints/CNN_model_CIFAR10260\n",
      "265 loss= tensor(0.5674, device='cuda:0', grad_fn=<NllLossBackward0>)\n",
      "/home/maquina1/Desktop/checkpoints/CNN_model_CIFAR10265\n",
      "270 loss= tensor(0.0094, device='cuda:0', grad_fn=<NllLossBackward0>)\n",
      "/home/maquina1/Desktop/checkpoints/CNN_model_CIFAR10270\n",
      "275 loss= tensor(0.0052, device='cuda:0', grad_fn=<NllLossBackward0>)\n",
      "/home/maquina1/Desktop/checkpoints/CNN_model_CIFAR10275\n",
      "280 loss= tensor(0.0080, device='cuda:0', grad_fn=<NllLossBackward0>)\n",
      "/home/maquina1/Desktop/checkpoints/CNN_model_CIFAR10280\n",
      "285 loss= tensor(0.0199, device='cuda:0', grad_fn=<NllLossBackward0>)\n",
      "/home/maquina1/Desktop/checkpoints/CNN_model_CIFAR10285\n",
      "290 loss= tensor(0.0063, device='cuda:0', grad_fn=<NllLossBackward0>)\n",
      "/home/maquina1/Desktop/checkpoints/CNN_model_CIFAR10290\n",
      "295 loss= tensor(0.2320, device='cuda:0', grad_fn=<NllLossBackward0>)\n",
      "/home/maquina1/Desktop/checkpoints/CNN_model_CIFAR10295\n",
      "300 loss= tensor(0.0793, device='cuda:0', grad_fn=<NllLossBackward0>)\n",
      "/home/maquina1/Desktop/checkpoints/CNN_model_CIFAR10300\n",
      "305 loss= tensor(0.1422, device='cuda:0', grad_fn=<NllLossBackward0>)\n",
      "/home/maquina1/Desktop/checkpoints/CNN_model_CIFAR10305\n",
      "310 loss= tensor(0.1580, device='cuda:0', grad_fn=<NllLossBackward0>)\n",
      "/home/maquina1/Desktop/checkpoints/CNN_model_CIFAR10310\n",
      "315 loss= tensor(0.0278, device='cuda:0', grad_fn=<NllLossBackward0>)\n",
      "/home/maquina1/Desktop/checkpoints/CNN_model_CIFAR10315\n",
      "320 loss= tensor(0.1902, device='cuda:0', grad_fn=<NllLossBackward0>)\n",
      "/home/maquina1/Desktop/checkpoints/CNN_model_CIFAR10320\n",
      "325 loss= tensor(0.0656, device='cuda:0', grad_fn=<NllLossBackward0>)\n",
      "/home/maquina1/Desktop/checkpoints/CNN_model_CIFAR10325\n"
     ]
    },
    {
     "name": "stdout",
     "output_type": "stream",
     "text": [
      "330 loss= tensor(0.0223, device='cuda:0', grad_fn=<NllLossBackward0>)\n",
      "/home/maquina1/Desktop/checkpoints/CNN_model_CIFAR10330\n",
      "335 loss= tensor(0.0339, device='cuda:0', grad_fn=<NllLossBackward0>)\n",
      "/home/maquina1/Desktop/checkpoints/CNN_model_CIFAR10335\n",
      "340 loss= tensor(0.0365, device='cuda:0', grad_fn=<NllLossBackward0>)\n",
      "/home/maquina1/Desktop/checkpoints/CNN_model_CIFAR10340\n",
      "345 loss= tensor(0.0391, device='cuda:0', grad_fn=<NllLossBackward0>)\n",
      "/home/maquina1/Desktop/checkpoints/CNN_model_CIFAR10345\n",
      "350 loss= tensor(0.0130, device='cuda:0', grad_fn=<NllLossBackward0>)\n",
      "/home/maquina1/Desktop/checkpoints/CNN_model_CIFAR10350\n",
      "355 loss= tensor(0.0182, device='cuda:0', grad_fn=<NllLossBackward0>)\n",
      "/home/maquina1/Desktop/checkpoints/CNN_model_CIFAR10355\n",
      "360 loss= tensor(0.0284, device='cuda:0', grad_fn=<NllLossBackward0>)\n",
      "/home/maquina1/Desktop/checkpoints/CNN_model_CIFAR10360\n",
      "365 loss= tensor(0.4390, device='cuda:0', grad_fn=<NllLossBackward0>)\n",
      "/home/maquina1/Desktop/checkpoints/CNN_model_CIFAR10365\n",
      "370 loss= tensor(0.2277, device='cuda:0', grad_fn=<NllLossBackward0>)\n",
      "/home/maquina1/Desktop/checkpoints/CNN_model_CIFAR10370\n",
      "375 loss= tensor(0.0707, device='cuda:0', grad_fn=<NllLossBackward0>)\n",
      "/home/maquina1/Desktop/checkpoints/CNN_model_CIFAR10375\n",
      "380 loss= tensor(0.0386, device='cuda:0', grad_fn=<NllLossBackward0>)\n",
      "/home/maquina1/Desktop/checkpoints/CNN_model_CIFAR10380\n",
      "385 loss= tensor(0.0872, device='cuda:0', grad_fn=<NllLossBackward0>)\n",
      "/home/maquina1/Desktop/checkpoints/CNN_model_CIFAR10385\n",
      "390 loss= tensor(0.0236, device='cuda:0', grad_fn=<NllLossBackward0>)\n",
      "/home/maquina1/Desktop/checkpoints/CNN_model_CIFAR10390\n",
      "395 loss= tensor(0.1340, device='cuda:0', grad_fn=<NllLossBackward0>)\n",
      "/home/maquina1/Desktop/checkpoints/CNN_model_CIFAR10395\n",
      "400 loss= tensor(0.0267, device='cuda:0', grad_fn=<NllLossBackward0>)\n",
      "/home/maquina1/Desktop/checkpoints/CNN_model_CIFAR10400\n",
      "405 loss= tensor(0.0180, device='cuda:0', grad_fn=<NllLossBackward0>)\n",
      "/home/maquina1/Desktop/checkpoints/CNN_model_CIFAR10405\n",
      "410 loss= tensor(0.3712, device='cuda:0', grad_fn=<NllLossBackward0>)\n",
      "/home/maquina1/Desktop/checkpoints/CNN_model_CIFAR10410\n",
      "415 loss= tensor(0.5106, device='cuda:0', grad_fn=<NllLossBackward0>)\n",
      "/home/maquina1/Desktop/checkpoints/CNN_model_CIFAR10415\n",
      "420 loss= tensor(0.0599, device='cuda:0', grad_fn=<NllLossBackward0>)\n",
      "/home/maquina1/Desktop/checkpoints/CNN_model_CIFAR10420\n",
      "425 loss= tensor(0.0624, device='cuda:0', grad_fn=<NllLossBackward0>)\n",
      "/home/maquina1/Desktop/checkpoints/CNN_model_CIFAR10425\n",
      "430 loss= tensor(0.5151, device='cuda:0', grad_fn=<NllLossBackward0>)\n",
      "/home/maquina1/Desktop/checkpoints/CNN_model_CIFAR10430\n",
      "435 loss= tensor(0.0213, device='cuda:0', grad_fn=<NllLossBackward0>)\n",
      "/home/maquina1/Desktop/checkpoints/CNN_model_CIFAR10435\n",
      "440 loss= tensor(0.1163, device='cuda:0', grad_fn=<NllLossBackward0>)\n",
      "/home/maquina1/Desktop/checkpoints/CNN_model_CIFAR10440\n",
      "445 loss= tensor(0.0340, device='cuda:0', grad_fn=<NllLossBackward0>)\n",
      "/home/maquina1/Desktop/checkpoints/CNN_model_CIFAR10445\n",
      "450 loss= tensor(0.0027, device='cuda:0', grad_fn=<NllLossBackward0>)\n",
      "/home/maquina1/Desktop/checkpoints/CNN_model_CIFAR10450\n",
      "455 loss= tensor(0.0047, device='cuda:0', grad_fn=<NllLossBackward0>)\n",
      "/home/maquina1/Desktop/checkpoints/CNN_model_CIFAR10455\n",
      "460 loss= tensor(0.1582, device='cuda:0', grad_fn=<NllLossBackward0>)\n",
      "/home/maquina1/Desktop/checkpoints/CNN_model_CIFAR10460\n",
      "465 loss= tensor(0.7154, device='cuda:0', grad_fn=<NllLossBackward0>)\n",
      "/home/maquina1/Desktop/checkpoints/CNN_model_CIFAR10465\n",
      "470 loss= tensor(0.0930, device='cuda:0', grad_fn=<NllLossBackward0>)\n",
      "/home/maquina1/Desktop/checkpoints/CNN_model_CIFAR10470\n",
      "475 loss= tensor(0.1738, device='cuda:0', grad_fn=<NllLossBackward0>)\n",
      "/home/maquina1/Desktop/checkpoints/CNN_model_CIFAR10475\n",
      "480 loss= tensor(0.0201, device='cuda:0', grad_fn=<NllLossBackward0>)\n",
      "/home/maquina1/Desktop/checkpoints/CNN_model_CIFAR10480\n",
      "485 loss= tensor(0.0140, device='cuda:0', grad_fn=<NllLossBackward0>)\n",
      "/home/maquina1/Desktop/checkpoints/CNN_model_CIFAR10485\n",
      "490 loss= tensor(0.0152, device='cuda:0', grad_fn=<NllLossBackward0>)\n",
      "/home/maquina1/Desktop/checkpoints/CNN_model_CIFAR10490\n",
      "495 loss= tensor(0.0521, device='cuda:0', grad_fn=<NllLossBackward0>)\n",
      "/home/maquina1/Desktop/checkpoints/CNN_model_CIFAR10495\n"
     ]
    }
   ],
   "source": [
    "\n",
    "training_loop( N_Epochs, model, loss_fn, opt )\n"
   ]
  },
  {
   "cell_type": "code",
   "execution_count": 69,
   "metadata": {},
   "outputs": [],
   "source": [
    "\n",
    "def print_metrics_function(y_test, y_pred):\n",
    "    print('Accuracy: %.2f' % accuracy_score(y_test, y_pred))\n",
    "    confmat = confusion_matrix(y_true=y_test, y_pred=y_pred)\n",
    "    print(\"Confusion Matrix:\")\n",
    "    print(confmat)\n",
    "    print('Precision: %.3f' % precision_score(y_true=y_test, y_pred=y_pred, average='weighted'))\n",
    "    print('Recall: %.3f' % recall_score(y_true=y_test, y_pred=y_pred, average='weighted'))\n",
    "    print('F1-measure: %.3f' % f1_score(y_true=y_test, y_pred=y_pred, average='weighted'))\n"
   ]
  },
  {
   "cell_type": "code",
   "execution_count": 70,
   "metadata": {},
   "outputs": [
    {
     "name": "stdout",
     "output_type": "stream",
     "text": [
      "Accuracy: 0.72\n",
      "Confusion Matrix:\n",
      "[[492  19  72  47 204  13  71  49  10  23]\n",
      " [ 13 831   7   7   6  26   7   5  70  28]\n",
      " [ 92   6 757  11  34  11  33  34   6  16]\n",
      " [ 26   8  12 776  78   8  28  50   4  10]\n",
      " [109   4  37  60 683   5  44  45   6   7]\n",
      " [ 10  29   6   6   5 859  15   4  28  38]\n",
      " [ 69   7  90  36  76  16 565  59   3  79]\n",
      " [ 77   5  76  83  36   9  67 624   3  20]\n",
      " [  6  79   4   1   2  25   2   3 867  11]\n",
      " [ 18  42   8  14   5  90  35  17  11 760]]\n",
      "Precision: 0.719\n",
      "Recall: 0.721\n",
      "F1-measure: 0.719\n"
     ]
    }
   ],
   "source": [
    "\n",
    "with torch.no_grad():\n",
    "    for x_real, y_real in test_dl:\n",
    "        \n",
    "        batch_size = x_real.shape[0]\n",
    "        \n",
    "        ## x_real = x_real.view(  (batch_size, -1 ) )\n",
    "        \n",
    "        x_real = x_real.to( torch_device )\n",
    "        \n",
    "        y_pred = model(  x_real  )\n",
    "        \n",
    "        vals, indeces = torch.max( y_pred, dim=1  )\n",
    "        preds = indeces\n",
    "        print_metrics_function( y_real, preds.cpu() )\n",
    "   \n"
   ]
  },
  {
   "cell_type": "markdown",
   "metadata": {},
   "source": [
    "\n",
    "## From checkpoint\n"
   ]
  },
  {
   "cell_type": "code",
   "execution_count": 72,
   "metadata": {},
   "outputs": [],
   "source": [
    "\n",
    "# Model class must be defined somewhere\n",
    "model2 = torch.load('/home/maquina1/Desktop/checkpoints/CNN_model_CIFAR10495')\n",
    "## model.eval()\n",
    "\n"
   ]
  },
  {
   "cell_type": "code",
   "execution_count": 73,
   "metadata": {},
   "outputs": [
    {
     "name": "stdout",
     "output_type": "stream",
     "text": [
      "Accuracy: 0.76\n",
      "Confusion Matrix:\n",
      "[[560  14  67  46 146   8  66  68   4  21]\n",
      " [ 10 859   5   7   5  18   6   5  61  24]\n",
      " [ 51   1 812   9  28   6  42  34   7  10]\n",
      " [ 38  15   6 790  48   3  33  53   3  11]\n",
      " [143   4  28  58 657   2  47  45   7   9]\n",
      " [ 13  27   5   3   4 872  10   6  23  37]\n",
      " [ 64   9  64  30  42  12 642  78   1  58]\n",
      " [ 63   0  43  55  31  14  56 715   4  19]\n",
      " [  7  53   3   1   4  20   3   3 898   8]\n",
      " [ 19  30   7  16   5  62  57  16   7 781]]\n",
      "Precision: 0.757\n",
      "Recall: 0.759\n",
      "F1-measure: 0.758\n"
     ]
    }
   ],
   "source": [
    "\n",
    "with torch.no_grad():\n",
    "    for x_real, y_real in test_dl:\n",
    "        \n",
    "        batch_size = x_real.shape[0]\n",
    "        \n",
    "        ## x_real = x_real.view(  (batch_size, -1 ) )\n",
    "        \n",
    "        x_real = x_real.to( torch_device )\n",
    "        \n",
    "        y_pred = model2(  x_real  )\n",
    "        \n",
    "        vals, indeces = torch.max( y_pred, dim=1  )\n",
    "        preds = indeces\n",
    "        print_metrics_function(y_real, preds.cpu() )\n"
   ]
  },
  {
   "cell_type": "code",
   "execution_count": null,
   "metadata": {},
   "outputs": [],
   "source": []
  },
  {
   "cell_type": "code",
   "execution_count": null,
   "metadata": {},
   "outputs": [],
   "source": []
  },
  {
   "cell_type": "code",
   "execution_count": null,
   "metadata": {},
   "outputs": [],
   "source": []
  },
  {
   "cell_type": "code",
   "execution_count": null,
   "metadata": {},
   "outputs": [],
   "source": []
  },
  {
   "cell_type": "code",
   "execution_count": null,
   "metadata": {},
   "outputs": [],
   "source": []
  },
  {
   "cell_type": "code",
   "execution_count": null,
   "metadata": {},
   "outputs": [],
   "source": []
  },
  {
   "cell_type": "code",
   "execution_count": null,
   "metadata": {},
   "outputs": [],
   "source": []
  },
  {
   "cell_type": "code",
   "execution_count": 74,
   "metadata": {},
   "outputs": [
    {
     "data": {
      "text/plain": [
       "torch.Size([3072])"
      ]
     },
     "execution_count": 74,
     "metadata": {},
     "output_type": "execute_result"
    }
   ],
   "source": [
    "\n",
    "rc = data_train[4].view((-1))\n",
    "rc.shape\n"
   ]
  },
  {
   "cell_type": "code",
   "execution_count": 75,
   "metadata": {},
   "outputs": [
    {
     "data": {
      "text/plain": [
       "torch.Size([1, 3072])"
      ]
     },
     "execution_count": 75,
     "metadata": {},
     "output_type": "execute_result"
    }
   ],
   "source": [
    "\n",
    "rc = torch.unsqueeze(rc, dim=0)\n",
    "rc.shape\n"
   ]
  },
  {
   "cell_type": "code",
   "execution_count": 76,
   "metadata": {},
   "outputs": [],
   "source": [
    "\n",
    "## example_label = model( rc )\n"
   ]
  },
  {
   "cell_type": "code",
   "execution_count": 77,
   "metadata": {},
   "outputs": [],
   "source": [
    "\n",
    "## example_label\n"
   ]
  },
  {
   "cell_type": "code",
   "execution_count": null,
   "metadata": {},
   "outputs": [],
   "source": []
  },
  {
   "cell_type": "markdown",
   "metadata": {},
   "source": [
    "\n",
    "## Figure out the dimensions of CNN\n"
   ]
  },
  {
   "cell_type": "code",
   "execution_count": 78,
   "metadata": {},
   "outputs": [],
   "source": [
    "\n",
    "N_batches_rc = 16\n"
   ]
  },
  {
   "cell_type": "code",
   "execution_count": 79,
   "metadata": {},
   "outputs": [],
   "source": [
    "'''\n",
    "\n",
    "model_rc = nn.Sequential(\n",
    "            \n",
    "            ## conv layer 1\n",
    "            nn.Conv2d(3, 16, kernel_size=5, stride=1, padding=1  ),\n",
    "            nn.ReLU(),\n",
    "            nn.MaxPool2d(2, 2), \n",
    "            \n",
    "            ## conv layer 2\n",
    "            nn.Conv2d(16, 32, kernel_size=5, stride=1, padding=1  ),\n",
    "            nn.ReLU(),\n",
    "            nn.MaxPool2d(2, 2), \n",
    "              \n",
    "            ## FeedForward\n",
    "            \n",
    "            nn.Flatten()\n",
    "            \n",
    "            \n",
    "        \n",
    "        )\n",
    "        \n",
    "'''\n",
    "\n",
    "\n",
    "model_rc  = nn.Sequential(\n",
    "            \n",
    "            ## conv layer 1\n",
    "            nn.Conv2d(3, 16, kernel_size=5, stride=1, padding=1  ),\n",
    "            nn.LeakyReLU(),\n",
    "            nn.BatchNorm2d(16),\n",
    "            nn.MaxPool2d(2, 2), \n",
    "            nn.Dropout(0.2),\n",
    "            \n",
    "            ## conv layer 2\n",
    "            nn.Conv2d(16, 32, kernel_size=5, stride=1, padding=1  ),\n",
    "            nn.LeakyReLU(),\n",
    "            nn.BatchNorm2d(32),\n",
    "            nn.MaxPool2d(2, 2), \n",
    "            nn.Dropout(0.2),\n",
    "            \n",
    "            ## conv layer 3\n",
    "            nn.Conv2d(32, 32, kernel_size=5, stride=1, padding=1  ),\n",
    "            nn.LeakyReLU(),\n",
    "            nn.BatchNorm2d(32),\n",
    "            nn.MaxPool2d(2, 2), \n",
    "            nn.Dropout(0.2),\n",
    "              \n",
    "            ## FeedForward\n",
    "            \n",
    "            nn.Flatten()\n",
    ")\n"
   ]
  },
  {
   "cell_type": "code",
   "execution_count": 80,
   "metadata": {},
   "outputs": [
    {
     "data": {
      "text/plain": [
       "torch.Size([16, 128])"
      ]
     },
     "execution_count": 80,
     "metadata": {},
     "output_type": "execute_result"
    }
   ],
   "source": [
    "\n",
    "my_tensor_test   = torch.randn(N_batches_rc, 3, 32,  32)\n",
    "\n",
    "res_actual_model = model_rc(  my_tensor_test   )\n",
    "\n",
    "res_actual_model.shape\n"
   ]
  },
  {
   "cell_type": "code",
   "execution_count": null,
   "metadata": {},
   "outputs": [],
   "source": []
  },
  {
   "cell_type": "code",
   "execution_count": null,
   "metadata": {},
   "outputs": [],
   "source": []
  },
  {
   "cell_type": "code",
   "execution_count": null,
   "metadata": {},
   "outputs": [],
   "source": []
  },
  {
   "cell_type": "code",
   "execution_count": null,
   "metadata": {},
   "outputs": [],
   "source": []
  },
  {
   "cell_type": "code",
   "execution_count": null,
   "metadata": {},
   "outputs": [],
   "source": []
  },
  {
   "cell_type": "code",
   "execution_count": null,
   "metadata": {},
   "outputs": [],
   "source": []
  }
 ],
 "metadata": {
  "kernelspec": {
   "display_name": "Python 3 (ipykernel)",
   "language": "python",
   "name": "python3"
  },
  "language_info": {
   "codemirror_mode": {
    "name": "ipython",
    "version": 3
   },
   "file_extension": ".py",
   "mimetype": "text/x-python",
   "name": "python",
   "nbconvert_exporter": "python",
   "pygments_lexer": "ipython3",
   "version": "3.7.16"
  }
 },
 "nbformat": 4,
 "nbformat_minor": 4
}
