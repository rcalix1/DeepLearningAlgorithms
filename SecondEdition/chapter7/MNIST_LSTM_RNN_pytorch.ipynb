{
 "cells": [
  {
   "cell_type": "markdown",
   "id": "bdc37d47",
   "metadata": {},
   "source": [
    "\n",
    "## MNIST PyTorch - RNN LSTM\n",
    "\n",
    "* Simple recurrent neural network for mnist\n",
    "* To predict the class per 28x28 image, we now think of the image as a sequence of rows. \n",
    "* Therefore, you have 28 rows of 28 pixels each\n"
   ]
  },
  {
   "cell_type": "code",
   "execution_count": 1,
   "id": "79996f37",
   "metadata": {},
   "outputs": [],
   "source": [
    "\n",
    "import torch\n",
    "import numpy as np\n",
    "import os\n",
    "\n",
    "from torchvision import datasets\n",
    "from torchvision import transforms\n",
    "\n",
    "import matplotlib.pyplot as plt\n",
    "import pandas as pd\n",
    "\n",
    "from numpy import genfromtxt\n",
    "\n",
    "from PIL import Image\n"
   ]
  },
  {
   "cell_type": "code",
   "execution_count": 2,
   "id": "a65249f0",
   "metadata": {},
   "outputs": [],
   "source": [
    "\n",
    "import sklearn\n",
    "\n",
    "from sklearn.metrics import confusion_matrix\n",
    "from sklearn.metrics import precision_score, recall_score, accuracy_score, f1_score\n",
    "\n",
    "from mlxtend.plotting import heatmap\n",
    "from sklearn.model_selection import train_test_split\n",
    "\n"
   ]
  },
  {
   "cell_type": "code",
   "execution_count": 3,
   "id": "7cb99fa0",
   "metadata": {},
   "outputs": [],
   "source": [
    "\n",
    "from torch.utils.data import TensorDataset, DataLoader\n",
    "\n",
    "import torch.optim as optim \n",
    "import torch.nn as nn\n",
    "\n",
    "\n",
    "import torch.nn.functional as F\n",
    "\n",
    "from torch.autograd import Variable\n"
   ]
  },
  {
   "cell_type": "markdown",
   "id": "e7311974",
   "metadata": {},
   "source": [
    "\n",
    "## Parameters\n"
   ]
  },
  {
   "cell_type": "code",
   "execution_count": 4,
   "id": "63a2377a",
   "metadata": {},
   "outputs": [],
   "source": [
    "\n",
    "learning_rate    = 0.003  ## Adam default   ## 0.001\n",
    "batch_size       = 1000   ## 32\n",
    "N_Epochs         = 20  ##27000  \n",
    "\n",
    "seq_len          = 28     # MNIST data input (img shape: 28*28)\n",
    "size_of_vector   = 28     # chunks per image\n",
    "rnn_hidden_size  = 128    # size of rnn\n",
    "n_classes        = 10     # MNIST total classes (0-9 digits) ## B\n"
   ]
  },
  {
   "cell_type": "markdown",
   "id": "3427b7db",
   "metadata": {},
   "source": [
    "\n",
    "## Read the data\n"
   ]
  },
  {
   "cell_type": "code",
   "execution_count": 5,
   "id": "8ddea8d6",
   "metadata": {},
   "outputs": [],
   "source": [
    "\n",
    "data_path = \"data/MNISTdata/\"\n",
    "\n",
    "\n",
    "mnist_train = datasets.MNIST(data_path, train=True, download=True)\n"
   ]
  },
  {
   "cell_type": "code",
   "execution_count": 6,
   "id": "76acd73b",
   "metadata": {},
   "outputs": [],
   "source": [
    "\n",
    "mnist_test = datasets.MNIST(data_path, train=False, download=True)\n"
   ]
  },
  {
   "cell_type": "code",
   "execution_count": 7,
   "id": "34c980d1",
   "metadata": {},
   "outputs": [],
   "source": [
    "\n",
    "mnist_train_tr = datasets.MNIST(data_path, train=True, download=False, \n",
    "                                            transform=transforms.Compose([\n",
    "                                                transforms.ToTensor()\n",
    "                                            ]))\n",
    "mnist_test_tr  = datasets.MNIST(data_path, train=False, download=False, \n",
    "                                            transform=transforms.Compose([\n",
    "                                                transforms.ToTensor()\n",
    "                                            ]))\n"
   ]
  },
  {
   "cell_type": "markdown",
   "id": "d60c5f8a",
   "metadata": {},
   "source": [
    "\n",
    "## View the Images\n"
   ]
  },
  {
   "cell_type": "code",
   "execution_count": 8,
   "id": "a289a04c",
   "metadata": {},
   "outputs": [
    {
     "data": {
      "image/png": "[encoded data removed]",
      "text/plain": [
       "<PIL.Image.Image image mode=L size=28x28>"
      ]
     },
     "execution_count": 8,
     "metadata": {},
     "output_type": "execute_result"
    }
   ],
   "source": [
    "\n",
    "Image.fromarray(  mnist_test_tr.data[423].numpy()  ) \n"
   ]
  },
  {
   "cell_type": "code",
   "execution_count": 9,
   "id": "3fc2848c",
   "metadata": {},
   "outputs": [
    {
     "data": {
      "text/plain": [
       "torch.Size([60000, 28, 28])"
      ]
     },
     "execution_count": 9,
     "metadata": {},
     "output_type": "execute_result"
    }
   ],
   "source": [
    "\n",
    "## mnist_train_tr.data = mnist_train_tr.data.view(60000, 1, 28, 28)\n",
    "\n",
    "mnist_train_tr.data.shape\n"
   ]
  },
  {
   "cell_type": "markdown",
   "id": "5f4b5e9f",
   "metadata": {},
   "source": [
    "\n",
    "## Create Data Loaders\n"
   ]
  },
  {
   "cell_type": "code",
   "execution_count": 10,
   "id": "7b504f25",
   "metadata": {},
   "outputs": [
    {
     "data": {
      "text/plain": [
       "torch.Size([60000, 28, 28])"
      ]
     },
     "execution_count": 10,
     "metadata": {},
     "output_type": "execute_result"
    }
   ],
   "source": [
    "\n",
    "mnist_train_tr.data.shape\n"
   ]
  },
  {
   "cell_type": "code",
   "execution_count": 11,
   "id": "37f2f32d",
   "metadata": {},
   "outputs": [
    {
     "data": {
      "text/plain": [
       "torch.Size([10000, 28, 28])"
      ]
     },
     "execution_count": 11,
     "metadata": {},
     "output_type": "execute_result"
    }
   ],
   "source": [
    "\n",
    "mnist_test_tr.data.shape\n"
   ]
  },
  {
   "cell_type": "code",
   "execution_count": 12,
   "id": "1fbe74c4",
   "metadata": {},
   "outputs": [],
   "source": [
    "\n",
    "\n",
    "train_dl  = torch.utils.data.DataLoader(mnist_train_tr, batch_size=batch_size, shuffle=True  ) \n",
    "test_dl   = torch.utils.data.DataLoader(mnist_test_tr,  batch_size=batch_size, shuffle=False ) \n"
   ]
  },
  {
   "cell_type": "markdown",
   "id": "7e41e762",
   "metadata": {},
   "source": [
    "\n",
    "## Utility Functions\n"
   ]
  },
  {
   "cell_type": "code",
   "execution_count": 13,
   "id": "de114a17",
   "metadata": {},
   "outputs": [],
   "source": [
    "\n",
    "def print_metrics_function(y_test, y_pred):\n",
    "    print('Accuracy: %.2f' % accuracy_score(y_test, y_pred))\n",
    "    confmat = confusion_matrix(y_true=y_test, y_pred=y_pred)\n",
    "    print(\"Confusion Matrix:\")\n",
    "    print(confmat)\n",
    "    print('Precision: %.3f' % precision_score(y_true=y_test, y_pred=y_pred, average='weighted'))\n",
    "    print('Recall: %.3f' % recall_score(y_true=y_test, y_pred=y_pred, average='weighted'))\n",
    "    f1_measure = f1_score(y_true=y_test, y_pred=y_pred, average='weighted')\n",
    "    print('F1-mesure: %.3f' % f1_measure)\n",
    "    return f1_measure, confmat \n"
   ]
  },
  {
   "cell_type": "code",
   "execution_count": 14,
   "id": "9e33930a",
   "metadata": {},
   "outputs": [],
   "source": [
    "\n",
    "def plot_metric_per_epoch(the_scores_list):\n",
    "    x_epochs = []\n",
    "    y_epochs = [] \n",
    "    for i, val in enumerate(the_scores_list):\n",
    "        x_epochs.append(i)\n",
    "        y_epochs.append(val)\n",
    "    \n",
    "    plt.scatter(x_epochs, y_epochs,s=50,c='lightgreen', marker='s', label='score')\n",
    "    plt.xlabel('epoch')\n",
    "    plt.ylabel('score')\n",
    "    plt.title('Score per epoch')\n",
    "    plt.legend()\n",
    "    plt.grid()\n",
    "    plt.show()\n"
   ]
  },
  {
   "cell_type": "markdown",
   "id": "56f54762",
   "metadata": {},
   "source": [
    "\n",
    "## Convert Batches to sequence\n",
    "\n",
    "* batch_x has tensors of 28x28 which need to be converted to a sequence\n",
    "* Reshape data to get 28 in seq_len, N_batches, 28 features in vector\n",
    "\n"
   ]
  },
  {
   "cell_type": "code",
   "execution_count": 15,
   "id": "f3b23eeb",
   "metadata": {},
   "outputs": [],
   "source": [
    "## MNIST data input (img shape: 28*28)\n",
    "## seq_len         = 28     \n",
    "## size_of_vector  = 28     \n",
    "## batch_size     \n",
    "\n",
    "## Permute converts to [seq_len=28, batch_size, size_of_vector=28]\n",
    "\n",
    "def make_img_to_sequence(batch_x):\n",
    "      \n",
    "    batch_x_new = batch_x.permute(1, 0, 2)\n",
    "    \n",
    "    return batch_x_new\n"
   ]
  },
  {
   "cell_type": "markdown",
   "id": "4460576a",
   "metadata": {},
   "source": [
    "\n",
    "## Main Loop\n"
   ]
  },
  {
   "cell_type": "code",
   "execution_count": 16,
   "id": "0a03c774",
   "metadata": {},
   "outputs": [],
   "source": [
    "\n",
    "def training_loop( N_Epochs, model, loss_fn, opt  ):\n",
    "    \n",
    "    for epoch in range(N_Epochs):\n",
    "        for xb, yb in train_dl:\n",
    "            \n",
    "            xb = torch.squeeze(xb, dim=1)\n",
    "                        \n",
    "            y_pred = model( xb )\n",
    "\n",
    "            loss   = loss_fn(y_pred, yb)\n",
    "            \n",
    "            opt.zero_grad()\n",
    "            loss.backward()\n",
    "            opt.step()\n",
    "            \n",
    "        if epoch % 1 == 0:\n",
    "            print(epoch, \"loss=\", loss)\n"
   ]
  },
  {
   "cell_type": "markdown",
   "id": "d8754a72",
   "metadata": {},
   "source": [
    "\n",
    "## LSTM Architecture\n"
   ]
  },
  {
   "cell_type": "code",
   "execution_count": 19,
   "id": "fe1c433c",
   "metadata": {},
   "outputs": [],
   "source": [
    "\n",
    "class MNIST_LSTM_Net(nn.Module):\n",
    "    def __init__(self):\n",
    "        super().__init__()\n",
    "        \n",
    "        ##             (  vector_size,  hidden_size, n_layers)\n",
    "        self.lstm              = nn.LSTM( 28,          128,        1)\n",
    "        \n",
    "        self.dropout           = nn.Dropout(0.2)\n",
    "        self.fully_connected   = nn.Linear(128, 10)\n",
    "        \n",
    "    def forward(self, x):\n",
    "        \n",
    "        batch_x_seq   = make_img_to_sequence( x )\n",
    "        h0, c0        = self.init_hidden()      ## the initial hidden state\n",
    "        lstm_o, hn    = self.lstm(x, h0)\n",
    "        lstm_o        = self.dropout(lstm_o)\n",
    "        \n",
    "        out           = self.fully_connected( hn )\n",
    "\n",
    "        ## lstm_o = lstm_o.view(-1, self.hidden_dim)\n",
    "        ## output = self.fc(lstm_o)\n",
    "        \n",
    "        y_pred             = out.view( -1,        10) \n",
    "        \n",
    "        return y_pred\n",
    "\n",
    "    def init_hidden(self):\n",
    "        ## Initial hidden layer in time is all zeros\n",
    "        ##       (n_layers,  batch_size, rnn_hidden_size)\n",
    "        h0 = torch.randn(1,        28,             128)\n",
    "        c0 = torch.randn(1,        28,             128)\n",
    "        return h0, c0\n",
    "\n"
   ]
  },
  {
   "cell_type": "markdown",
   "id": "d049cff5",
   "metadata": {},
   "source": [
    "\n",
    "## Core Functions\n"
   ]
  },
  {
   "cell_type": "code",
   "execution_count": 20,
   "id": "b306df8b",
   "metadata": {},
   "outputs": [
    {
     "ename": "IndexError",
     "evalue": "index 1 is out of bounds for dimension 0 with size 1",
     "output_type": "error",
     "traceback": [
      "\u001b[0;31m---------------------------------------------------------------------------\u001b[0m",
      "\u001b[0;31mIndexError\u001b[0m                                Traceback (most recent call last)",
      "\u001b[0;32m/var/folders/q4/zdsjyw0d297_fn6_fh5n7g9h0000gn/T/ipykernel_25161/3096858181.py\u001b[0m in \u001b[0;36m<module>\u001b[0;34m\u001b[0m\n\u001b[1;32m      5\u001b[0m \u001b[0mopt\u001b[0m       \u001b[0;34m=\u001b[0m \u001b[0mtorch\u001b[0m\u001b[0;34m.\u001b[0m\u001b[0moptim\u001b[0m\u001b[0;34m.\u001b[0m\u001b[0mAdam\u001b[0m\u001b[0;34m(\u001b[0m \u001b[0mmodel\u001b[0m\u001b[0;34m.\u001b[0m\u001b[0mparameters\u001b[0m\u001b[0;34m(\u001b[0m\u001b[0;34m)\u001b[0m\u001b[0;34m,\u001b[0m \u001b[0mlr\u001b[0m\u001b[0;34m=\u001b[0m\u001b[0mlearning_rate\u001b[0m \u001b[0;34m)\u001b[0m\u001b[0;34m\u001b[0m\u001b[0;34m\u001b[0m\u001b[0m\n\u001b[1;32m      6\u001b[0m \u001b[0;34m\u001b[0m\u001b[0m\n\u001b[0;32m----> 7\u001b[0;31m \u001b[0mtraining_loop\u001b[0m\u001b[0;34m(\u001b[0m  \u001b[0mN_Epochs\u001b[0m\u001b[0;34m,\u001b[0m \u001b[0mmodel\u001b[0m\u001b[0;34m,\u001b[0m \u001b[0mloss_fn\u001b[0m\u001b[0;34m,\u001b[0m \u001b[0mopt\u001b[0m  \u001b[0;34m)\u001b[0m\u001b[0;34m\u001b[0m\u001b[0;34m\u001b[0m\u001b[0m\n\u001b[0m\u001b[1;32m      8\u001b[0m \u001b[0;34m\u001b[0m\u001b[0m\n\u001b[1;32m      9\u001b[0m \u001b[0;34m\u001b[0m\u001b[0m\n",
      "\u001b[0;32m/var/folders/q4/zdsjyw0d297_fn6_fh5n7g9h0000gn/T/ipykernel_25161/1665382453.py\u001b[0m in \u001b[0;36mtraining_loop\u001b[0;34m(N_Epochs, model, loss_fn, opt)\u001b[0m\n\u001b[1;32m      6\u001b[0m             \u001b[0mxb\u001b[0m \u001b[0;34m=\u001b[0m \u001b[0mtorch\u001b[0m\u001b[0;34m.\u001b[0m\u001b[0msqueeze\u001b[0m\u001b[0;34m(\u001b[0m\u001b[0mxb\u001b[0m\u001b[0;34m,\u001b[0m \u001b[0mdim\u001b[0m\u001b[0;34m=\u001b[0m\u001b[0;36m1\u001b[0m\u001b[0;34m)\u001b[0m\u001b[0;34m\u001b[0m\u001b[0;34m\u001b[0m\u001b[0m\n\u001b[1;32m      7\u001b[0m \u001b[0;34m\u001b[0m\u001b[0m\n\u001b[0;32m----> 8\u001b[0;31m             \u001b[0my_pred\u001b[0m \u001b[0;34m=\u001b[0m \u001b[0mmodel\u001b[0m\u001b[0;34m(\u001b[0m \u001b[0mxb\u001b[0m \u001b[0;34m)\u001b[0m\u001b[0;34m\u001b[0m\u001b[0;34m\u001b[0m\u001b[0m\n\u001b[0m\u001b[1;32m      9\u001b[0m \u001b[0;34m\u001b[0m\u001b[0m\n\u001b[1;32m     10\u001b[0m             \u001b[0mloss\u001b[0m   \u001b[0;34m=\u001b[0m \u001b[0mloss_fn\u001b[0m\u001b[0;34m(\u001b[0m\u001b[0my_pred\u001b[0m\u001b[0;34m,\u001b[0m \u001b[0myb\u001b[0m\u001b[0;34m)\u001b[0m\u001b[0;34m\u001b[0m\u001b[0;34m\u001b[0m\u001b[0m\n",
      "\u001b[0;32m~/opt/anaconda3/envs/CIVS_py37/lib/python3.7/site-packages/torch/nn/modules/module.py\u001b[0m in \u001b[0;36m_call_impl\u001b[0;34m(self, *input, **kwargs)\u001b[0m\n\u001b[1;32m   1192\u001b[0m         if not (self._backward_hooks or self._forward_hooks or self._forward_pre_hooks or _global_backward_hooks\n\u001b[1;32m   1193\u001b[0m                 or _global_forward_hooks or _global_forward_pre_hooks):\n\u001b[0;32m-> 1194\u001b[0;31m             \u001b[0;32mreturn\u001b[0m \u001b[0mforward_call\u001b[0m\u001b[0;34m(\u001b[0m\u001b[0;34m*\u001b[0m\u001b[0minput\u001b[0m\u001b[0;34m,\u001b[0m \u001b[0;34m**\u001b[0m\u001b[0mkwargs\u001b[0m\u001b[0;34m)\u001b[0m\u001b[0;34m\u001b[0m\u001b[0;34m\u001b[0m\u001b[0m\n\u001b[0m\u001b[1;32m   1195\u001b[0m         \u001b[0;31m# Do not call functions when jit is used\u001b[0m\u001b[0;34m\u001b[0m\u001b[0;34m\u001b[0m\u001b[0;34m\u001b[0m\u001b[0m\n\u001b[1;32m   1196\u001b[0m         \u001b[0mfull_backward_hooks\u001b[0m\u001b[0;34m,\u001b[0m \u001b[0mnon_full_backward_hooks\u001b[0m \u001b[0;34m=\u001b[0m \u001b[0;34m[\u001b[0m\u001b[0;34m]\u001b[0m\u001b[0;34m,\u001b[0m \u001b[0;34m[\u001b[0m\u001b[0;34m]\u001b[0m\u001b[0;34m\u001b[0m\u001b[0;34m\u001b[0m\u001b[0m\n",
      "\u001b[0;32m/var/folders/q4/zdsjyw0d297_fn6_fh5n7g9h0000gn/T/ipykernel_25161/2121887185.py\u001b[0m in \u001b[0;36mforward\u001b[0;34m(self, x)\u001b[0m\n\u001b[1;32m     13\u001b[0m         \u001b[0mbatch_x_seq\u001b[0m   \u001b[0;34m=\u001b[0m \u001b[0mmake_img_to_sequence\u001b[0m\u001b[0;34m(\u001b[0m \u001b[0mx\u001b[0m \u001b[0;34m)\u001b[0m\u001b[0;34m\u001b[0m\u001b[0;34m\u001b[0m\u001b[0m\n\u001b[1;32m     14\u001b[0m         \u001b[0mh0\u001b[0m\u001b[0;34m,\u001b[0m \u001b[0mc0\u001b[0m        \u001b[0;34m=\u001b[0m \u001b[0mself\u001b[0m\u001b[0;34m.\u001b[0m\u001b[0minit_hidden\u001b[0m\u001b[0;34m(\u001b[0m\u001b[0;34m)\u001b[0m      \u001b[0;31m## the initial hidden state\u001b[0m\u001b[0;34m\u001b[0m\u001b[0;34m\u001b[0m\u001b[0m\n\u001b[0;32m---> 15\u001b[0;31m         \u001b[0mlstm_o\u001b[0m\u001b[0;34m,\u001b[0m \u001b[0mhn\u001b[0m    \u001b[0;34m=\u001b[0m \u001b[0mself\u001b[0m\u001b[0;34m.\u001b[0m\u001b[0mlstm\u001b[0m\u001b[0;34m(\u001b[0m\u001b[0mx\u001b[0m\u001b[0;34m,\u001b[0m \u001b[0mh0\u001b[0m\u001b[0;34m)\u001b[0m\u001b[0;34m\u001b[0m\u001b[0;34m\u001b[0m\u001b[0m\n\u001b[0m\u001b[1;32m     16\u001b[0m         \u001b[0mlstm_o\u001b[0m        \u001b[0;34m=\u001b[0m \u001b[0mself\u001b[0m\u001b[0;34m.\u001b[0m\u001b[0mdropout\u001b[0m\u001b[0;34m(\u001b[0m\u001b[0mlstm_o\u001b[0m\u001b[0;34m)\u001b[0m\u001b[0;34m\u001b[0m\u001b[0;34m\u001b[0m\u001b[0m\n\u001b[1;32m     17\u001b[0m \u001b[0;34m\u001b[0m\u001b[0m\n",
      "\u001b[0;32m~/opt/anaconda3/envs/CIVS_py37/lib/python3.7/site-packages/torch/nn/modules/module.py\u001b[0m in \u001b[0;36m_call_impl\u001b[0;34m(self, *input, **kwargs)\u001b[0m\n\u001b[1;32m   1192\u001b[0m         if not (self._backward_hooks or self._forward_hooks or self._forward_pre_hooks or _global_backward_hooks\n\u001b[1;32m   1193\u001b[0m                 or _global_forward_hooks or _global_forward_pre_hooks):\n\u001b[0;32m-> 1194\u001b[0;31m             \u001b[0;32mreturn\u001b[0m \u001b[0mforward_call\u001b[0m\u001b[0;34m(\u001b[0m\u001b[0;34m*\u001b[0m\u001b[0minput\u001b[0m\u001b[0;34m,\u001b[0m \u001b[0;34m**\u001b[0m\u001b[0mkwargs\u001b[0m\u001b[0;34m)\u001b[0m\u001b[0;34m\u001b[0m\u001b[0;34m\u001b[0m\u001b[0m\n\u001b[0m\u001b[1;32m   1195\u001b[0m         \u001b[0;31m# Do not call functions when jit is used\u001b[0m\u001b[0;34m\u001b[0m\u001b[0;34m\u001b[0m\u001b[0;34m\u001b[0m\u001b[0m\n\u001b[1;32m   1196\u001b[0m         \u001b[0mfull_backward_hooks\u001b[0m\u001b[0;34m,\u001b[0m \u001b[0mnon_full_backward_hooks\u001b[0m \u001b[0;34m=\u001b[0m \u001b[0;34m[\u001b[0m\u001b[0;34m]\u001b[0m\u001b[0;34m,\u001b[0m \u001b[0;34m[\u001b[0m\u001b[0;34m]\u001b[0m\u001b[0;34m\u001b[0m\u001b[0;34m\u001b[0m\u001b[0m\n",
      "\u001b[0;32m~/opt/anaconda3/envs/CIVS_py37/lib/python3.7/site-packages/torch/nn/modules/rnn.py\u001b[0m in \u001b[0;36mforward\u001b[0;34m(self, input, hx)\u001b[0m\n\u001b[1;32m    756\u001b[0m                 \u001b[0;32mif\u001b[0m \u001b[0mis_batched\u001b[0m\u001b[0;34m:\u001b[0m\u001b[0;34m\u001b[0m\u001b[0;34m\u001b[0m\u001b[0m\n\u001b[1;32m    757\u001b[0m                     \u001b[0;32mif\u001b[0m \u001b[0;34m(\u001b[0m\u001b[0mhx\u001b[0m\u001b[0;34m[\u001b[0m\u001b[0;36m0\u001b[0m\u001b[0;34m]\u001b[0m\u001b[0;34m.\u001b[0m\u001b[0mdim\u001b[0m\u001b[0;34m(\u001b[0m\u001b[0;34m)\u001b[0m \u001b[0;34m!=\u001b[0m \u001b[0;36m3\u001b[0m \u001b[0;32mor\u001b[0m \u001b[0mhx\u001b[0m\u001b[0;34m[\u001b[0m\u001b[0;36m1\u001b[0m\u001b[0;34m]\u001b[0m\u001b[0;34m.\u001b[0m\u001b[0mdim\u001b[0m\u001b[0;34m(\u001b[0m\u001b[0;34m)\u001b[0m \u001b[0;34m!=\u001b[0m \u001b[0;36m3\u001b[0m\u001b[0;34m)\u001b[0m\u001b[0;34m:\u001b[0m\u001b[0;34m\u001b[0m\u001b[0;34m\u001b[0m\u001b[0m\n\u001b[0;32m--> 758\u001b[0;31m                         msg = (\"For batched 3-D input, hx and cx should \"\n\u001b[0m\u001b[1;32m    759\u001b[0m                                f\"also be 3-D but got ({hx[0].dim()}-D, {hx[1].dim()}-D) tensors\")\n\u001b[1;32m    760\u001b[0m                         \u001b[0;32mraise\u001b[0m \u001b[0mRuntimeError\u001b[0m\u001b[0;34m(\u001b[0m\u001b[0mmsg\u001b[0m\u001b[0;34m)\u001b[0m\u001b[0;34m\u001b[0m\u001b[0;34m\u001b[0m\u001b[0m\n",
      "\u001b[0;31mIndexError\u001b[0m: index 1 is out of bounds for dimension 0 with size 1"
     ]
    }
   ],
   "source": [
    "\n",
    "model     = MNIST_LSTM_Net()\n",
    "\n",
    "loss_fn   = nn.CrossEntropyLoss( )  \n",
    "\n",
    "opt       = torch.optim.Adam( model.parameters(), lr=learning_rate )\n",
    "\n",
    "training_loop(  N_Epochs, model, loss_fn, opt  )\n",
    "    \n",
    "\n"
   ]
  },
  {
   "cell_type": "code",
   "execution_count": null,
   "id": "f86d9fbb",
   "metadata": {},
   "outputs": [],
   "source": [
    "\n",
    "\n",
    "f1_scores_to_plot = []\n",
    "\n",
    "with torch.no_grad():\n",
    "    for xb, yb in test_dl:\n",
    "        \n",
    "        xb = torch.squeeze(xb, dim=1)\n",
    "        \n",
    "        y_pred = model(  xb  )\n",
    "        \n",
    "        vals, indeces = torch.max( y_pred, dim=1  )\n",
    "        preds = indeces\n",
    "        f1, last_conf_mtrx = print_metrics_function(yb, preds)\n",
    "        f1_scores_to_plot.append(f1)\n"
   ]
  },
  {
   "cell_type": "code",
   "execution_count": null,
   "id": "406c1e99",
   "metadata": {},
   "outputs": [],
   "source": [
    "\n",
    "plot_metric_per_epoch(f1_scores_to_plot)\n"
   ]
  },
  {
   "cell_type": "code",
   "execution_count": null,
   "id": "f3f5baee",
   "metadata": {},
   "outputs": [],
   "source": [
    "\n",
    "print(last_conf_mtrx )\n"
   ]
  },
  {
   "cell_type": "code",
   "execution_count": null,
   "id": "8ccd7709",
   "metadata": {},
   "outputs": [],
   "source": [
    "\n",
    "sum(f1_scores_to_plot) / len(f1_scores_to_plot)\n"
   ]
  },
  {
   "cell_type": "code",
   "execution_count": null,
   "id": "f1a03478",
   "metadata": {},
   "outputs": [],
   "source": []
  },
  {
   "cell_type": "markdown",
   "id": "b6abbd91",
   "metadata": {},
   "source": [
    "\n",
    "## LSTM simple example\n"
   ]
  },
  {
   "cell_type": "code",
   "execution_count": 38,
   "id": "fe8322c4",
   "metadata": {},
   "outputs": [],
   "source": [
    "##                (vector_size,  hidden_size,  n_layers)\n",
    "rnn_lstm_rc = nn.LSTM(      28,          128,        1)\n",
    "\n"
   ]
  },
  {
   "cell_type": "code",
   "execution_count": 39,
   "id": "6778adc3",
   "metadata": {},
   "outputs": [
    {
     "data": {
      "text/plain": [
       "torch.Size([28, 1000, 28])"
      ]
     },
     "execution_count": 39,
     "metadata": {},
     "output_type": "execute_result"
    }
   ],
   "source": [
    "## the data needs to be permuted\n",
    "## \n",
    "##                     (seq_len,    batch_size,  vector_size)\n",
    "x_lstm_rc = torch.randn(      28,         1000,           28)\n",
    "\n",
    "x_lstm_rc.shape\n"
   ]
  },
  {
   "cell_type": "code",
   "execution_count": 40,
   "id": "f89dca0c",
   "metadata": {},
   "outputs": [],
   "source": [
    "\n",
    "##            (n_layers,   batch_size,      hidden_size)\n",
    "h0 = torch.randn(     1,            1000,           128)\n",
    "\n",
    "c0 = torch.randn(     1,            1000,           128)\n"
   ]
  },
  {
   "cell_type": "code",
   "execution_count": 41,
   "id": "99ec5cf2",
   "metadata": {},
   "outputs": [],
   "source": [
    "\n",
    "output, (hn, cn) = rnn_lstm_rc(x_lstm_rc, (h0, c0))\n"
   ]
  },
  {
   "cell_type": "code",
   "execution_count": 42,
   "id": "7c401cf3",
   "metadata": {},
   "outputs": [
    {
     "data": {
      "text/plain": [
       "torch.Size([28, 1000, 128])"
      ]
     },
     "execution_count": 42,
     "metadata": {},
     "output_type": "execute_result"
    }
   ],
   "source": [
    "\n",
    "output.shape\n"
   ]
  },
  {
   "cell_type": "code",
   "execution_count": 43,
   "id": "43afcbd1",
   "metadata": {},
   "outputs": [
    {
     "data": {
      "text/plain": [
       "torch.Size([1, 1000, 128])"
      ]
     },
     "execution_count": 43,
     "metadata": {},
     "output_type": "execute_result"
    }
   ],
   "source": [
    "\n",
    "hn.shape\n"
   ]
  },
  {
   "cell_type": "code",
   "execution_count": 44,
   "id": "b45f3f23",
   "metadata": {},
   "outputs": [
    {
     "data": {
      "text/plain": [
       "torch.Size([1, 1000, 128])"
      ]
     },
     "execution_count": 44,
     "metadata": {},
     "output_type": "execute_result"
    }
   ],
   "source": [
    "\n",
    "cn.shape\n"
   ]
  },
  {
   "cell_type": "markdown",
   "id": "ac26344d",
   "metadata": {},
   "source": [
    "\n",
    "## LSTM sequential\n"
   ]
  },
  {
   "cell_type": "code",
   "execution_count": 45,
   "id": "1d2e59da",
   "metadata": {},
   "outputs": [],
   "source": [
    "\n",
    "\n",
    "rc_n_hidden   = 128\n",
    "rc_input_size = 28     \n",
    "rc_n_layers   = 1\n",
    "rc_output     = 10\n"
   ]
  },
  {
   "cell_type": "code",
   "execution_count": 46,
   "id": "72832630",
   "metadata": {},
   "outputs": [],
   "source": [
    "\n",
    "model_lstm_seq = torch.nn.Sequential(\n",
    "    \n",
    "    ##           (        28,      128,           1) \n",
    "    torch.nn.LSTM(rc_input_size, rc_n_hidden, rc_n_layers),\n",
    "    \n",
    "    torch.nn.Dropout(0.2),\n",
    "    \n",
    "    ##             (     128,        10)\n",
    "    torch.nn.Linear(rc_n_hidden, rc_output)\n",
    "    \n",
    ")\n"
   ]
  },
  {
   "cell_type": "code",
   "execution_count": null,
   "id": "b659e8fc",
   "metadata": {},
   "outputs": [],
   "source": []
  },
  {
   "cell_type": "code",
   "execution_count": null,
   "id": "cec1993f",
   "metadata": {},
   "outputs": [],
   "source": []
  },
  {
   "cell_type": "code",
   "execution_count": null,
   "id": "41391cc4",
   "metadata": {},
   "outputs": [],
   "source": []
  },
  {
   "cell_type": "code",
   "execution_count": null,
   "id": "3742648f",
   "metadata": {},
   "outputs": [],
   "source": []
  },
  {
   "cell_type": "code",
   "execution_count": null,
   "id": "8770fe77",
   "metadata": {},
   "outputs": [],
   "source": []
  },
  {
   "cell_type": "code",
   "execution_count": null,
   "id": "52dda90b",
   "metadata": {},
   "outputs": [],
   "source": []
  }
 ],
 "metadata": {
  "kernelspec": {
   "display_name": "Python 3 (ipykernel)",
   "language": "python",
   "name": "python3"
  },
  "language_info": {
   "codemirror_mode": {
    "name": "ipython",
    "version": 3
   },
   "file_extension": ".py",
   "mimetype": "text/x-python",
   "name": "python",
   "nbconvert_exporter": "python",
   "pygments_lexer": "ipython3",
   "version": "3.7.16"
  }
 },
 "nbformat": 4,
 "nbformat_minor": 5
}
